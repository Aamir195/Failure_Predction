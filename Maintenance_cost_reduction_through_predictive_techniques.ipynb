{
  "nbformat": 4,
  "nbformat_minor": 0,
  "metadata": {
    "colab": {
      "provenance": [],
      "mount_file_id": "1PvxlZoyHnYgqi5BpIdEHE6NXltXizQZd",
      "authorship_tag": "ABX9TyPPbOWogzitKTnJg0Hh9bYE",
      "include_colab_link": true
    },
    "kernelspec": {
      "name": "python3",
      "display_name": "Python 3"
    },
    "language_info": {
      "name": "python"
    }
  },
  "cells": [
    {
      "cell_type": "markdown",
      "metadata": {
        "id": "view-in-github",
        "colab_type": "text"
      },
      "source": [
        "<a href=\"https://colab.research.google.com/github/Aamir195/Failure_Predction/blob/main/Maintenance_cost_reduction_through_predictive_techniques.ipynb\" target=\"_parent\"><img src=\"https://colab.research.google.com/assets/colab-badge.svg\" alt=\"Open In Colab\"/></a>"
      ]
    },
    {
      "cell_type": "code",
      "metadata": {
        "id": "D4-oqUNkWDh4",
        "colab": {
          "base_uri": "https://localhost:8080/"
        },
        "outputId": "785932da-8ee9-4407-c0b8-0bfcc1194ca1"
      },
      "source": [
        "## Neccesasary libraries for basic things\n",
        "import numpy as np\n",
        "import pandas as pd\n",
        "import matplotlib.pyplot as plt\n",
        "%matplotlib inline\n",
        "import matplotlib.dates as mdates\n",
        "import seaborn as sns\n",
        "import datetime as datetime\n",
        "from numpy import mean\n",
        "\n",
        "# Libraries for Model Making\n",
        "from sklearn.preprocessing import LabelEncoder\n",
        "from imblearn.under_sampling import EditedNearestNeighbours\n",
        "from sklearn.model_selection import cross_val_score\n",
        "from sklearn.model_selection import cross_validate\n",
        "from sklearn.model_selection import RepeatedStratifiedKFold\n",
        "from imblearn.pipeline import Pipeline\n",
        "from sklearn.ensemble import RandomForestClassifier\n",
        "from imblearn.combine import SMOTEENN\n",
        "from sklearn.model_selection import StratifiedKFold\n",
        "from sklearn.metrics import classification_report, accuracy_score, confusion_matrix\n",
        "\n"
      ],
      "execution_count": null,
      "outputs": [
        {
          "output_type": "stream",
          "name": "stderr",
          "text": [
            "/usr/local/lib/python3.7/dist-packages/sklearn/externals/six.py:31: FutureWarning: The module is deprecated in version 0.21 and will be removed in version 0.23 since we've dropped support for Python 2.7. Please rely on the official version of six (https://pypi.org/project/six/).\n",
            "  \"(https://pypi.org/project/six/).\", FutureWarning)\n",
            "/usr/local/lib/python3.7/dist-packages/sklearn/utils/deprecation.py:144: FutureWarning: The sklearn.neighbors.base module is  deprecated in version 0.22 and will be removed in version 0.24. The corresponding classes / functions should instead be imported from sklearn.neighbors. Anything that cannot be imported from sklearn.neighbors is now part of the private API.\n",
            "  warnings.warn(message, FutureWarning)\n"
          ]
        }
      ]
    },
    {
      "cell_type": "code",
      "metadata": {
        "colab": {
          "base_uri": "https://localhost:8080/"
        },
        "id": "6rol_MS1Zt8H",
        "outputId": "c1350ce0-e8cf-47ba-b27e-7b5092587dc2"
      },
      "source": [
        "## conecring with google drive\n",
        "\n",
        "from google.colab import drive\n",
        "drive.mount('/content/drive')"
      ],
      "execution_count": null,
      "outputs": [
        {
          "output_type": "stream",
          "name": "stdout",
          "text": [
            "Mounted at /content/drive\n"
          ]
        }
      ]
    },
    {
      "cell_type": "code",
      "metadata": {
        "id": "IM-ea2JBZaaH"
      },
      "source": [
        "data = pd.read_csv(\"drive/MyDrive/hack/data.csv\")"
      ],
      "execution_count": null,
      "outputs": []
    },
    {
      "cell_type": "code",
      "metadata": {
        "colab": {
          "base_uri": "https://localhost:8080/",
          "height": 203
        },
        "id": "XYAytxCfaJ9u",
        "outputId": "31f191c2-2945-4115-dd77-ffadeb42c0b5"
      },
      "source": [
        "data.head()"
      ],
      "execution_count": null,
      "outputs": [
        {
          "output_type": "execute_result",
          "data": {
            "text/html": [
              "<div>\n",
              "<style scoped>\n",
              "    .dataframe tbody tr th:only-of-type {\n",
              "        vertical-align: middle;\n",
              "    }\n",
              "\n",
              "    .dataframe tbody tr th {\n",
              "        vertical-align: top;\n",
              "    }\n",
              "\n",
              "    .dataframe thead th {\n",
              "        text-align: right;\n",
              "    }\n",
              "</style>\n",
              "<table border=\"1\" class=\"dataframe\">\n",
              "  <thead>\n",
              "    <tr style=\"text-align: right;\">\n",
              "      <th></th>\n",
              "      <th>date</th>\n",
              "      <th>device</th>\n",
              "      <th>failure</th>\n",
              "      <th>metric1</th>\n",
              "      <th>metric2</th>\n",
              "      <th>metric3</th>\n",
              "      <th>metric4</th>\n",
              "      <th>metric5</th>\n",
              "      <th>metric6</th>\n",
              "      <th>metric7</th>\n",
              "      <th>metric8</th>\n",
              "      <th>metric9</th>\n",
              "    </tr>\n",
              "  </thead>\n",
              "  <tbody>\n",
              "    <tr>\n",
              "      <th>0</th>\n",
              "      <td>1/1/2015</td>\n",
              "      <td>S1F01085</td>\n",
              "      <td>0</td>\n",
              "      <td>215630672</td>\n",
              "      <td>55</td>\n",
              "      <td>0</td>\n",
              "      <td>52</td>\n",
              "      <td>6</td>\n",
              "      <td>407438</td>\n",
              "      <td>0</td>\n",
              "      <td>0</td>\n",
              "      <td>7</td>\n",
              "    </tr>\n",
              "    <tr>\n",
              "      <th>1</th>\n",
              "      <td>1/1/2015</td>\n",
              "      <td>S1F0166B</td>\n",
              "      <td>0</td>\n",
              "      <td>61370680</td>\n",
              "      <td>0</td>\n",
              "      <td>3</td>\n",
              "      <td>0</td>\n",
              "      <td>6</td>\n",
              "      <td>403174</td>\n",
              "      <td>0</td>\n",
              "      <td>0</td>\n",
              "      <td>0</td>\n",
              "    </tr>\n",
              "    <tr>\n",
              "      <th>2</th>\n",
              "      <td>1/1/2015</td>\n",
              "      <td>S1F01E6Y</td>\n",
              "      <td>0</td>\n",
              "      <td>173295968</td>\n",
              "      <td>0</td>\n",
              "      <td>0</td>\n",
              "      <td>0</td>\n",
              "      <td>12</td>\n",
              "      <td>237394</td>\n",
              "      <td>0</td>\n",
              "      <td>0</td>\n",
              "      <td>0</td>\n",
              "    </tr>\n",
              "    <tr>\n",
              "      <th>3</th>\n",
              "      <td>1/1/2015</td>\n",
              "      <td>S1F01JE0</td>\n",
              "      <td>0</td>\n",
              "      <td>79694024</td>\n",
              "      <td>0</td>\n",
              "      <td>0</td>\n",
              "      <td>0</td>\n",
              "      <td>6</td>\n",
              "      <td>410186</td>\n",
              "      <td>0</td>\n",
              "      <td>0</td>\n",
              "      <td>0</td>\n",
              "    </tr>\n",
              "    <tr>\n",
              "      <th>4</th>\n",
              "      <td>1/1/2015</td>\n",
              "      <td>S1F01R2B</td>\n",
              "      <td>0</td>\n",
              "      <td>135970480</td>\n",
              "      <td>0</td>\n",
              "      <td>0</td>\n",
              "      <td>0</td>\n",
              "      <td>15</td>\n",
              "      <td>313173</td>\n",
              "      <td>0</td>\n",
              "      <td>0</td>\n",
              "      <td>3</td>\n",
              "    </tr>\n",
              "  </tbody>\n",
              "</table>\n",
              "</div>"
            ],
            "text/plain": [
              "       date    device  failure    metric1  ...  metric6  metric7  metric8  metric9\n",
              "0  1/1/2015  S1F01085        0  215630672  ...   407438        0        0        7\n",
              "1  1/1/2015  S1F0166B        0   61370680  ...   403174        0        0        0\n",
              "2  1/1/2015  S1F01E6Y        0  173295968  ...   237394        0        0        0\n",
              "3  1/1/2015  S1F01JE0        0   79694024  ...   410186        0        0        0\n",
              "4  1/1/2015  S1F01R2B        0  135970480  ...   313173        0        0        3\n",
              "\n",
              "[5 rows x 12 columns]"
            ]
          },
          "metadata": {},
          "execution_count": 110
        }
      ]
    },
    {
      "cell_type": "code",
      "metadata": {
        "colab": {
          "base_uri": "https://localhost:8080/",
          "height": 317
        },
        "id": "IYnuoi-tZde8",
        "outputId": "22c05f77-086c-486e-93c2-8ee33b90df5f"
      },
      "source": [
        "data.describe()"
      ],
      "execution_count": null,
      "outputs": [
        {
          "output_type": "execute_result",
          "data": {
            "text/html": [
              "<div>\n",
              "<style scoped>\n",
              "    .dataframe tbody tr th:only-of-type {\n",
              "        vertical-align: middle;\n",
              "    }\n",
              "\n",
              "    .dataframe tbody tr th {\n",
              "        vertical-align: top;\n",
              "    }\n",
              "\n",
              "    .dataframe thead th {\n",
              "        text-align: right;\n",
              "    }\n",
              "</style>\n",
              "<table border=\"1\" class=\"dataframe\">\n",
              "  <thead>\n",
              "    <tr style=\"text-align: right;\">\n",
              "      <th></th>\n",
              "      <th>failure</th>\n",
              "      <th>metric1</th>\n",
              "      <th>metric2</th>\n",
              "      <th>metric3</th>\n",
              "      <th>metric4</th>\n",
              "      <th>metric5</th>\n",
              "      <th>metric6</th>\n",
              "      <th>metric7</th>\n",
              "      <th>metric8</th>\n",
              "      <th>metric9</th>\n",
              "    </tr>\n",
              "  </thead>\n",
              "  <tbody>\n",
              "    <tr>\n",
              "      <th>count</th>\n",
              "      <td>124494.000000</td>\n",
              "      <td>1.244940e+05</td>\n",
              "      <td>124494.000000</td>\n",
              "      <td>124494.000000</td>\n",
              "      <td>124494.000000</td>\n",
              "      <td>124494.000000</td>\n",
              "      <td>124494.000000</td>\n",
              "      <td>124494.000000</td>\n",
              "      <td>124494.000000</td>\n",
              "      <td>124494.000000</td>\n",
              "    </tr>\n",
              "    <tr>\n",
              "      <th>mean</th>\n",
              "      <td>0.000851</td>\n",
              "      <td>1.223881e+08</td>\n",
              "      <td>159.492706</td>\n",
              "      <td>9.940897</td>\n",
              "      <td>1.741120</td>\n",
              "      <td>14.222669</td>\n",
              "      <td>260172.657726</td>\n",
              "      <td>0.292528</td>\n",
              "      <td>0.292528</td>\n",
              "      <td>13.013848</td>\n",
              "    </tr>\n",
              "    <tr>\n",
              "      <th>std</th>\n",
              "      <td>0.029167</td>\n",
              "      <td>7.045933e+07</td>\n",
              "      <td>2179.677781</td>\n",
              "      <td>185.748131</td>\n",
              "      <td>22.908507</td>\n",
              "      <td>15.943028</td>\n",
              "      <td>99151.078547</td>\n",
              "      <td>7.436924</td>\n",
              "      <td>7.436924</td>\n",
              "      <td>275.661220</td>\n",
              "    </tr>\n",
              "    <tr>\n",
              "      <th>min</th>\n",
              "      <td>0.000000</td>\n",
              "      <td>0.000000e+00</td>\n",
              "      <td>0.000000</td>\n",
              "      <td>0.000000</td>\n",
              "      <td>0.000000</td>\n",
              "      <td>1.000000</td>\n",
              "      <td>8.000000</td>\n",
              "      <td>0.000000</td>\n",
              "      <td>0.000000</td>\n",
              "      <td>0.000000</td>\n",
              "    </tr>\n",
              "    <tr>\n",
              "      <th>25%</th>\n",
              "      <td>0.000000</td>\n",
              "      <td>6.128476e+07</td>\n",
              "      <td>0.000000</td>\n",
              "      <td>0.000000</td>\n",
              "      <td>0.000000</td>\n",
              "      <td>8.000000</td>\n",
              "      <td>221452.000000</td>\n",
              "      <td>0.000000</td>\n",
              "      <td>0.000000</td>\n",
              "      <td>0.000000</td>\n",
              "    </tr>\n",
              "    <tr>\n",
              "      <th>50%</th>\n",
              "      <td>0.000000</td>\n",
              "      <td>1.227974e+08</td>\n",
              "      <td>0.000000</td>\n",
              "      <td>0.000000</td>\n",
              "      <td>0.000000</td>\n",
              "      <td>10.000000</td>\n",
              "      <td>249799.500000</td>\n",
              "      <td>0.000000</td>\n",
              "      <td>0.000000</td>\n",
              "      <td>0.000000</td>\n",
              "    </tr>\n",
              "    <tr>\n",
              "      <th>75%</th>\n",
              "      <td>0.000000</td>\n",
              "      <td>1.833096e+08</td>\n",
              "      <td>0.000000</td>\n",
              "      <td>0.000000</td>\n",
              "      <td>0.000000</td>\n",
              "      <td>12.000000</td>\n",
              "      <td>310266.000000</td>\n",
              "      <td>0.000000</td>\n",
              "      <td>0.000000</td>\n",
              "      <td>0.000000</td>\n",
              "    </tr>\n",
              "    <tr>\n",
              "      <th>max</th>\n",
              "      <td>1.000000</td>\n",
              "      <td>2.441405e+08</td>\n",
              "      <td>64968.000000</td>\n",
              "      <td>24929.000000</td>\n",
              "      <td>1666.000000</td>\n",
              "      <td>98.000000</td>\n",
              "      <td>689161.000000</td>\n",
              "      <td>832.000000</td>\n",
              "      <td>832.000000</td>\n",
              "      <td>70000.000000</td>\n",
              "    </tr>\n",
              "  </tbody>\n",
              "</table>\n",
              "</div>"
            ],
            "text/plain": [
              "             failure       metric1  ...        metric8        metric9\n",
              "count  124494.000000  1.244940e+05  ...  124494.000000  124494.000000\n",
              "mean        0.000851  1.223881e+08  ...       0.292528      13.013848\n",
              "std         0.029167  7.045933e+07  ...       7.436924     275.661220\n",
              "min         0.000000  0.000000e+00  ...       0.000000       0.000000\n",
              "25%         0.000000  6.128476e+07  ...       0.000000       0.000000\n",
              "50%         0.000000  1.227974e+08  ...       0.000000       0.000000\n",
              "75%         0.000000  1.833096e+08  ...       0.000000       0.000000\n",
              "max         1.000000  2.441405e+08  ...     832.000000   70000.000000\n",
              "\n",
              "[8 rows x 10 columns]"
            ]
          },
          "metadata": {},
          "execution_count": 5
        }
      ]
    },
    {
      "cell_type": "code",
      "metadata": {
        "colab": {
          "base_uri": "https://localhost:8080/"
        },
        "id": "qPONjW7lc_jO",
        "outputId": "ff1a921b-882f-48c0-a326-a1b3d9570254"
      },
      "source": [
        "data.shape"
      ],
      "execution_count": null,
      "outputs": [
        {
          "output_type": "execute_result",
          "data": {
            "text/plain": [
              "(124494, 12)"
            ]
          },
          "metadata": {},
          "execution_count": 111
        }
      ]
    },
    {
      "cell_type": "code",
      "metadata": {
        "colab": {
          "base_uri": "https://localhost:8080/"
        },
        "id": "nzZWgCg1WaU8",
        "outputId": "e38e4d20-4787-4667-f567-35c01e3ed9f4"
      },
      "source": [
        "data.info()"
      ],
      "execution_count": null,
      "outputs": [
        {
          "output_type": "stream",
          "name": "stdout",
          "text": [
            "<class 'pandas.core.frame.DataFrame'>\n",
            "RangeIndex: 124494 entries, 0 to 124493\n",
            "Data columns (total 12 columns):\n",
            " #   Column   Non-Null Count   Dtype \n",
            "---  ------   --------------   ----- \n",
            " 0   date     124494 non-null  object\n",
            " 1   device   124494 non-null  object\n",
            " 2   failure  124494 non-null  int64 \n",
            " 3   metric1  124494 non-null  int64 \n",
            " 4   metric2  124494 non-null  int64 \n",
            " 5   metric3  124494 non-null  int64 \n",
            " 6   metric4  124494 non-null  int64 \n",
            " 7   metric5  124494 non-null  int64 \n",
            " 8   metric6  124494 non-null  int64 \n",
            " 9   metric7  124494 non-null  int64 \n",
            " 10  metric8  124494 non-null  int64 \n",
            " 11  metric9  124494 non-null  int64 \n",
            "dtypes: int64(10), object(2)\n",
            "memory usage: 11.4+ MB\n"
          ]
        }
      ]
    },
    {
      "cell_type": "code",
      "metadata": {
        "colab": {
          "base_uri": "https://localhost:8080/"
        },
        "id": "wHAs9r17ac0n",
        "outputId": "c5df90fc-3749-4c4b-fbd3-72967be121d0"
      },
      "source": [
        "data[\"failure\"].value_counts()"
      ],
      "execution_count": null,
      "outputs": [
        {
          "output_type": "execute_result",
          "data": {
            "text/plain": [
              "0    124388\n",
              "1       106\n",
              "Name: failure, dtype: int64"
            ]
          },
          "metadata": {},
          "execution_count": 113
        }
      ]
    },
    {
      "cell_type": "code",
      "metadata": {
        "id": "wH4Mxa_FqgGa"
      },
      "source": [
        "Dict = {\n",
        "    1 :\"metric1\",\n",
        "    2:\"metric2\",\n",
        "    3:\"metric3\",\n",
        "    4:\"metric4\",\n",
        "    5:\"metric5\",\n",
        "    6:\"metric6\",\n",
        "    7:\"metric7\",\n",
        "    8:\"metric8\",\n",
        "    9:\"metric9\"\n",
        "}"
      ],
      "execution_count": null,
      "outputs": []
    },
    {
      "cell_type": "code",
      "metadata": {
        "colab": {
          "base_uri": "https://localhost:8080/"
        },
        "id": "_d9T7AAJrcE4",
        "outputId": "5829174f-48a8-4186-8bc8-2261d7ec0cd6"
      },
      "source": [
        "numZero =[]\n",
        "for i in Dict:\n",
        "  numZero =(data[Dict[i]]==0).sum()\n",
        "  print(numZero)\n"
      ],
      "execution_count": null,
      "outputs": [
        {
          "output_type": "stream",
          "name": "stdout",
          "text": [
            "11\n",
            "118110\n",
            "115359\n",
            "115156\n",
            "0\n",
            "0\n",
            "123036\n",
            "123036\n",
            "97357\n"
          ]
        }
      ]
    },
    {
      "cell_type": "code",
      "metadata": {
        "colab": {
          "base_uri": "https://localhost:8080/"
        },
        "id": "i-sp2oNPnZZq",
        "outputId": "340a626a-6b51-4a0f-9eb3-43650632eb86"
      },
      "source": [
        "(data['metric1']==0).sum()"
      ],
      "execution_count": null,
      "outputs": [
        {
          "output_type": "execute_result",
          "data": {
            "text/plain": [
              "11"
            ]
          },
          "metadata": {},
          "execution_count": 116
        }
      ]
    },
    {
      "cell_type": "code",
      "metadata": {
        "colab": {
          "base_uri": "https://localhost:8080/"
        },
        "id": "waCyZ7xWbMsm",
        "outputId": "9c0bf902-e349-4c1c-e97a-3a3d4b4c8059"
      },
      "source": [
        "data.nunique()"
      ],
      "execution_count": null,
      "outputs": [
        {
          "output_type": "execute_result",
          "data": {
            "text/plain": [
              "date          304\n",
              "device       1169\n",
              "failure         2\n",
              "metric1    123877\n",
              "metric2       560\n",
              "metric3        48\n",
              "metric4       115\n",
              "metric5        60\n",
              "metric6     44838\n",
              "metric7        28\n",
              "metric8        28\n",
              "metric9        67\n",
              "dtype: int64"
            ]
          },
          "metadata": {},
          "execution_count": 117
        }
      ]
    },
    {
      "cell_type": "code",
      "metadata": {
        "colab": {
          "base_uri": "https://localhost:8080/"
        },
        "id": "20oQVZWohsrW",
        "outputId": "26434e89-5a96-4b9b-8db9-02b52ec1f846"
      },
      "source": [
        "data[\"device\"].nunique()"
      ],
      "execution_count": null,
      "outputs": [
        {
          "output_type": "execute_result",
          "data": {
            "text/plain": [
              "1169"
            ]
          },
          "metadata": {},
          "execution_count": 118
        }
      ]
    },
    {
      "cell_type": "code",
      "metadata": {
        "id": "FzSSLXX6Ymk8"
      },
      "source": [
        "\n",
        "import dateutil"
      ],
      "execution_count": null,
      "outputs": []
    },
    {
      "cell_type": "code",
      "metadata": {
        "id": "hYrrI6_WYbf9"
      },
      "source": [
        "# ============ Dates range ============ #\n",
        "data['date'] = data['date'].apply(dateutil.parser.parse, dayfirst=False)\n",
        "date_min = data.date.min()\n",
        "date_max = data.date.max()"
      ],
      "execution_count": null,
      "outputs": []
    },
    {
      "cell_type": "code",
      "metadata": {
        "colab": {
          "base_uri": "https://localhost:8080/"
        },
        "id": "-OUjOvYCyfNZ",
        "outputId": "e97d8a13-4dcc-42d0-a124-6f1731ac4728"
      },
      "source": [
        "date_min , date_max"
      ],
      "execution_count": null,
      "outputs": [
        {
          "output_type": "execute_result",
          "data": {
            "text/plain": [
              "(Timestamp('2015-01-01 00:00:00'), Timestamp('2015-11-02 00:00:00'))"
            ]
          },
          "metadata": {},
          "execution_count": 184
        }
      ]
    },
    {
      "cell_type": "code",
      "metadata": {
        "id": "CigE0P3dagqE"
      },
      "source": [
        "\n",
        "# ============ Devices range ============ #\n",
        "init_devices = data[data.date == data.date.min()].device.count()  # Number of Initial devices\n",
        "end_devices = data[data.date == data.date.max()].device.count()  # Number of Final devices\n",
        "failed_devices = data.failure.sum()  # Failed devices\n",
        "failure_records = data.failure.count()  # Number of records of Failures (Number of Rows in DF)"
      ],
      "execution_count": null,
      "outputs": []
    },
    {
      "cell_type": "code",
      "metadata": {
        "colab": {
          "base_uri": "https://localhost:8080/"
        },
        "id": "Ad72h6Bnm-So",
        "outputId": "9444b36d-9faa-46bc-fccc-4eb896aede0e"
      },
      "source": [
        "init_devices, end_devices"
      ],
      "execution_count": null,
      "outputs": [
        {
          "output_type": "execute_result",
          "data": {
            "text/plain": [
              "(1163, 31)"
            ]
          },
          "metadata": {},
          "execution_count": 122
        }
      ]
    },
    {
      "cell_type": "code",
      "metadata": {
        "colab": {
          "base_uri": "https://localhost:8080/"
        },
        "id": "JpAQNyVeaqmJ",
        "outputId": "33c93c33-75c1-4282-ac1d-2ce3a7170b5d"
      },
      "source": [
        "failed_devices, failure_records"
      ],
      "execution_count": null,
      "outputs": [
        {
          "output_type": "execute_result",
          "data": {
            "text/plain": [
              "(106, 124494)"
            ]
          },
          "metadata": {},
          "execution_count": 123
        }
      ]
    },
    {
      "cell_type": "code",
      "metadata": {
        "colab": {
          "base_uri": "https://localhost:8080/"
        },
        "id": "34JTSsiYaVnO",
        "outputId": "9ea0e8f0-3282-4a23-a29b-51fcdd6b7b80"
      },
      "source": [
        "# ============ Calculation of Failure rates and survival rates ============ #\n",
        "\n",
        "failure_rate = (failed_devices / failure_records)\n",
        "print('failure rate :' + str(round(failure_rate * 100, 2)) + '%')\n",
        "\n",
        "replace_rate = ((init_devices - end_devices) / init_devices)\n",
        "print('replace_rate: ' + str(round(replace_rate * 100, 2)) + '%')\n",
        "\n",
        "survival_rate = 1 - replace_rate\n",
        "print('survival_rate: '+ str(round(survival_rate * 100, 2)) + '%')"
      ],
      "execution_count": null,
      "outputs": [
        {
          "output_type": "stream",
          "name": "stdout",
          "text": [
            "failure rate :0.09%\n",
            "replace_rate: 97.33%\n",
            "survival_rate: 2.67%\n"
          ]
        }
      ]
    },
    {
      "cell_type": "code",
      "metadata": {
        "id": "J55DkEnAfbPZ"
      },
      "source": [
        "# ============ Graphic Function ============ #\n",
        "def gplot(x, y, xlabel, ylabel, tittle, bar=False):\n",
        "\n",
        "    figure, xplot = plt.subplots()\n",
        "\n",
        "    if bar is True:\n",
        "        index = np.arange(len(x))\n",
        "        xplot.bar(index, y.sort_values())\n",
        "    else:\n",
        "        xplot.plot(x, y)\n",
        "        xplot.xaxis.set_major_locator(mdates.MonthLocator())\n",
        "        xplot.xaxis.set_major_formatter(mdates.DateFormatter('%b %Y'))\n",
        "        xplot.xaxis.set_minor_locator(mdates.DayLocator())\n",
        "        xplot.set_xlim(date_min, date_max)\n",
        "\n",
        "        figure.autofmt_xdate()\n",
        "\n",
        "    plt.ylabel(ylabel, fontsize=5)\n",
        "    plt.xlabel(xlabel, fontsize=5)\n",
        "    plt.title(tittle)\n",
        "\n",
        "    return plt.show()"
      ],
      "execution_count": null,
      "outputs": []
    },
    {
      "cell_type": "code",
      "metadata": {
        "colab": {
          "base_uri": "https://localhost:8080/",
          "height": 292
        },
        "id": "lZg_s55ufQ7P",
        "outputId": "3f4a4526-b7f6-4043-f075-deeb8400c428"
      },
      "source": [
        "\n",
        "# ============ No of Devices each day ============ #\n",
        "\n",
        "devices_per_date = data.groupby('date')[['device']].count()\n",
        "# print(devices_per_date)\n",
        "# Visualise the number of devices per each day\n",
        "gplot(x=devices_per_date.index, y=devices_per_date,\n",
        "      ylabel='No of Devices', xlabel='Date', tittle='Number of Devices Per Day')\n",
        ""
      ],
      "execution_count": null,
      "outputs": [
        {
          "output_type": "display_data",
          "data": {
            "image/png": "[encoded data removed]",
            "text/plain": [
              "<Figure size 432x288 with 1 Axes>"
            ]
          },
          "metadata": {
            "needs_background": "light"
          }
        }
      ]
    },
    {
      "cell_type": "code",
      "metadata": {
        "colab": {
          "base_uri": "https://localhost:8080/",
          "height": 308
        },
        "id": "RAVdrxxSi99H",
        "outputId": "c55c0909-ade9-4b6b-b283-70a76167166c"
      },
      "source": [
        "# create three more features based on date.\n",
        "data.date = pd.to_datetime(data.date)\n",
        "\n",
        "data['activedays']=data.date-data.date[0]\n",
        "\n",
        "data['month']=data['date'].dt.month\n",
        "data['week_day']=data.date.dt.weekday\n",
        "data['week_day'].replace(0,7,inplace=True)\n",
        "data.head()"
      ],
      "execution_count": null,
      "outputs": [
        {
          "output_type": "execute_result",
          "data": {
            "text/html": [
              "<div>\n",
              "<style scoped>\n",
              "    .dataframe tbody tr th:only-of-type {\n",
              "        vertical-align: middle;\n",
              "    }\n",
              "\n",
              "    .dataframe tbody tr th {\n",
              "        vertical-align: top;\n",
              "    }\n",
              "\n",
              "    .dataframe thead th {\n",
              "        text-align: right;\n",
              "    }\n",
              "</style>\n",
              "<table border=\"1\" class=\"dataframe\">\n",
              "  <thead>\n",
              "    <tr style=\"text-align: right;\">\n",
              "      <th></th>\n",
              "      <th>date</th>\n",
              "      <th>device</th>\n",
              "      <th>failure</th>\n",
              "      <th>metric1</th>\n",
              "      <th>metric2</th>\n",
              "      <th>metric3</th>\n",
              "      <th>metric4</th>\n",
              "      <th>metric5</th>\n",
              "      <th>metric6</th>\n",
              "      <th>metric7</th>\n",
              "      <th>metric8</th>\n",
              "      <th>metric9</th>\n",
              "      <th>activedays</th>\n",
              "      <th>month</th>\n",
              "      <th>week_day</th>\n",
              "    </tr>\n",
              "  </thead>\n",
              "  <tbody>\n",
              "    <tr>\n",
              "      <th>0</th>\n",
              "      <td>2015-01-01</td>\n",
              "      <td>S1F01085</td>\n",
              "      <td>0</td>\n",
              "      <td>215630672</td>\n",
              "      <td>55</td>\n",
              "      <td>0</td>\n",
              "      <td>52</td>\n",
              "      <td>6</td>\n",
              "      <td>407438</td>\n",
              "      <td>0</td>\n",
              "      <td>0</td>\n",
              "      <td>7</td>\n",
              "      <td>0 days</td>\n",
              "      <td>1</td>\n",
              "      <td>3</td>\n",
              "    </tr>\n",
              "    <tr>\n",
              "      <th>1</th>\n",
              "      <td>2015-01-01</td>\n",
              "      <td>S1F0166B</td>\n",
              "      <td>0</td>\n",
              "      <td>61370680</td>\n",
              "      <td>0</td>\n",
              "      <td>3</td>\n",
              "      <td>0</td>\n",
              "      <td>6</td>\n",
              "      <td>403174</td>\n",
              "      <td>0</td>\n",
              "      <td>0</td>\n",
              "      <td>0</td>\n",
              "      <td>0 days</td>\n",
              "      <td>1</td>\n",
              "      <td>3</td>\n",
              "    </tr>\n",
              "    <tr>\n",
              "      <th>2</th>\n",
              "      <td>2015-01-01</td>\n",
              "      <td>S1F01E6Y</td>\n",
              "      <td>0</td>\n",
              "      <td>173295968</td>\n",
              "      <td>0</td>\n",
              "      <td>0</td>\n",
              "      <td>0</td>\n",
              "      <td>12</td>\n",
              "      <td>237394</td>\n",
              "      <td>0</td>\n",
              "      <td>0</td>\n",
              "      <td>0</td>\n",
              "      <td>0 days</td>\n",
              "      <td>1</td>\n",
              "      <td>3</td>\n",
              "    </tr>\n",
              "    <tr>\n",
              "      <th>3</th>\n",
              "      <td>2015-01-01</td>\n",
              "      <td>S1F01JE0</td>\n",
              "      <td>0</td>\n",
              "      <td>79694024</td>\n",
              "      <td>0</td>\n",
              "      <td>0</td>\n",
              "      <td>0</td>\n",
              "      <td>6</td>\n",
              "      <td>410186</td>\n",
              "      <td>0</td>\n",
              "      <td>0</td>\n",
              "      <td>0</td>\n",
              "      <td>0 days</td>\n",
              "      <td>1</td>\n",
              "      <td>3</td>\n",
              "    </tr>\n",
              "    <tr>\n",
              "      <th>4</th>\n",
              "      <td>2015-01-01</td>\n",
              "      <td>S1F01R2B</td>\n",
              "      <td>0</td>\n",
              "      <td>135970480</td>\n",
              "      <td>0</td>\n",
              "      <td>0</td>\n",
              "      <td>0</td>\n",
              "      <td>15</td>\n",
              "      <td>313173</td>\n",
              "      <td>0</td>\n",
              "      <td>0</td>\n",
              "      <td>3</td>\n",
              "      <td>0 days</td>\n",
              "      <td>1</td>\n",
              "      <td>3</td>\n",
              "    </tr>\n",
              "  </tbody>\n",
              "</table>\n",
              "</div>"
            ],
            "text/plain": [
              "        date    device  failure    metric1  ...  metric9  activedays  month  week_day\n",
              "0 2015-01-01  S1F01085        0  215630672  ...        7      0 days      1         3\n",
              "1 2015-01-01  S1F0166B        0   61370680  ...        0      0 days      1         3\n",
              "2 2015-01-01  S1F01E6Y        0  173295968  ...        0      0 days      1         3\n",
              "3 2015-01-01  S1F01JE0        0   79694024  ...        0      0 days      1         3\n",
              "4 2015-01-01  S1F01R2B        0  135970480  ...        3      0 days      1         3\n",
              "\n",
              "[5 rows x 15 columns]"
            ]
          },
          "metadata": {},
          "execution_count": 127
        }
      ]
    },
    {
      "cell_type": "code",
      "metadata": {
        "colab": {
          "base_uri": "https://localhost:8080/",
          "height": 296
        },
        "id": "GKewdDcLjmcW",
        "outputId": "4a8c22ba-35fa-42c3-bc69-f2be3549f249"
      },
      "source": [
        "data.groupby(\"month\")[\"failure\"].mean().plot()      ## failed devices per month"
      ],
      "execution_count": null,
      "outputs": [
        {
          "output_type": "execute_result",
          "data": {
            "text/plain": [
              "<matplotlib.axes._subplots.AxesSubplot at 0x7f008f8b1d50>"
            ]
          },
          "metadata": {},
          "execution_count": 128
        },
        {
          "output_type": "display_data",
          "data": {
            "image/png": "[encoded data removed]",
            "text/plain": [
              "<Figure size 432x288 with 1 Axes>"
            ]
          },
          "metadata": {
            "needs_background": "light"
          }
        }
      ]
    },
    {
      "cell_type": "code",
      "metadata": {
        "colab": {
          "base_uri": "https://localhost:8080/",
          "height": 606
        },
        "id": "81Bxk00_mOMW",
        "outputId": "f2f867ba-526e-4e10-88d4-e5930e0d7f0f"
      },
      "source": [
        "plt.figure(figsize=(16, 10))\n",
        "ax = sns.countplot(x=\"month\", hue=\"failure\", data=data)"
      ],
      "execution_count": null,
      "outputs": [
        {
          "output_type": "display_data",
          "data": {
            "image/png": "[encoded data removed]",
            "text/plain": [
              "<Figure size 1152x720 with 1 Axes>"
            ]
          },
          "metadata": {
            "needs_background": "light"
          }
        }
      ]
    },
    {
      "cell_type": "code",
      "metadata": {
        "colab": {
          "base_uri": "https://localhost:8080/"
        },
        "id": "QiEhcli1mkOA",
        "outputId": "b3e3255e-079d-467c-94ce-dafff62bfa70"
      },
      "source": [
        "max(data.date), min(data.date)"
      ],
      "execution_count": null,
      "outputs": [
        {
          "output_type": "execute_result",
          "data": {
            "text/plain": [
              "(Timestamp('2015-11-02 00:00:00'), Timestamp('2015-01-01 00:00:00'))"
            ]
          },
          "metadata": {},
          "execution_count": 130
        }
      ]
    },
    {
      "cell_type": "code",
      "metadata": {
        "colab": {
          "base_uri": "https://localhost:8080/"
        },
        "id": "oePJ6Cw7vhVL",
        "outputId": "9f5dcdbe-3a8d-42cc-db1f-2ff9590c34fa"
      },
      "source": [
        "data.info()"
      ],
      "execution_count": null,
      "outputs": [
        {
          "output_type": "stream",
          "name": "stdout",
          "text": [
            "<class 'pandas.core.frame.DataFrame'>\n",
            "RangeIndex: 124494 entries, 0 to 124493\n",
            "Data columns (total 15 columns):\n",
            " #   Column      Non-Null Count   Dtype          \n",
            "---  ------      --------------   -----          \n",
            " 0   date        124494 non-null  datetime64[ns] \n",
            " 1   device      124494 non-null  object         \n",
            " 2   failure     124494 non-null  int64          \n",
            " 3   metric1     124494 non-null  int64          \n",
            " 4   metric2     124494 non-null  int64          \n",
            " 5   metric3     124494 non-null  int64          \n",
            " 6   metric4     124494 non-null  int64          \n",
            " 7   metric5     124494 non-null  int64          \n",
            " 8   metric6     124494 non-null  int64          \n",
            " 9   metric7     124494 non-null  int64          \n",
            " 10  metric8     124494 non-null  int64          \n",
            " 11  metric9     124494 non-null  int64          \n",
            " 12  activedays  124494 non-null  timedelta64[ns]\n",
            " 13  month       124494 non-null  int64          \n",
            " 14  week_day    124494 non-null  int64          \n",
            "dtypes: datetime64[ns](1), int64(12), object(1), timedelta64[ns](1)\n",
            "memory usage: 14.2+ MB\n"
          ]
        }
      ]
    },
    {
      "cell_type": "code",
      "metadata": {
        "colab": {
          "base_uri": "https://localhost:8080/"
        },
        "id": "oPB-Ve3stla2",
        "outputId": "3324ee88-cf2c-4fe6-897b-dd41c0a8a9ca"
      },
      "source": [
        "data[\"device\"].value_counts()"
      ],
      "execution_count": null,
      "outputs": [
        {
          "output_type": "execute_result",
          "data": {
            "text/plain": [
              "Z1F0KJDS     304\n",
              "S1F0GGPP     304\n",
              "S1F0FGBQ     304\n",
              "S1F0EGMT     304\n",
              "Z1F0GB8A     304\n",
              "            ... \n",
              "Z1F151C1       5\n",
              "Z1F0L4S8       5\n",
              "S1F04KSC       4\n",
              "W1F0WJFT       3\n",
              "W1F1DA5��      1\n",
              "Name: device, Length: 1169, dtype: int64"
            ]
          },
          "metadata": {},
          "execution_count": 133
        }
      ]
    },
    {
      "cell_type": "code",
      "metadata": {
        "colab": {
          "base_uri": "https://localhost:8080/"
        },
        "id": "L7Inu3t3t-zK",
        "outputId": "5c4aaff1-4e63-49f6-cb14-f668c9066126"
      },
      "source": [
        "data.shape"
      ],
      "execution_count": null,
      "outputs": [
        {
          "output_type": "execute_result",
          "data": {
            "text/plain": [
              "(124494, 15)"
            ]
          },
          "metadata": {},
          "execution_count": 134
        }
      ]
    },
    {
      "cell_type": "code",
      "metadata": {
        "colab": {
          "base_uri": "https://localhost:8080/",
          "height": 356
        },
        "id": "RQL2clazrONQ",
        "outputId": "d975fbd2-f025-4d0c-a065-d32492a00130"
      },
      "source": [
        "data[data.device==\"S1F01JE0\"]"
      ],
      "execution_count": null,
      "outputs": [
        {
          "output_type": "execute_result",
          "data": {
            "text/html": [
              "<div>\n",
              "<style scoped>\n",
              "    .dataframe tbody tr th:only-of-type {\n",
              "        vertical-align: middle;\n",
              "    }\n",
              "\n",
              "    .dataframe tbody tr th {\n",
              "        vertical-align: top;\n",
              "    }\n",
              "\n",
              "    .dataframe thead th {\n",
              "        text-align: right;\n",
              "    }\n",
              "</style>\n",
              "<table border=\"1\" class=\"dataframe\">\n",
              "  <thead>\n",
              "    <tr style=\"text-align: right;\">\n",
              "      <th></th>\n",
              "      <th>date</th>\n",
              "      <th>device</th>\n",
              "      <th>failure</th>\n",
              "      <th>metric1</th>\n",
              "      <th>metric2</th>\n",
              "      <th>metric3</th>\n",
              "      <th>metric4</th>\n",
              "      <th>metric5</th>\n",
              "      <th>metric6</th>\n",
              "      <th>metric7</th>\n",
              "      <th>metric8</th>\n",
              "      <th>metric9</th>\n",
              "      <th>activedays</th>\n",
              "      <th>month</th>\n",
              "      <th>week_day</th>\n",
              "    </tr>\n",
              "  </thead>\n",
              "  <tbody>\n",
              "    <tr>\n",
              "      <th>3</th>\n",
              "      <td>2015-01-01</td>\n",
              "      <td>S1F01JE0</td>\n",
              "      <td>0</td>\n",
              "      <td>79694024</td>\n",
              "      <td>0</td>\n",
              "      <td>0</td>\n",
              "      <td>0</td>\n",
              "      <td>6</td>\n",
              "      <td>410186</td>\n",
              "      <td>0</td>\n",
              "      <td>0</td>\n",
              "      <td>0</td>\n",
              "      <td>0 days</td>\n",
              "      <td>1</td>\n",
              "      <td>3</td>\n",
              "    </tr>\n",
              "    <tr>\n",
              "      <th>1166</th>\n",
              "      <td>2015-01-02</td>\n",
              "      <td>S1F01JE0</td>\n",
              "      <td>0</td>\n",
              "      <td>109398680</td>\n",
              "      <td>0</td>\n",
              "      <td>0</td>\n",
              "      <td>0</td>\n",
              "      <td>6</td>\n",
              "      <td>410186</td>\n",
              "      <td>0</td>\n",
              "      <td>0</td>\n",
              "      <td>0</td>\n",
              "      <td>1 days</td>\n",
              "      <td>1</td>\n",
              "      <td>4</td>\n",
              "    </tr>\n",
              "    <tr>\n",
              "      <th>2329</th>\n",
              "      <td>2015-01-03</td>\n",
              "      <td>S1F01JE0</td>\n",
              "      <td>0</td>\n",
              "      <td>235562856</td>\n",
              "      <td>0</td>\n",
              "      <td>0</td>\n",
              "      <td>0</td>\n",
              "      <td>6</td>\n",
              "      <td>410186</td>\n",
              "      <td>0</td>\n",
              "      <td>0</td>\n",
              "      <td>0</td>\n",
              "      <td>2 days</td>\n",
              "      <td>1</td>\n",
              "      <td>5</td>\n",
              "    </tr>\n",
              "    <tr>\n",
              "      <th>3492</th>\n",
              "      <td>2015-01-04</td>\n",
              "      <td>S1F01JE0</td>\n",
              "      <td>0</td>\n",
              "      <td>235473648</td>\n",
              "      <td>0</td>\n",
              "      <td>0</td>\n",
              "      <td>0</td>\n",
              "      <td>6</td>\n",
              "      <td>410188</td>\n",
              "      <td>0</td>\n",
              "      <td>0</td>\n",
              "      <td>0</td>\n",
              "      <td>3 days</td>\n",
              "      <td>1</td>\n",
              "      <td>6</td>\n",
              "    </tr>\n",
              "    <tr>\n",
              "      <th>4654</th>\n",
              "      <td>2015-01-05</td>\n",
              "      <td>S1F01JE0</td>\n",
              "      <td>0</td>\n",
              "      <td>158246712</td>\n",
              "      <td>0</td>\n",
              "      <td>0</td>\n",
              "      <td>0</td>\n",
              "      <td>6</td>\n",
              "      <td>410888</td>\n",
              "      <td>0</td>\n",
              "      <td>0</td>\n",
              "      <td>0</td>\n",
              "      <td>4 days</td>\n",
              "      <td>1</td>\n",
              "      <td>7</td>\n",
              "    </tr>\n",
              "    <tr>\n",
              "      <th>5815</th>\n",
              "      <td>2015-01-06</td>\n",
              "      <td>S1F01JE0</td>\n",
              "      <td>0</td>\n",
              "      <td>185424928</td>\n",
              "      <td>0</td>\n",
              "      <td>0</td>\n",
              "      <td>0</td>\n",
              "      <td>6</td>\n",
              "      <td>412151</td>\n",
              "      <td>0</td>\n",
              "      <td>0</td>\n",
              "      <td>0</td>\n",
              "      <td>5 days</td>\n",
              "      <td>1</td>\n",
              "      <td>1</td>\n",
              "    </tr>\n",
              "  </tbody>\n",
              "</table>\n",
              "</div>"
            ],
            "text/plain": [
              "           date    device  failure  ...  activedays  month  week_day\n",
              "3    2015-01-01  S1F01JE0        0  ...      0 days      1         3\n",
              "1166 2015-01-02  S1F01JE0        0  ...      1 days      1         4\n",
              "2329 2015-01-03  S1F01JE0        0  ...      2 days      1         5\n",
              "3492 2015-01-04  S1F01JE0        0  ...      3 days      1         6\n",
              "4654 2015-01-05  S1F01JE0        0  ...      4 days      1         7\n",
              "5815 2015-01-06  S1F01JE0        0  ...      5 days      1         1\n",
              "\n",
              "[6 rows x 15 columns]"
            ]
          },
          "metadata": {},
          "execution_count": 136
        }
      ]
    },
    {
      "cell_type": "code",
      "metadata": {
        "colab": {
          "base_uri": "https://localhost:8080/",
          "height": 450
        },
        "id": "7-z0e4fbkTGi",
        "outputId": "539b0732-532c-4f03-8c1c-622fe9439f82"
      },
      "source": [
        "plt.figure(figsize=(15, 7))\n",
        "corr = data.corr()\n",
        "sns.heatmap(corr , annot=True, cmap=\"tab20\")\n",
        "\n",
        "## High co-relation between metric7 and metric8"
      ],
      "execution_count": null,
      "outputs": [
        {
          "output_type": "execute_result",
          "data": {
            "text/plain": [
              "<matplotlib.axes._subplots.AxesSubplot at 0x7f00830fd190>"
            ]
          },
          "metadata": {},
          "execution_count": 131
        },
        {
          "output_type": "display_data",
          "data": {
            "image/png": "[encoded data removed]",
            "text/plain": [
              "<Figure size 1080x504 with 2 Axes>"
            ]
          },
          "metadata": {
            "needs_background": "light"
          }
        }
      ]
    },
    {
      "cell_type": "code",
      "metadata": {
        "id": "6imxP5TDwGVr"
      },
      "source": [
        "## Last recoard of the device\n",
        "df1 = data.groupby('device').agg({'date':max})"
      ],
      "execution_count": null,
      "outputs": []
    },
    {
      "cell_type": "code",
      "metadata": {
        "colab": {
          "base_uri": "https://localhost:8080/"
        },
        "id": "ySo2DYKuwQeE",
        "outputId": "083d5208-4b91-4bc2-9400-f55c820baac0"
      },
      "source": [
        "df1.shape"
      ],
      "execution_count": null,
      "outputs": [
        {
          "output_type": "execute_result",
          "data": {
            "text/plain": [
              "(1169, 1)"
            ]
          },
          "metadata": {},
          "execution_count": 138
        }
      ]
    },
    {
      "cell_type": "code",
      "metadata": {
        "id": "eMX6jM9GwTuE"
      },
      "source": [
        "df1 = df1.reset_index()"
      ],
      "execution_count": null,
      "outputs": []
    },
    {
      "cell_type": "code",
      "metadata": {
        "id": "Tpg5FTb-woVS"
      },
      "source": [
        "data = data.reset_index(drop=True)"
      ],
      "execution_count": null,
      "outputs": []
    },
    {
      "cell_type": "code",
      "metadata": {
        "colab": {
          "base_uri": "https://localhost:8080/",
          "height": 308
        },
        "id": "2ahpxTOkwvVK",
        "outputId": "9d87d054-32cd-46bb-a3db-899f97c82051"
      },
      "source": [
        "data.tail()"
      ],
      "execution_count": null,
      "outputs": [
        {
          "output_type": "execute_result",
          "data": {
            "text/html": [
              "<div>\n",
              "<style scoped>\n",
              "    .dataframe tbody tr th:only-of-type {\n",
              "        vertical-align: middle;\n",
              "    }\n",
              "\n",
              "    .dataframe tbody tr th {\n",
              "        vertical-align: top;\n",
              "    }\n",
              "\n",
              "    .dataframe thead th {\n",
              "        text-align: right;\n",
              "    }\n",
              "</style>\n",
              "<table border=\"1\" class=\"dataframe\">\n",
              "  <thead>\n",
              "    <tr style=\"text-align: right;\">\n",
              "      <th></th>\n",
              "      <th>date</th>\n",
              "      <th>device</th>\n",
              "      <th>failure</th>\n",
              "      <th>metric1</th>\n",
              "      <th>metric2</th>\n",
              "      <th>metric3</th>\n",
              "      <th>metric4</th>\n",
              "      <th>metric5</th>\n",
              "      <th>metric6</th>\n",
              "      <th>metric7</th>\n",
              "      <th>metric8</th>\n",
              "      <th>metric9</th>\n",
              "      <th>activedays</th>\n",
              "      <th>month</th>\n",
              "      <th>week_day</th>\n",
              "    </tr>\n",
              "  </thead>\n",
              "  <tbody>\n",
              "    <tr>\n",
              "      <th>124489</th>\n",
              "      <td>2015-11-02</td>\n",
              "      <td>Z1F0MA1S</td>\n",
              "      <td>0</td>\n",
              "      <td>18310224</td>\n",
              "      <td>0</td>\n",
              "      <td>0</td>\n",
              "      <td>0</td>\n",
              "      <td>10</td>\n",
              "      <td>353705</td>\n",
              "      <td>8</td>\n",
              "      <td>8</td>\n",
              "      <td>0</td>\n",
              "      <td>305 days</td>\n",
              "      <td>11</td>\n",
              "      <td>7</td>\n",
              "    </tr>\n",
              "    <tr>\n",
              "      <th>124490</th>\n",
              "      <td>2015-11-02</td>\n",
              "      <td>Z1F0Q8RT</td>\n",
              "      <td>0</td>\n",
              "      <td>172556680</td>\n",
              "      <td>96</td>\n",
              "      <td>107</td>\n",
              "      <td>4</td>\n",
              "      <td>11</td>\n",
              "      <td>332792</td>\n",
              "      <td>0</td>\n",
              "      <td>0</td>\n",
              "      <td>13</td>\n",
              "      <td>305 days</td>\n",
              "      <td>11</td>\n",
              "      <td>7</td>\n",
              "    </tr>\n",
              "    <tr>\n",
              "      <th>124491</th>\n",
              "      <td>2015-11-02</td>\n",
              "      <td>Z1F0QK05</td>\n",
              "      <td>0</td>\n",
              "      <td>19029120</td>\n",
              "      <td>4832</td>\n",
              "      <td>0</td>\n",
              "      <td>0</td>\n",
              "      <td>11</td>\n",
              "      <td>350410</td>\n",
              "      <td>0</td>\n",
              "      <td>0</td>\n",
              "      <td>0</td>\n",
              "      <td>305 days</td>\n",
              "      <td>11</td>\n",
              "      <td>7</td>\n",
              "    </tr>\n",
              "    <tr>\n",
              "      <th>124492</th>\n",
              "      <td>2015-11-02</td>\n",
              "      <td>Z1F0QL3N</td>\n",
              "      <td>0</td>\n",
              "      <td>226953408</td>\n",
              "      <td>0</td>\n",
              "      <td>0</td>\n",
              "      <td>0</td>\n",
              "      <td>12</td>\n",
              "      <td>358980</td>\n",
              "      <td>0</td>\n",
              "      <td>0</td>\n",
              "      <td>0</td>\n",
              "      <td>305 days</td>\n",
              "      <td>11</td>\n",
              "      <td>7</td>\n",
              "    </tr>\n",
              "    <tr>\n",
              "      <th>124493</th>\n",
              "      <td>2015-11-02</td>\n",
              "      <td>Z1F0QLC1</td>\n",
              "      <td>0</td>\n",
              "      <td>17572840</td>\n",
              "      <td>0</td>\n",
              "      <td>0</td>\n",
              "      <td>0</td>\n",
              "      <td>10</td>\n",
              "      <td>351431</td>\n",
              "      <td>0</td>\n",
              "      <td>0</td>\n",
              "      <td>70000</td>\n",
              "      <td>305 days</td>\n",
              "      <td>11</td>\n",
              "      <td>7</td>\n",
              "    </tr>\n",
              "  </tbody>\n",
              "</table>\n",
              "</div>"
            ],
            "text/plain": [
              "             date    device  failure  ...  activedays  month  week_day\n",
              "124489 2015-11-02  Z1F0MA1S        0  ...    305 days     11         7\n",
              "124490 2015-11-02  Z1F0Q8RT        0  ...    305 days     11         7\n",
              "124491 2015-11-02  Z1F0QK05        0  ...    305 days     11         7\n",
              "124492 2015-11-02  Z1F0QL3N        0  ...    305 days     11         7\n",
              "124493 2015-11-02  Z1F0QLC1        0  ...    305 days     11         7\n",
              "\n",
              "[5 rows x 15 columns]"
            ]
          },
          "metadata": {},
          "execution_count": 141
        }
      ]
    },
    {
      "cell_type": "code",
      "metadata": {
        "colab": {
          "base_uri": "https://localhost:8080/"
        },
        "id": "lIkSWMDsw2VS",
        "outputId": "607bcd1e-93cb-4708-d90c-0108eb0c4442"
      },
      "source": [
        "df= pd.merge(df1,data,how='left',on=['device','date'])\n",
        "\n",
        "df.shape"
      ],
      "execution_count": null,
      "outputs": [
        {
          "output_type": "execute_result",
          "data": {
            "text/plain": [
              "(1169, 15)"
            ]
          },
          "metadata": {},
          "execution_count": 294
        }
      ]
    },
    {
      "cell_type": "code",
      "metadata": {
        "colab": {
          "base_uri": "https://localhost:8080/",
          "height": 692
        },
        "id": "j4noYZxu9Rmp",
        "outputId": "677df26f-bcc4-4794-a384-a94006999a87"
      },
      "source": [
        "df.head(13)"
      ],
      "execution_count": null,
      "outputs": [
        {
          "output_type": "execute_result",
          "data": {
            "text/html": [
              "<div>\n",
              "<style scoped>\n",
              "    .dataframe tbody tr th:only-of-type {\n",
              "        vertical-align: middle;\n",
              "    }\n",
              "\n",
              "    .dataframe tbody tr th {\n",
              "        vertical-align: top;\n",
              "    }\n",
              "\n",
              "    .dataframe thead th {\n",
              "        text-align: right;\n",
              "    }\n",
              "</style>\n",
              "<table border=\"1\" class=\"dataframe\">\n",
              "  <thead>\n",
              "    <tr style=\"text-align: right;\">\n",
              "      <th></th>\n",
              "      <th>device</th>\n",
              "      <th>date</th>\n",
              "      <th>failure</th>\n",
              "      <th>metric1</th>\n",
              "      <th>metric2</th>\n",
              "      <th>metric3</th>\n",
              "      <th>metric4</th>\n",
              "      <th>metric5</th>\n",
              "      <th>metric6</th>\n",
              "      <th>metric7</th>\n",
              "      <th>metric8</th>\n",
              "      <th>metric9</th>\n",
              "      <th>activedays</th>\n",
              "      <th>month</th>\n",
              "      <th>week_day</th>\n",
              "    </tr>\n",
              "  </thead>\n",
              "  <tbody>\n",
              "    <tr>\n",
              "      <th>0</th>\n",
              "      <td>S1F01085</td>\n",
              "      <td>2015-01-06</td>\n",
              "      <td>0</td>\n",
              "      <td>128832128</td>\n",
              "      <td>56</td>\n",
              "      <td>0</td>\n",
              "      <td>52</td>\n",
              "      <td>6</td>\n",
              "      <td>409404</td>\n",
              "      <td>0</td>\n",
              "      <td>0</td>\n",
              "      <td>7</td>\n",
              "      <td>5 days</td>\n",
              "      <td>1</td>\n",
              "      <td>1</td>\n",
              "    </tr>\n",
              "    <tr>\n",
              "      <th>1</th>\n",
              "      <td>S1F013BB</td>\n",
              "      <td>2015-05-11</td>\n",
              "      <td>0</td>\n",
              "      <td>115676688</td>\n",
              "      <td>0</td>\n",
              "      <td>0</td>\n",
              "      <td>0</td>\n",
              "      <td>5</td>\n",
              "      <td>689161</td>\n",
              "      <td>0</td>\n",
              "      <td>0</td>\n",
              "      <td>0</td>\n",
              "      <td>130 days</td>\n",
              "      <td>5</td>\n",
              "      <td>7</td>\n",
              "    </tr>\n",
              "    <tr>\n",
              "      <th>2</th>\n",
              "      <td>S1F0166B</td>\n",
              "      <td>2015-01-06</td>\n",
              "      <td>0</td>\n",
              "      <td>7441792</td>\n",
              "      <td>0</td>\n",
              "      <td>3</td>\n",
              "      <td>0</td>\n",
              "      <td>6</td>\n",
              "      <td>404786</td>\n",
              "      <td>0</td>\n",
              "      <td>0</td>\n",
              "      <td>0</td>\n",
              "      <td>5 days</td>\n",
              "      <td>1</td>\n",
              "      <td>1</td>\n",
              "    </tr>\n",
              "    <tr>\n",
              "      <th>3</th>\n",
              "      <td>S1F01E6Y</td>\n",
              "      <td>2015-02-17</td>\n",
              "      <td>0</td>\n",
              "      <td>147350000</td>\n",
              "      <td>0</td>\n",
              "      <td>0</td>\n",
              "      <td>0</td>\n",
              "      <td>12</td>\n",
              "      <td>259491</td>\n",
              "      <td>0</td>\n",
              "      <td>0</td>\n",
              "      <td>0</td>\n",
              "      <td>47 days</td>\n",
              "      <td>2</td>\n",
              "      <td>1</td>\n",
              "    </tr>\n",
              "    <tr>\n",
              "      <th>4</th>\n",
              "      <td>S1F01JE0</td>\n",
              "      <td>2015-01-06</td>\n",
              "      <td>0</td>\n",
              "      <td>185424928</td>\n",
              "      <td>0</td>\n",
              "      <td>0</td>\n",
              "      <td>0</td>\n",
              "      <td>6</td>\n",
              "      <td>412151</td>\n",
              "      <td>0</td>\n",
              "      <td>0</td>\n",
              "      <td>0</td>\n",
              "      <td>5 days</td>\n",
              "      <td>1</td>\n",
              "      <td>1</td>\n",
              "    </tr>\n",
              "    <tr>\n",
              "      <th>5</th>\n",
              "      <td>S1F01R2B</td>\n",
              "      <td>2015-08-24</td>\n",
              "      <td>0</td>\n",
              "      <td>45858720</td>\n",
              "      <td>0</td>\n",
              "      <td>0</td>\n",
              "      <td>0</td>\n",
              "      <td>19</td>\n",
              "      <td>344875</td>\n",
              "      <td>0</td>\n",
              "      <td>0</td>\n",
              "      <td>3</td>\n",
              "      <td>235 days</td>\n",
              "      <td>8</td>\n",
              "      <td>7</td>\n",
              "    </tr>\n",
              "    <tr>\n",
              "      <th>6</th>\n",
              "      <td>S1F01TD5</td>\n",
              "      <td>2015-01-06</td>\n",
              "      <td>0</td>\n",
              "      <td>21103248</td>\n",
              "      <td>0</td>\n",
              "      <td>0</td>\n",
              "      <td>41</td>\n",
              "      <td>6</td>\n",
              "      <td>415259</td>\n",
              "      <td>0</td>\n",
              "      <td>0</td>\n",
              "      <td>1</td>\n",
              "      <td>5 days</td>\n",
              "      <td>1</td>\n",
              "      <td>1</td>\n",
              "    </tr>\n",
              "    <tr>\n",
              "      <th>7</th>\n",
              "      <td>S1F01XDJ</td>\n",
              "      <td>2015-04-16</td>\n",
              "      <td>0</td>\n",
              "      <td>240833760</td>\n",
              "      <td>0</td>\n",
              "      <td>0</td>\n",
              "      <td>0</td>\n",
              "      <td>8</td>\n",
              "      <td>429340</td>\n",
              "      <td>0</td>\n",
              "      <td>0</td>\n",
              "      <td>0</td>\n",
              "      <td>105 days</td>\n",
              "      <td>4</td>\n",
              "      <td>3</td>\n",
              "    </tr>\n",
              "    <tr>\n",
              "      <th>8</th>\n",
              "      <td>S1F023H2</td>\n",
              "      <td>2015-01-19</td>\n",
              "      <td>1</td>\n",
              "      <td>64499464</td>\n",
              "      <td>0</td>\n",
              "      <td>0</td>\n",
              "      <td>1</td>\n",
              "      <td>19</td>\n",
              "      <td>514661</td>\n",
              "      <td>16</td>\n",
              "      <td>16</td>\n",
              "      <td>3</td>\n",
              "      <td>18 days</td>\n",
              "      <td>1</td>\n",
              "      <td>7</td>\n",
              "    </tr>\n",
              "    <tr>\n",
              "      <th>9</th>\n",
              "      <td>S1F02A0J</td>\n",
              "      <td>2015-08-28</td>\n",
              "      <td>0</td>\n",
              "      <td>145708992</td>\n",
              "      <td>0</td>\n",
              "      <td>1</td>\n",
              "      <td>0</td>\n",
              "      <td>16</td>\n",
              "      <td>355584</td>\n",
              "      <td>0</td>\n",
              "      <td>0</td>\n",
              "      <td>0</td>\n",
              "      <td>239 days</td>\n",
              "      <td>8</td>\n",
              "      <td>4</td>\n",
              "    </tr>\n",
              "    <tr>\n",
              "      <th>10</th>\n",
              "      <td>S1F02DZ2</td>\n",
              "      <td>2015-01-06</td>\n",
              "      <td>0</td>\n",
              "      <td>94706136</td>\n",
              "      <td>0</td>\n",
              "      <td>323</td>\n",
              "      <td>9</td>\n",
              "      <td>9</td>\n",
              "      <td>409747</td>\n",
              "      <td>0</td>\n",
              "      <td>0</td>\n",
              "      <td>164</td>\n",
              "      <td>5 days</td>\n",
              "      <td>1</td>\n",
              "      <td>1</td>\n",
              "    </tr>\n",
              "    <tr>\n",
              "      <th>11</th>\n",
              "      <td>S1F02EVN</td>\n",
              "      <td>2015-01-06</td>\n",
              "      <td>0</td>\n",
              "      <td>26603600</td>\n",
              "      <td>0</td>\n",
              "      <td>0</td>\n",
              "      <td>0</td>\n",
              "      <td>7</td>\n",
              "      <td>390654</td>\n",
              "      <td>0</td>\n",
              "      <td>0</td>\n",
              "      <td>1</td>\n",
              "      <td>5 days</td>\n",
              "      <td>1</td>\n",
              "      <td>1</td>\n",
              "    </tr>\n",
              "    <tr>\n",
              "      <th>12</th>\n",
              "      <td>S1F02L38</td>\n",
              "      <td>2015-03-27</td>\n",
              "      <td>0</td>\n",
              "      <td>4760296</td>\n",
              "      <td>0</td>\n",
              "      <td>0</td>\n",
              "      <td>0</td>\n",
              "      <td>2</td>\n",
              "      <td>242392</td>\n",
              "      <td>0</td>\n",
              "      <td>0</td>\n",
              "      <td>8</td>\n",
              "      <td>85 days</td>\n",
              "      <td>3</td>\n",
              "      <td>4</td>\n",
              "    </tr>\n",
              "  </tbody>\n",
              "</table>\n",
              "</div>"
            ],
            "text/plain": [
              "      device       date  failure  ...  activedays  month  week_day\n",
              "0   S1F01085 2015-01-06        0  ...      5 days      1         1\n",
              "1   S1F013BB 2015-05-11        0  ...    130 days      5         7\n",
              "2   S1F0166B 2015-01-06        0  ...      5 days      1         1\n",
              "3   S1F01E6Y 2015-02-17        0  ...     47 days      2         1\n",
              "4   S1F01JE0 2015-01-06        0  ...      5 days      1         1\n",
              "5   S1F01R2B 2015-08-24        0  ...    235 days      8         7\n",
              "6   S1F01TD5 2015-01-06        0  ...      5 days      1         1\n",
              "7   S1F01XDJ 2015-04-16        0  ...    105 days      4         3\n",
              "8   S1F023H2 2015-01-19        1  ...     18 days      1         7\n",
              "9   S1F02A0J 2015-08-28        0  ...    239 days      8         4\n",
              "10  S1F02DZ2 2015-01-06        0  ...      5 days      1         1\n",
              "11  S1F02EVN 2015-01-06        0  ...      5 days      1         1\n",
              "12  S1F02L38 2015-03-27        0  ...     85 days      3         4\n",
              "\n",
              "[13 rows x 15 columns]"
            ]
          },
          "metadata": {},
          "execution_count": 143
        }
      ]
    },
    {
      "cell_type": "code",
      "metadata": {
        "colab": {
          "base_uri": "https://localhost:8080/",
          "height": 568
        },
        "id": "qzzCrTpExJbb",
        "outputId": "60b9757e-ef77-4a0b-be5d-31ba0250cbd3"
      },
      "source": [
        "f, ax = plt.subplots(1, 2, figsize = (18, 8))\n",
        "df['failure'].value_counts().plot.pie(colors = ['#ff7f50', '#ff4500'], explode = [0, 0.1], autopct = '%1.1f%%', ax = ax[0],shadow = True)\n",
        "ax[0].set_title('failure %')\n",
        "ax[0].set_ylabel('')\n",
        "sns.countplot('failure', data = df, ax = ax[1], palette='Reds_r', )\n",
        "ax[1].set_title('failure graph')\n",
        "plt.legend([\"Not Failed\"])\n",
        "# plt.legend([\"failed\"])\n",
        "plt.show()"
      ],
      "execution_count": null,
      "outputs": [
        {
          "output_type": "stream",
          "name": "stderr",
          "text": [
            "/usr/local/lib/python3.7/dist-packages/seaborn/_decorators.py:43: FutureWarning: Pass the following variable as a keyword arg: x. From version 0.12, the only valid positional argument will be `data`, and passing other arguments without an explicit keyword will result in an error or misinterpretation.\n",
            "  FutureWarning\n"
          ]
        },
        {
          "output_type": "display_data",
          "data": {
            "image/png": "[encoded data removed]",
            "text/plain": [
              "<Figure size 1296x576 with 2 Axes>"
            ]
          },
          "metadata": {
            "needs_background": "light"
          }
        }
      ]
    },
    {
      "cell_type": "code",
      "metadata": {
        "colab": {
          "base_uri": "https://localhost:8080/",
          "height": 308
        },
        "id": "FMvhZ5Qgw6yF",
        "outputId": "9b775b6d-961e-403a-e0a4-335e33b7c9ce"
      },
      "source": [
        "df.tail()"
      ],
      "execution_count": null,
      "outputs": [
        {
          "output_type": "execute_result",
          "data": {
            "text/html": [
              "<div>\n",
              "<style scoped>\n",
              "    .dataframe tbody tr th:only-of-type {\n",
              "        vertical-align: middle;\n",
              "    }\n",
              "\n",
              "    .dataframe tbody tr th {\n",
              "        vertical-align: top;\n",
              "    }\n",
              "\n",
              "    .dataframe thead th {\n",
              "        text-align: right;\n",
              "    }\n",
              "</style>\n",
              "<table border=\"1\" class=\"dataframe\">\n",
              "  <thead>\n",
              "    <tr style=\"text-align: right;\">\n",
              "      <th></th>\n",
              "      <th>device</th>\n",
              "      <th>date</th>\n",
              "      <th>failure</th>\n",
              "      <th>metric1</th>\n",
              "      <th>metric2</th>\n",
              "      <th>metric3</th>\n",
              "      <th>metric4</th>\n",
              "      <th>metric5</th>\n",
              "      <th>metric6</th>\n",
              "      <th>metric7</th>\n",
              "      <th>metric8</th>\n",
              "      <th>metric9</th>\n",
              "      <th>activedays</th>\n",
              "      <th>month</th>\n",
              "      <th>week_day</th>\n",
              "    </tr>\n",
              "  </thead>\n",
              "  <tbody>\n",
              "    <tr>\n",
              "      <th>1164</th>\n",
              "      <td>Z1F1VMZB</td>\n",
              "      <td>2015-10-19</td>\n",
              "      <td>0</td>\n",
              "      <td>96949360</td>\n",
              "      <td>0</td>\n",
              "      <td>0</td>\n",
              "      <td>0</td>\n",
              "      <td>5</td>\n",
              "      <td>263507</td>\n",
              "      <td>0</td>\n",
              "      <td>0</td>\n",
              "      <td>0</td>\n",
              "      <td>291 days</td>\n",
              "      <td>10</td>\n",
              "      <td>7</td>\n",
              "    </tr>\n",
              "    <tr>\n",
              "      <th>1165</th>\n",
              "      <td>Z1F1VQFY</td>\n",
              "      <td>2015-06-30</td>\n",
              "      <td>1</td>\n",
              "      <td>178051496</td>\n",
              "      <td>0</td>\n",
              "      <td>0</td>\n",
              "      <td>0</td>\n",
              "      <td>7</td>\n",
              "      <td>265316</td>\n",
              "      <td>0</td>\n",
              "      <td>0</td>\n",
              "      <td>0</td>\n",
              "      <td>180 days</td>\n",
              "      <td>6</td>\n",
              "      <td>1</td>\n",
              "    </tr>\n",
              "    <tr>\n",
              "      <th>1166</th>\n",
              "      <td>Z1F26YZB</td>\n",
              "      <td>2015-03-25</td>\n",
              "      <td>0</td>\n",
              "      <td>229065488</td>\n",
              "      <td>0</td>\n",
              "      <td>1</td>\n",
              "      <td>0</td>\n",
              "      <td>1</td>\n",
              "      <td>292052</td>\n",
              "      <td>0</td>\n",
              "      <td>0</td>\n",
              "      <td>0</td>\n",
              "      <td>83 days</td>\n",
              "      <td>3</td>\n",
              "      <td>2</td>\n",
              "    </tr>\n",
              "    <tr>\n",
              "      <th>1167</th>\n",
              "      <td>Z1F282ZV</td>\n",
              "      <td>2015-03-25</td>\n",
              "      <td>0</td>\n",
              "      <td>72717600</td>\n",
              "      <td>0</td>\n",
              "      <td>1</td>\n",
              "      <td>0</td>\n",
              "      <td>1</td>\n",
              "      <td>192919</td>\n",
              "      <td>0</td>\n",
              "      <td>0</td>\n",
              "      <td>0</td>\n",
              "      <td>83 days</td>\n",
              "      <td>3</td>\n",
              "      <td>2</td>\n",
              "    </tr>\n",
              "    <tr>\n",
              "      <th>1168</th>\n",
              "      <td>Z1F2PBHX</td>\n",
              "      <td>2015-04-06</td>\n",
              "      <td>0</td>\n",
              "      <td>130522432</td>\n",
              "      <td>0</td>\n",
              "      <td>0</td>\n",
              "      <td>0</td>\n",
              "      <td>5</td>\n",
              "      <td>164020</td>\n",
              "      <td>0</td>\n",
              "      <td>0</td>\n",
              "      <td>0</td>\n",
              "      <td>95 days</td>\n",
              "      <td>4</td>\n",
              "      <td>7</td>\n",
              "    </tr>\n",
              "  </tbody>\n",
              "</table>\n",
              "</div>"
            ],
            "text/plain": [
              "        device       date  failure  ...  activedays  month  week_day\n",
              "1164  Z1F1VMZB 2015-10-19        0  ...    291 days     10         7\n",
              "1165  Z1F1VQFY 2015-06-30        1  ...    180 days      6         1\n",
              "1166  Z1F26YZB 2015-03-25        0  ...     83 days      3         2\n",
              "1167  Z1F282ZV 2015-03-25        0  ...     83 days      3         2\n",
              "1168  Z1F2PBHX 2015-04-06        0  ...     95 days      4         7\n",
              "\n",
              "[5 rows x 15 columns]"
            ]
          },
          "metadata": {},
          "execution_count": 145
        }
      ]
    },
    {
      "cell_type": "code",
      "metadata": {
        "colab": {
          "base_uri": "https://localhost:8080/",
          "height": 404
        },
        "id": "sS96_vl79bc_",
        "outputId": "9bd99a9d-aed4-4dc8-bc46-5c1d24a4e71a"
      },
      "source": [
        "df.head(7)"
      ],
      "execution_count": null,
      "outputs": [
        {
          "output_type": "execute_result",
          "data": {
            "text/html": [
              "<div>\n",
              "<style scoped>\n",
              "    .dataframe tbody tr th:only-of-type {\n",
              "        vertical-align: middle;\n",
              "    }\n",
              "\n",
              "    .dataframe tbody tr th {\n",
              "        vertical-align: top;\n",
              "    }\n",
              "\n",
              "    .dataframe thead th {\n",
              "        text-align: right;\n",
              "    }\n",
              "</style>\n",
              "<table border=\"1\" class=\"dataframe\">\n",
              "  <thead>\n",
              "    <tr style=\"text-align: right;\">\n",
              "      <th></th>\n",
              "      <th>device</th>\n",
              "      <th>date</th>\n",
              "      <th>failure</th>\n",
              "      <th>metric1</th>\n",
              "      <th>metric2</th>\n",
              "      <th>metric3</th>\n",
              "      <th>metric4</th>\n",
              "      <th>metric5</th>\n",
              "      <th>metric6</th>\n",
              "      <th>metric7</th>\n",
              "      <th>metric8</th>\n",
              "      <th>metric9</th>\n",
              "      <th>activedays</th>\n",
              "      <th>month</th>\n",
              "      <th>week_day</th>\n",
              "    </tr>\n",
              "  </thead>\n",
              "  <tbody>\n",
              "    <tr>\n",
              "      <th>0</th>\n",
              "      <td>S1F01085</td>\n",
              "      <td>2015-01-06</td>\n",
              "      <td>0</td>\n",
              "      <td>128832128</td>\n",
              "      <td>56</td>\n",
              "      <td>0</td>\n",
              "      <td>52</td>\n",
              "      <td>6</td>\n",
              "      <td>409404</td>\n",
              "      <td>0</td>\n",
              "      <td>0</td>\n",
              "      <td>7</td>\n",
              "      <td>5</td>\n",
              "      <td>1</td>\n",
              "      <td>1</td>\n",
              "    </tr>\n",
              "    <tr>\n",
              "      <th>1</th>\n",
              "      <td>S1F013BB</td>\n",
              "      <td>2015-05-11</td>\n",
              "      <td>0</td>\n",
              "      <td>115676688</td>\n",
              "      <td>0</td>\n",
              "      <td>0</td>\n",
              "      <td>0</td>\n",
              "      <td>5</td>\n",
              "      <td>689161</td>\n",
              "      <td>0</td>\n",
              "      <td>0</td>\n",
              "      <td>0</td>\n",
              "      <td>130</td>\n",
              "      <td>5</td>\n",
              "      <td>7</td>\n",
              "    </tr>\n",
              "    <tr>\n",
              "      <th>2</th>\n",
              "      <td>S1F0166B</td>\n",
              "      <td>2015-01-06</td>\n",
              "      <td>0</td>\n",
              "      <td>7441792</td>\n",
              "      <td>0</td>\n",
              "      <td>3</td>\n",
              "      <td>0</td>\n",
              "      <td>6</td>\n",
              "      <td>404786</td>\n",
              "      <td>0</td>\n",
              "      <td>0</td>\n",
              "      <td>0</td>\n",
              "      <td>5</td>\n",
              "      <td>1</td>\n",
              "      <td>1</td>\n",
              "    </tr>\n",
              "    <tr>\n",
              "      <th>3</th>\n",
              "      <td>S1F01E6Y</td>\n",
              "      <td>2015-02-17</td>\n",
              "      <td>0</td>\n",
              "      <td>147350000</td>\n",
              "      <td>0</td>\n",
              "      <td>0</td>\n",
              "      <td>0</td>\n",
              "      <td>12</td>\n",
              "      <td>259491</td>\n",
              "      <td>0</td>\n",
              "      <td>0</td>\n",
              "      <td>0</td>\n",
              "      <td>47</td>\n",
              "      <td>2</td>\n",
              "      <td>1</td>\n",
              "    </tr>\n",
              "    <tr>\n",
              "      <th>4</th>\n",
              "      <td>S1F01JE0</td>\n",
              "      <td>2015-01-06</td>\n",
              "      <td>0</td>\n",
              "      <td>185424928</td>\n",
              "      <td>0</td>\n",
              "      <td>0</td>\n",
              "      <td>0</td>\n",
              "      <td>6</td>\n",
              "      <td>412151</td>\n",
              "      <td>0</td>\n",
              "      <td>0</td>\n",
              "      <td>0</td>\n",
              "      <td>5</td>\n",
              "      <td>1</td>\n",
              "      <td>1</td>\n",
              "    </tr>\n",
              "    <tr>\n",
              "      <th>5</th>\n",
              "      <td>S1F01R2B</td>\n",
              "      <td>2015-08-24</td>\n",
              "      <td>0</td>\n",
              "      <td>45858720</td>\n",
              "      <td>0</td>\n",
              "      <td>0</td>\n",
              "      <td>0</td>\n",
              "      <td>19</td>\n",
              "      <td>344875</td>\n",
              "      <td>0</td>\n",
              "      <td>0</td>\n",
              "      <td>3</td>\n",
              "      <td>235</td>\n",
              "      <td>8</td>\n",
              "      <td>7</td>\n",
              "    </tr>\n",
              "    <tr>\n",
              "      <th>6</th>\n",
              "      <td>S1F01TD5</td>\n",
              "      <td>2015-01-06</td>\n",
              "      <td>0</td>\n",
              "      <td>21103248</td>\n",
              "      <td>0</td>\n",
              "      <td>0</td>\n",
              "      <td>41</td>\n",
              "      <td>6</td>\n",
              "      <td>415259</td>\n",
              "      <td>0</td>\n",
              "      <td>0</td>\n",
              "      <td>1</td>\n",
              "      <td>5</td>\n",
              "      <td>1</td>\n",
              "      <td>1</td>\n",
              "    </tr>\n",
              "  </tbody>\n",
              "</table>\n",
              "</div>"
            ],
            "text/plain": [
              "     device       date  failure  ...  activedays  month  week_day\n",
              "0  S1F01085 2015-01-06        0  ...           5      1         1\n",
              "1  S1F013BB 2015-05-11        0  ...         130      5         7\n",
              "2  S1F0166B 2015-01-06        0  ...           5      1         1\n",
              "3  S1F01E6Y 2015-02-17        0  ...          47      2         1\n",
              "4  S1F01JE0 2015-01-06        0  ...           5      1         1\n",
              "5  S1F01R2B 2015-08-24        0  ...         235      8         7\n",
              "6  S1F01TD5 2015-01-06        0  ...           5      1         1\n",
              "\n",
              "[7 rows x 15 columns]"
            ]
          },
          "metadata": {},
          "execution_count": 185
        }
      ]
    },
    {
      "cell_type": "code",
      "metadata": {
        "colab": {
          "base_uri": "https://localhost:8080/"
        },
        "id": "T3bYcYlz_n3P",
        "outputId": "73b2f37d-d540-40e6-a6d7-55ff3452d630"
      },
      "source": [
        "# change activedays datatype to numerical\n",
        "def str_to_num(str):\n",
        "    return str.split(' ')[0]\n",
        "\n",
        "df.info()"
      ],
      "execution_count": null,
      "outputs": [
        {
          "output_type": "stream",
          "name": "stdout",
          "text": [
            "<class 'pandas.core.frame.DataFrame'>\n",
            "Int64Index: 1169 entries, 0 to 1168\n",
            "Data columns (total 15 columns):\n",
            " #   Column      Non-Null Count  Dtype          \n",
            "---  ------      --------------  -----          \n",
            " 0   device      1169 non-null   object         \n",
            " 1   date        1169 non-null   datetime64[ns] \n",
            " 2   failure     1169 non-null   int64          \n",
            " 3   metric1     1169 non-null   int64          \n",
            " 4   metric2     1169 non-null   int64          \n",
            " 5   metric3     1169 non-null   int64          \n",
            " 6   metric4     1169 non-null   int64          \n",
            " 7   metric5     1169 non-null   int64          \n",
            " 8   metric6     1169 non-null   int64          \n",
            " 9   metric7     1169 non-null   int64          \n",
            " 10  metric8     1169 non-null   int64          \n",
            " 11  metric9     1169 non-null   int64          \n",
            " 12  activedays  1169 non-null   timedelta64[ns]\n",
            " 13  month       1169 non-null   int64          \n",
            " 14  week_day    1169 non-null   int64          \n",
            "dtypes: datetime64[ns](1), int64(12), object(1), timedelta64[ns](1)\n",
            "memory usage: 146.1+ KB\n"
          ]
        }
      ]
    },
    {
      "cell_type": "code",
      "metadata": {
        "colab": {
          "base_uri": "https://localhost:8080/"
        },
        "id": "AlZ-xvLf_ffn",
        "outputId": "ba3bdb29-befe-4f60-eace-eab61eef2239"
      },
      "source": [
        "df.activedays = df.activedays.astype('str')\n",
        "\n",
        "df.activedays=df.activedays.apply(str_to_num)\n",
        "df.activedays = df.activedays.astype('int')\n",
        "df.info()"
      ],
      "execution_count": null,
      "outputs": [
        {
          "output_type": "stream",
          "name": "stdout",
          "text": [
            "<class 'pandas.core.frame.DataFrame'>\n",
            "Int64Index: 1169 entries, 0 to 1168\n",
            "Data columns (total 15 columns):\n",
            " #   Column      Non-Null Count  Dtype         \n",
            "---  ------      --------------  -----         \n",
            " 0   device      1169 non-null   object        \n",
            " 1   date        1169 non-null   datetime64[ns]\n",
            " 2   failure     1169 non-null   int64         \n",
            " 3   metric1     1169 non-null   int64         \n",
            " 4   metric2     1169 non-null   int64         \n",
            " 5   metric3     1169 non-null   int64         \n",
            " 6   metric4     1169 non-null   int64         \n",
            " 7   metric5     1169 non-null   int64         \n",
            " 8   metric6     1169 non-null   int64         \n",
            " 9   metric7     1169 non-null   int64         \n",
            " 10  metric8     1169 non-null   int64         \n",
            " 11  metric9     1169 non-null   int64         \n",
            " 12  activedays  1169 non-null   int64         \n",
            " 13  month       1169 non-null   int64         \n",
            " 14  week_day    1169 non-null   int64         \n",
            "dtypes: datetime64[ns](1), int64(13), object(1)\n",
            "memory usage: 146.1+ KB\n"
          ]
        }
      ]
    },
    {
      "cell_type": "code",
      "metadata": {
        "id": "N-nDgZNr8WPX"
      },
      "source": [
        "y =df.failure"
      ],
      "execution_count": null,
      "outputs": []
    },
    {
      "cell_type": "code",
      "metadata": {
        "id": "2RSlGb417Ft9"
      },
      "source": [
        "X = df.drop([\"date\", \"failure\", \"metric8\"], axis=1)\n"
      ],
      "execution_count": null,
      "outputs": []
    },
    {
      "cell_type": "code",
      "metadata": {
        "colab": {
          "base_uri": "https://localhost:8080/",
          "height": 203
        },
        "id": "YbZHZQj0_6nQ",
        "outputId": "5aef69ab-cfa2-4d7a-97d9-79c3a9927a54"
      },
      "source": [
        "X.head()"
      ],
      "execution_count": null,
      "outputs": [
        {
          "output_type": "execute_result",
          "data": {
            "text/html": [
              "<div>\n",
              "<style scoped>\n",
              "    .dataframe tbody tr th:only-of-type {\n",
              "        vertical-align: middle;\n",
              "    }\n",
              "\n",
              "    .dataframe tbody tr th {\n",
              "        vertical-align: top;\n",
              "    }\n",
              "\n",
              "    .dataframe thead th {\n",
              "        text-align: right;\n",
              "    }\n",
              "</style>\n",
              "<table border=\"1\" class=\"dataframe\">\n",
              "  <thead>\n",
              "    <tr style=\"text-align: right;\">\n",
              "      <th></th>\n",
              "      <th>device</th>\n",
              "      <th>metric1</th>\n",
              "      <th>metric2</th>\n",
              "      <th>metric3</th>\n",
              "      <th>metric4</th>\n",
              "      <th>metric5</th>\n",
              "      <th>metric6</th>\n",
              "      <th>metric7</th>\n",
              "      <th>metric9</th>\n",
              "      <th>activedays</th>\n",
              "      <th>month</th>\n",
              "      <th>week_day</th>\n",
              "    </tr>\n",
              "  </thead>\n",
              "  <tbody>\n",
              "    <tr>\n",
              "      <th>0</th>\n",
              "      <td>S1F01085</td>\n",
              "      <td>128832128</td>\n",
              "      <td>56</td>\n",
              "      <td>0</td>\n",
              "      <td>52</td>\n",
              "      <td>6</td>\n",
              "      <td>409404</td>\n",
              "      <td>0</td>\n",
              "      <td>7</td>\n",
              "      <td>5</td>\n",
              "      <td>1</td>\n",
              "      <td>1</td>\n",
              "    </tr>\n",
              "    <tr>\n",
              "      <th>1</th>\n",
              "      <td>S1F013BB</td>\n",
              "      <td>115676688</td>\n",
              "      <td>0</td>\n",
              "      <td>0</td>\n",
              "      <td>0</td>\n",
              "      <td>5</td>\n",
              "      <td>689161</td>\n",
              "      <td>0</td>\n",
              "      <td>0</td>\n",
              "      <td>130</td>\n",
              "      <td>5</td>\n",
              "      <td>7</td>\n",
              "    </tr>\n",
              "    <tr>\n",
              "      <th>2</th>\n",
              "      <td>S1F0166B</td>\n",
              "      <td>7441792</td>\n",
              "      <td>0</td>\n",
              "      <td>3</td>\n",
              "      <td>0</td>\n",
              "      <td>6</td>\n",
              "      <td>404786</td>\n",
              "      <td>0</td>\n",
              "      <td>0</td>\n",
              "      <td>5</td>\n",
              "      <td>1</td>\n",
              "      <td>1</td>\n",
              "    </tr>\n",
              "    <tr>\n",
              "      <th>3</th>\n",
              "      <td>S1F01E6Y</td>\n",
              "      <td>147350000</td>\n",
              "      <td>0</td>\n",
              "      <td>0</td>\n",
              "      <td>0</td>\n",
              "      <td>12</td>\n",
              "      <td>259491</td>\n",
              "      <td>0</td>\n",
              "      <td>0</td>\n",
              "      <td>47</td>\n",
              "      <td>2</td>\n",
              "      <td>1</td>\n",
              "    </tr>\n",
              "    <tr>\n",
              "      <th>4</th>\n",
              "      <td>S1F01JE0</td>\n",
              "      <td>185424928</td>\n",
              "      <td>0</td>\n",
              "      <td>0</td>\n",
              "      <td>0</td>\n",
              "      <td>6</td>\n",
              "      <td>412151</td>\n",
              "      <td>0</td>\n",
              "      <td>0</td>\n",
              "      <td>5</td>\n",
              "      <td>1</td>\n",
              "      <td>1</td>\n",
              "    </tr>\n",
              "  </tbody>\n",
              "</table>\n",
              "</div>"
            ],
            "text/plain": [
              "     device    metric1  metric2  metric3  ...  metric9  activedays  month  week_day\n",
              "0  S1F01085  128832128       56        0  ...        7           5      1         1\n",
              "1  S1F013BB  115676688        0        0  ...        0         130      5         7\n",
              "2  S1F0166B    7441792        0        3  ...        0           5      1         1\n",
              "3  S1F01E6Y  147350000        0        0  ...        0          47      2         1\n",
              "4  S1F01JE0  185424928        0        0  ...        0           5      1         1\n",
              "\n",
              "[5 rows x 12 columns]"
            ]
          },
          "metadata": {},
          "execution_count": 152
        }
      ]
    },
    {
      "cell_type": "code",
      "metadata": {
        "id": "_Fky33rDwXsG"
      },
      "source": [
        "le = LabelEncoder()\n",
        "X.device = le.fit_transform(X.device)"
      ],
      "execution_count": null,
      "outputs": []
    },
    {
      "cell_type": "code",
      "metadata": {
        "colab": {
          "base_uri": "https://localhost:8080/"
        },
        "id": "BUTeGI0hiOAB",
        "outputId": "985921c4-d8d1-47e9-fbc8-83ddbf495a5c"
      },
      "source": [
        "X.info()"
      ],
      "execution_count": null,
      "outputs": [
        {
          "output_type": "stream",
          "name": "stdout",
          "text": [
            "<class 'pandas.core.frame.DataFrame'>\n",
            "Int64Index: 1169 entries, 0 to 1168\n",
            "Data columns (total 12 columns):\n",
            " #   Column      Non-Null Count  Dtype\n",
            "---  ------      --------------  -----\n",
            " 0   device      1169 non-null   int64\n",
            " 1   metric1     1169 non-null   int64\n",
            " 2   metric2     1169 non-null   int64\n",
            " 3   metric3     1169 non-null   int64\n",
            " 4   metric4     1169 non-null   int64\n",
            " 5   metric5     1169 non-null   int64\n",
            " 6   metric6     1169 non-null   int64\n",
            " 7   metric7     1169 non-null   int64\n",
            " 8   metric9     1169 non-null   int64\n",
            " 9   activedays  1169 non-null   int64\n",
            " 10  month       1169 non-null   int64\n",
            " 11  week_day    1169 non-null   int64\n",
            "dtypes: int64(12)\n",
            "memory usage: 118.7 KB\n"
          ]
        }
      ]
    },
    {
      "cell_type": "code",
      "metadata": {
        "colab": {
          "base_uri": "https://localhost:8080/"
        },
        "id": "8phbFV4O8YcJ",
        "outputId": "31dcebcb-c892-4fd1-f698-79dae2ba30cf"
      },
      "source": [
        "y.head(12)"
      ],
      "execution_count": null,
      "outputs": [
        {
          "output_type": "execute_result",
          "data": {
            "text/plain": [
              "0     0\n",
              "1     0\n",
              "2     0\n",
              "3     0\n",
              "4     0\n",
              "5     0\n",
              "6     0\n",
              "7     0\n",
              "8     1\n",
              "9     0\n",
              "10    0\n",
              "11    0\n",
              "Name: failure, dtype: int64"
            ]
          },
          "metadata": {},
          "execution_count": 301
        }
      ]
    },
    {
      "cell_type": "markdown",
      "metadata": {
        "id": "n607DXSLBDE_"
      },
      "source": [
        "## First -1"
      ]
    },
    {
      "cell_type": "code",
      "metadata": {
        "colab": {
          "base_uri": "https://localhost:8080/"
        },
        "id": "Jpl3nSBJi-SK",
        "outputId": "c51ce5eb-64e1-493c-fe8c-3ce537e21979"
      },
      "source": [
        "skf = StratifiedKFold(n_splits=5)\n",
        "skf.get_n_splits(X, y)"
      ],
      "execution_count": null,
      "outputs": [
        {
          "output_type": "execute_result",
          "data": {
            "text/plain": [
              "5"
            ]
          },
          "metadata": {},
          "execution_count": 302
        }
      ]
    },
    {
      "cell_type": "code",
      "metadata": {
        "colab": {
          "base_uri": "https://localhost:8080/"
        },
        "id": "EVwxM1Tzi_3o",
        "outputId": "acc861cb-3c65-4bc9-87f3-91f879301256"
      },
      "source": [
        "accuracy = []\n",
        "\n",
        "model = RandomForestClassifier()\n",
        "for train_index, test_index in skf.split(X, y):\n",
        "  print(\"TRAIN :\", train_index)\n",
        "  print( \"TEST: \", test_index)\n",
        "  X1_train, X1_test = X.iloc[train_index], X.iloc[test_index]\n",
        "  y1_train, y1_test = y.iloc[train_index], y.iloc[test_index]\n",
        "\n",
        "  model.fit(X1_train, y1_train)\n",
        "  pred = model.predict(X1_test)\n",
        "  score = accuracy_score(pred, y1_test)\n",
        "  accuracy.append(score)\n",
        "\n",
        "print(accuracy)\n",
        "\n",
        ""
      ],
      "execution_count": null,
      "outputs": [
        {
          "output_type": "stream",
          "name": "stdout",
          "text": [
            "TRAIN : [ 147  155  163  187  235  239  240  241  242  243  244  245  246  247\n",
            "  248  249  250  251  252  253  254  255  256  257  258  259  260  261\n",
            "  262  263  264  265  266  267  268  269  270  271  272  273  274  275\n",
            "  276  277  278  279  280  281  282  283  284  285  286  287  288  289\n",
            "  290  291  292  293  294  295  296  297  298  299  300  301  302  303\n",
            "  304  305  306  307  308  309  310  311  312  313  314  315  316  317\n",
            "  318  319  320  321  322  323  324  325  326  327  328  329  330  331\n",
            "  332  333  334  335  336  337  338  339  340  341  342  343  344  345\n",
            "  346  347  348  349  350  351  352  353  354  355  356  357  358  359\n",
            "  360  361  362  363  364  365  366  367  368  369  370  371  372  373\n",
            "  374  375  376  377  378  379  380  381  382  383  384  385  386  387\n",
            "  388  389  390  391  392  393  394  395  396  397  398  399  400  401\n",
            "  402  403  404  405  406  407  408  409  410  411  412  413  414  415\n",
            "  416  417  418  419  420  421  422  423  424  425  426  427  428  429\n",
            "  430  431  432  433  434  435  436  437  438  439  440  441  442  443\n",
            "  444  445  446  447  448  449  450  451  452  453  454  455  456  457\n",
            "  458  459  460  461  462  463  464  465  466  467  468  469  470  471\n",
            "  472  473  474  475  476  477  478  479  480  481  482  483  484  485\n",
            "  486  487  488  489  490  491  492  493  494  495  496  497  498  499\n",
            "  500  501  502  503  504  505  506  507  508  509  510  511  512  513\n",
            "  514  515  516  517  518  519  520  521  522  523  524  525  526  527\n",
            "  528  529  530  531  532  533  534  535  536  537  538  539  540  541\n",
            "  542  543  544  545  546  547  548  549  550  551  552  553  554  555\n",
            "  556  557  558  559  560  561  562  563  564  565  566  567  568  569\n",
            "  570  571  572  573  574  575  576  577  578  579  580  581  582  583\n",
            "  584  585  586  587  588  589  590  591  592  593  594  595  596  597\n",
            "  598  599  600  601  602  603  604  605  606  607  608  609  610  611\n",
            "  612  613  614  615  616  617  618  619  620  621  622  623  624  625\n",
            "  626  627  628  629  630  631  632  633  634  635  636  637  638  639\n",
            "  640  641  642  643  644  645  646  647  648  649  650  651  652  653\n",
            "  654  655  656  657  658  659  660  661  662  663  664  665  666  667\n",
            "  668  669  670  671  672  673  674  675  676  677  678  679  680  681\n",
            "  682  683  684  685  686  687  688  689  690  691  692  693  694  695\n",
            "  696  697  698  699  700  701  702  703  704  705  706  707  708  709\n",
            "  710  711  712  713  714  715  716  717  718  719  720  721  722  723\n",
            "  724  725  726  727  728  729  730  731  732  733  734  735  736  737\n",
            "  738  739  740  741  742  743  744  745  746  747  748  749  750  751\n",
            "  752  753  754  755  756  757  758  759  760  761  762  763  764  765\n",
            "  766  767  768  769  770  771  772  773  774  775  776  777  778  779\n",
            "  780  781  782  783  784  785  786  787  788  789  790  791  792  793\n",
            "  794  795  796  797  798  799  800  801  802  803  804  805  806  807\n",
            "  808  809  810  811  812  813  814  815  816  817  818  819  820  821\n",
            "  822  823  824  825  826  827  828  829  830  831  832  833  834  835\n",
            "  836  837  838  839  840  841  842  843  844  845  846  847  848  849\n",
            "  850  851  852  853  854  855  856  857  858  859  860  861  862  863\n",
            "  864  865  866  867  868  869  870  871  872  873  874  875  876  877\n",
            "  878  879  880  881  882  883  884  885  886  887  888  889  890  891\n",
            "  892  893  894  895  896  897  898  899  900  901  902  903  904  905\n",
            "  906  907  908  909  910  911  912  913  914  915  916  917  918  919\n",
            "  920  921  922  923  924  925  926  927  928  929  930  931  932  933\n",
            "  934  935  936  937  938  939  940  941  942  943  944  945  946  947\n",
            "  948  949  950  951  952  953  954  955  956  957  958  959  960  961\n",
            "  962  963  964  965  966  967  968  969  970  971  972  973  974  975\n",
            "  976  977  978  979  980  981  982  983  984  985  986  987  988  989\n",
            "  990  991  992  993  994  995  996  997  998  999 1000 1001 1002 1003\n",
            " 1004 1005 1006 1007 1008 1009 1010 1011 1012 1013 1014 1015 1016 1017\n",
            " 1018 1019 1020 1021 1022 1023 1024 1025 1026 1027 1028 1029 1030 1031\n",
            " 1032 1033 1034 1035 1036 1037 1038 1039 1040 1041 1042 1043 1044 1045\n",
            " 1046 1047 1048 1049 1050 1051 1052 1053 1054 1055 1056 1057 1058 1059\n",
            " 1060 1061 1062 1063 1064 1065 1066 1067 1068 1069 1070 1071 1072 1073\n",
            " 1074 1075 1076 1077 1078 1079 1080 1081 1082 1083 1084 1085 1086 1087\n",
            " 1088 1089 1090 1091 1092 1093 1094 1095 1096 1097 1098 1099 1100 1101\n",
            " 1102 1103 1104 1105 1106 1107 1108 1109 1110 1111 1112 1113 1114 1115\n",
            " 1116 1117 1118 1119 1120 1121 1122 1123 1124 1125 1126 1127 1128 1129\n",
            " 1130 1131 1132 1133 1134 1135 1136 1137 1138 1139 1140 1141 1142 1143\n",
            " 1144 1145 1146 1147 1148 1149 1150 1151 1152 1153 1154 1155 1156 1157\n",
            " 1158 1159 1160 1161 1162 1163 1164 1165 1166 1167 1168]\n",
            "TEST:  [  0   1   2   3   4   5   6   7   8   9  10  11  12  13  14  15  16  17\n",
            "  18  19  20  21  22  23  24  25  26  27  28  29  30  31  32  33  34  35\n",
            "  36  37  38  39  40  41  42  43  44  45  46  47  48  49  50  51  52  53\n",
            "  54  55  56  57  58  59  60  61  62  63  64  65  66  67  68  69  70  71\n",
            "  72  73  74  75  76  77  78  79  80  81  82  83  84  85  86  87  88  89\n",
            "  90  91  92  93  94  95  96  97  98  99 100 101 102 103 104 105 106 107\n",
            " 108 109 110 111 112 113 114 115 116 117 118 119 120 121 122 123 124 125\n",
            " 126 127 128 129 130 131 132 133 134 135 136 137 138 139 140 141 142 143\n",
            " 144 145 146 148 149 150 151 152 153 154 156 157 158 159 160 161 162 164\n",
            " 165 166 167 168 169 170 171 172 173 174 175 176 177 178 179 180 181 182\n",
            " 183 184 185 186 188 189 190 191 192 193 194 195 196 197 198 199 200 201\n",
            " 202 203 204 205 206 207 208 209 210 211 212 213 214 215 216 217 218 219\n",
            " 220 221 222 223 224 225 226 227 228 229 230 231 232 233 234 236 237 238]\n",
            "TRAIN : [   0    1    2    3    4    5    6    7    8    9   10   11   12   13\n",
            "   14   15   16   17   18   19   20   21   22   23   24   25   26   27\n",
            "   28   29   30   31   32   33   34   35   36   37   38   39   40   41\n",
            "   42   43   44   45   46   47   48   49   50   51   52   53   54   55\n",
            "   56   57   58   59   60   61   62   63   64   65   66   67   68   69\n",
            "   70   71   72   73   74   75   76   77   78   79   80   81   82   83\n",
            "   84   85   86   87   88   89   90   91   92   93   94   95   96   97\n",
            "   98   99  100  101  102  103  104  105  106  107  108  109  110  111\n",
            "  112  113  114  115  116  117  118  119  120  121  122  123  124  125\n",
            "  126  127  128  129  130  131  132  133  134  135  136  137  138  139\n",
            "  140  141  142  143  144  145  146  148  149  150  151  152  153  154\n",
            "  156  157  158  159  160  161  162  164  165  166  167  168  169  170\n",
            "  171  172  173  174  175  176  177  178  179  180  181  182  183  184\n",
            "  185  186  188  189  190  191  192  193  194  195  196  197  198  199\n",
            "  200  201  202  203  204  205  206  207  208  209  210  211  212  213\n",
            "  214  215  216  217  218  219  220  221  222  223  224  225  226  227\n",
            "  228  229  230  231  232  233  234  236  237  238  465  466  467  468\n",
            "  469  470  471  472  473  474  475  476  478  479  480  481  482  483\n",
            "  484  485  486  487  488  489  490  492  493  494  495  496  497  498\n",
            "  499  500  501  502  503  504  505  506  507  508  509  510  511  512\n",
            "  513  515  516  517  518  519  520  521  522  523  524  525  526  527\n",
            "  528  529  530  531  532  533  534  535  536  537  538  539  540  541\n",
            "  542  543  544  545  546  547  548  549  550  551  552  553  554  555\n",
            "  556  557  558  559  560  561  562  563  564  565  566  567  568  569\n",
            "  570  571  572  573  574  575  576  577  578  579  580  581  582  583\n",
            "  584  585  586  587  588  589  590  591  592  593  594  595  596  597\n",
            "  598  599  600  601  602  603  604  605  606  607  608  609  610  611\n",
            "  612  613  614  615  616  617  618  619  620  621  622  623  624  625\n",
            "  626  627  628  629  630  631  632  633  634  635  636  637  638  639\n",
            "  640  641  642  643  644  645  646  647  648  649  650  651  652  653\n",
            "  654  655  656  657  658  659  660  661  662  663  664  665  666  667\n",
            "  668  669  670  671  672  673  674  675  676  677  678  679  680  681\n",
            "  682  683  684  685  686  687  688  689  690  691  692  693  694  695\n",
            "  696  697  698  699  700  701  702  703  704  705  706  707  708  709\n",
            "  710  711  712  713  714  715  716  717  718  719  720  721  722  723\n",
            "  724  725  726  727  728  729  730  731  732  733  734  735  736  737\n",
            "  738  739  740  741  742  743  744  745  746  747  748  749  750  751\n",
            "  752  753  754  755  756  757  758  759  760  761  762  763  764  765\n",
            "  766  767  768  769  770  771  772  773  774  775  776  777  778  779\n",
            "  780  781  782  783  784  785  786  787  788  789  790  791  792  793\n",
            "  794  795  796  797  798  799  800  801  802  803  804  805  806  807\n",
            "  808  809  810  811  812  813  814  815  816  817  818  819  820  821\n",
            "  822  823  824  825  826  827  828  829  830  831  832  833  834  835\n",
            "  836  837  838  839  840  841  842  843  844  845  846  847  848  849\n",
            "  850  851  852  853  854  855  856  857  858  859  860  861  862  863\n",
            "  864  865  866  867  868  869  870  871  872  873  874  875  876  877\n",
            "  878  879  880  881  882  883  884  885  886  887  888  889  890  891\n",
            "  892  893  894  895  896  897  898  899  900  901  902  903  904  905\n",
            "  906  907  908  909  910  911  912  913  914  915  916  917  918  919\n",
            "  920  921  922  923  924  925  926  927  928  929  930  931  932  933\n",
            "  934  935  936  937  938  939  940  941  942  943  944  945  946  947\n",
            "  948  949  950  951  952  953  954  955  956  957  958  959  960  961\n",
            "  962  963  964  965  966  967  968  969  970  971  972  973  974  975\n",
            "  976  977  978  979  980  981  982  983  984  985  986  987  988  989\n",
            "  990  991  992  993  994  995  996  997  998  999 1000 1001 1002 1003\n",
            " 1004 1005 1006 1007 1008 1009 1010 1011 1012 1013 1014 1015 1016 1017\n",
            " 1018 1019 1020 1021 1022 1023 1024 1025 1026 1027 1028 1029 1030 1031\n",
            " 1032 1033 1034 1035 1036 1037 1038 1039 1040 1041 1042 1043 1044 1045\n",
            " 1046 1047 1048 1049 1050 1051 1052 1053 1054 1055 1056 1057 1058 1059\n",
            " 1060 1061 1062 1063 1064 1065 1066 1067 1068 1069 1070 1071 1072 1073\n",
            " 1074 1075 1076 1077 1078 1079 1080 1081 1082 1083 1084 1085 1086 1087\n",
            " 1088 1089 1090 1091 1092 1093 1094 1095 1096 1097 1098 1099 1100 1101\n",
            " 1102 1103 1104 1105 1106 1107 1108 1109 1110 1111 1112 1113 1114 1115\n",
            " 1116 1117 1118 1119 1120 1121 1122 1123 1124 1125 1126 1127 1128 1129\n",
            " 1130 1131 1132 1133 1134 1135 1136 1137 1138 1139 1140 1141 1142 1143\n",
            " 1144 1145 1146 1147 1148 1149 1150 1151 1152 1153 1154 1155 1156 1157\n",
            " 1158 1159 1160 1161 1162 1163 1164 1165 1166 1167 1168]\n",
            "TEST:  [147 155 163 187 235 239 240 241 242 243 244 245 246 247 248 249 250 251\n",
            " 252 253 254 255 256 257 258 259 260 261 262 263 264 265 266 267 268 269\n",
            " 270 271 272 273 274 275 276 277 278 279 280 281 282 283 284 285 286 287\n",
            " 288 289 290 291 292 293 294 295 296 297 298 299 300 301 302 303 304 305\n",
            " 306 307 308 309 310 311 312 313 314 315 316 317 318 319 320 321 322 323\n",
            " 324 325 326 327 328 329 330 331 332 333 334 335 336 337 338 339 340 341\n",
            " 342 343 344 345 346 347 348 349 350 351 352 353 354 355 356 357 358 359\n",
            " 360 361 362 363 364 365 366 367 368 369 370 371 372 373 374 375 376 377\n",
            " 378 379 380 381 382 383 384 385 386 387 388 389 390 391 392 393 394 395\n",
            " 396 397 398 399 400 401 402 403 404 405 406 407 408 409 410 411 412 413\n",
            " 414 415 416 417 418 419 420 421 422 423 424 425 426 427 428 429 430 431\n",
            " 432 433 434 435 436 437 438 439 440 441 442 443 444 445 446 447 448 449\n",
            " 450 451 452 453 454 455 456 457 458 459 460 461 462 463 464 477 491 514]\n",
            "TRAIN : [   0    1    2    3    4    5    6    7    8    9   10   11   12   13\n",
            "   14   15   16   17   18   19   20   21   22   23   24   25   26   27\n",
            "   28   29   30   31   32   33   34   35   36   37   38   39   40   41\n",
            "   42   43   44   45   46   47   48   49   50   51   52   53   54   55\n",
            "   56   57   58   59   60   61   62   63   64   65   66   67   68   69\n",
            "   70   71   72   73   74   75   76   77   78   79   80   81   82   83\n",
            "   84   85   86   87   88   89   90   91   92   93   94   95   96   97\n",
            "   98   99  100  101  102  103  104  105  106  107  108  109  110  111\n",
            "  112  113  114  115  116  117  118  119  120  121  122  123  124  125\n",
            "  126  127  128  129  130  131  132  133  134  135  136  137  138  139\n",
            "  140  141  142  143  144  145  146  147  148  149  150  151  152  153\n",
            "  154  155  156  157  158  159  160  161  162  163  164  165  166  167\n",
            "  168  169  170  171  172  173  174  175  176  177  178  179  180  181\n",
            "  182  183  184  185  186  187  188  189  190  191  192  193  194  195\n",
            "  196  197  198  199  200  201  202  203  204  205  206  207  208  209\n",
            "  210  211  212  213  214  215  216  217  218  219  220  221  222  223\n",
            "  224  225  226  227  228  229  230  231  232  233  234  235  236  237\n",
            "  238  239  240  241  242  243  244  245  246  247  248  249  250  251\n",
            "  252  253  254  255  256  257  258  259  260  261  262  263  264  265\n",
            "  266  267  268  269  270  271  272  273  274  275  276  277  278  279\n",
            "  280  281  282  283  284  285  286  287  288  289  290  291  292  293\n",
            "  294  295  296  297  298  299  300  301  302  303  304  305  306  307\n",
            "  308  309  310  311  312  313  314  315  316  317  318  319  320  321\n",
            "  322  323  324  325  326  327  328  329  330  331  332  333  334  335\n",
            "  336  337  338  339  340  341  342  343  344  345  346  347  348  349\n",
            "  350  351  352  353  354  355  356  357  358  359  360  361  362  363\n",
            "  364  365  366  367  368  369  370  371  372  373  374  375  376  377\n",
            "  378  379  380  381  382  383  384  385  386  387  388  389  390  391\n",
            "  392  393  394  395  396  397  398  399  400  401  402  403  404  405\n",
            "  406  407  408  409  410  411  412  413  414  415  416  417  418  419\n",
            "  420  421  422  423  424  425  426  427  428  429  430  431  432  433\n",
            "  434  435  436  437  438  439  440  441  442  443  444  445  446  447\n",
            "  448  449  450  451  452  453  454  455  456  457  458  459  460  461\n",
            "  462  463  464  477  491  514  701  702  703  704  705  706  707  708\n",
            "  709  710  711  712  713  714  715  716  717  718  719  720  721  722\n",
            "  723  724  725  726  727  728  730  731  732  733  734  735  736  737\n",
            "  738  739  740  741  742  743  744  745  746  747  748  749  750  751\n",
            "  752  753  754  755  756  757  758  759  760  761  762  763  764  765\n",
            "  766  767  768  769  770  771  772  773  774  775  776  777  778  779\n",
            "  780  781  782  783  784  785  786  787  788  789  790  791  792  793\n",
            "  794  795  796  797  798  799  800  801  802  803  804  805  806  807\n",
            "  808  809  810  811  812  813  814  815  816  817  818  819  820  821\n",
            "  822  823  824  825  826  827  828  829  830  831  832  833  834  835\n",
            "  836  837  838  839  840  841  842  843  844  845  846  847  848  849\n",
            "  850  851  852  853  854  855  856  857  858  859  860  861  862  863\n",
            "  864  865  866  867  868  869  870  871  872  873  874  875  876  877\n",
            "  878  879  880  881  882  883  884  885  886  887  888  889  890  891\n",
            "  892  893  894  895  896  897  898  899  900  901  902  903  904  905\n",
            "  906  907  908  909  910  911  912  913  914  915  916  917  918  919\n",
            "  920  921  922  923  924  925  926  927  928  929  930  931  932  933\n",
            "  934  935  936  937  938  939  940  941  942  943  944  945  946  947\n",
            "  948  949  950  951  952  953  954  955  956  957  958  959  960  961\n",
            "  962  963  964  965  966  967  968  969  970  971  972  973  974  975\n",
            "  976  977  978  979  980  981  982  983  984  985  986  987  988  989\n",
            "  990  991  992  993  994  995  996  997  998  999 1000 1001 1002 1003\n",
            " 1004 1005 1006 1007 1008 1009 1010 1011 1012 1013 1014 1015 1016 1017\n",
            " 1018 1019 1020 1021 1022 1023 1024 1025 1026 1027 1028 1029 1030 1031\n",
            " 1032 1033 1034 1035 1036 1037 1038 1039 1040 1041 1042 1043 1044 1045\n",
            " 1046 1047 1048 1049 1050 1051 1052 1053 1054 1055 1056 1057 1058 1059\n",
            " 1060 1061 1062 1063 1064 1065 1066 1067 1068 1069 1070 1071 1072 1073\n",
            " 1074 1075 1076 1077 1078 1079 1080 1081 1082 1083 1084 1085 1086 1087\n",
            " 1088 1089 1090 1091 1092 1093 1094 1095 1096 1097 1098 1099 1100 1101\n",
            " 1102 1103 1104 1105 1106 1107 1108 1109 1110 1111 1112 1113 1114 1115\n",
            " 1116 1117 1118 1119 1120 1121 1122 1123 1124 1125 1126 1127 1128 1129\n",
            " 1130 1131 1132 1133 1134 1135 1136 1137 1138 1139 1140 1141 1142 1143\n",
            " 1144 1145 1146 1147 1148 1149 1150 1151 1152 1153 1154 1155 1156 1157\n",
            " 1158 1159 1160 1161 1162 1163 1164 1165 1166 1167 1168]\n",
            "TEST:  [465 466 467 468 469 470 471 472 473 474 475 476 478 479 480 481 482 483\n",
            " 484 485 486 487 488 489 490 492 493 494 495 496 497 498 499 500 501 502\n",
            " 503 504 505 506 507 508 509 510 511 512 513 515 516 517 518 519 520 521\n",
            " 522 523 524 525 526 527 528 529 530 531 532 533 534 535 536 537 538 539\n",
            " 540 541 542 543 544 545 546 547 548 549 550 551 552 553 554 555 556 557\n",
            " 558 559 560 561 562 563 564 565 566 567 568 569 570 571 572 573 574 575\n",
            " 576 577 578 579 580 581 582 583 584 585 586 587 588 589 590 591 592 593\n",
            " 594 595 596 597 598 599 600 601 602 603 604 605 606 607 608 609 610 611\n",
            " 612 613 614 615 616 617 618 619 620 621 622 623 624 625 626 627 628 629\n",
            " 630 631 632 633 634 635 636 637 638 639 640 641 642 643 644 645 646 647\n",
            " 648 649 650 651 652 653 654 655 656 657 658 659 660 661 662 663 664 665\n",
            " 666 667 668 669 670 671 672 673 674 675 676 677 678 679 680 681 682 683\n",
            " 684 685 686 687 688 689 690 691 692 693 694 695 696 697 698 699 700 729]\n",
            "TRAIN : [   0    1    2    3    4    5    6    7    8    9   10   11   12   13\n",
            "   14   15   16   17   18   19   20   21   22   23   24   25   26   27\n",
            "   28   29   30   31   32   33   34   35   36   37   38   39   40   41\n",
            "   42   43   44   45   46   47   48   49   50   51   52   53   54   55\n",
            "   56   57   58   59   60   61   62   63   64   65   66   67   68   69\n",
            "   70   71   72   73   74   75   76   77   78   79   80   81   82   83\n",
            "   84   85   86   87   88   89   90   91   92   93   94   95   96   97\n",
            "   98   99  100  101  102  103  104  105  106  107  108  109  110  111\n",
            "  112  113  114  115  116  117  118  119  120  121  122  123  124  125\n",
            "  126  127  128  129  130  131  132  133  134  135  136  137  138  139\n",
            "  140  141  142  143  144  145  146  147  148  149  150  151  152  153\n",
            "  154  155  156  157  158  159  160  161  162  163  164  165  166  167\n",
            "  168  169  170  171  172  173  174  175  176  177  178  179  180  181\n",
            "  182  183  184  185  186  187  188  189  190  191  192  193  194  195\n",
            "  196  197  198  199  200  201  202  203  204  205  206  207  208  209\n",
            "  210  211  212  213  214  215  216  217  218  219  220  221  222  223\n",
            "  224  225  226  227  228  229  230  231  232  233  234  235  236  237\n",
            "  238  239  240  241  242  243  244  245  246  247  248  249  250  251\n",
            "  252  253  254  255  256  257  258  259  260  261  262  263  264  265\n",
            "  266  267  268  269  270  271  272  273  274  275  276  277  278  279\n",
            "  280  281  282  283  284  285  286  287  288  289  290  291  292  293\n",
            "  294  295  296  297  298  299  300  301  302  303  304  305  306  307\n",
            "  308  309  310  311  312  313  314  315  316  317  318  319  320  321\n",
            "  322  323  324  325  326  327  328  329  330  331  332  333  334  335\n",
            "  336  337  338  339  340  341  342  343  344  345  346  347  348  349\n",
            "  350  351  352  353  354  355  356  357  358  359  360  361  362  363\n",
            "  364  365  366  367  368  369  370  371  372  373  374  375  376  377\n",
            "  378  379  380  381  382  383  384  385  386  387  388  389  390  391\n",
            "  392  393  394  395  396  397  398  399  400  401  402  403  404  405\n",
            "  406  407  408  409  410  411  412  413  414  415  416  417  418  419\n",
            "  420  421  422  423  424  425  426  427  428  429  430  431  432  433\n",
            "  434  435  436  437  438  439  440  441  442  443  444  445  446  447\n",
            "  448  449  450  451  452  453  454  455  456  457  458  459  460  461\n",
            "  462  463  464  465  466  467  468  469  470  471  472  473  474  475\n",
            "  476  477  478  479  480  481  482  483  484  485  486  487  488  489\n",
            "  490  491  492  493  494  495  496  497  498  499  500  501  502  503\n",
            "  504  505  506  507  508  509  510  511  512  513  514  515  516  517\n",
            "  518  519  520  521  522  523  524  525  526  527  528  529  530  531\n",
            "  532  533  534  535  536  537  538  539  540  541  542  543  544  545\n",
            "  546  547  548  549  550  551  552  553  554  555  556  557  558  559\n",
            "  560  561  562  563  564  565  566  567  568  569  570  571  572  573\n",
            "  574  575  576  577  578  579  580  581  582  583  584  585  586  587\n",
            "  588  589  590  591  592  593  594  595  596  597  598  599  600  601\n",
            "  602  603  604  605  606  607  608  609  610  611  612  613  614  615\n",
            "  616  617  618  619  620  621  622  623  624  625  626  627  628  629\n",
            "  630  631  632  633  634  635  636  637  638  639  640  641  642  643\n",
            "  644  645  646  647  648  649  650  651  652  653  654  655  656  657\n",
            "  658  659  660  661  662  663  664  665  666  667  668  669  670  671\n",
            "  672  673  674  675  676  677  678  679  680  681  682  683  684  685\n",
            "  686  687  688  689  690  691  692  693  694  695  696  697  698  699\n",
            "  700  729  934  935  936  937  938  939  940  941  942  943  944  945\n",
            "  946  947  948  949  950  951  952  953  955  956  957  959  960  961\n",
            "  962  963  964  965  966  967  968  969  970  971  972  973  974  975\n",
            "  976  977  978  979  980  981  982  983  984  985  986  987  988  989\n",
            "  990  991  992  993  994  995  996  997  998  999 1000 1001 1002 1003\n",
            " 1004 1005 1006 1007 1008 1009 1010 1011 1012 1013 1014 1015 1016 1017\n",
            " 1018 1019 1020 1021 1022 1023 1024 1025 1026 1027 1028 1029 1030 1031\n",
            " 1032 1033 1034 1035 1036 1037 1038 1039 1040 1041 1042 1043 1044 1045\n",
            " 1046 1047 1048 1049 1050 1051 1052 1053 1054 1055 1056 1057 1058 1059\n",
            " 1060 1061 1062 1063 1064 1065 1066 1067 1068 1069 1070 1071 1072 1073\n",
            " 1074 1075 1076 1077 1078 1079 1080 1081 1082 1083 1084 1085 1086 1087\n",
            " 1088 1089 1090 1091 1092 1093 1094 1095 1096 1097 1098 1099 1100 1101\n",
            " 1102 1103 1104 1105 1106 1107 1108 1109 1110 1111 1112 1113 1114 1115\n",
            " 1116 1117 1118 1119 1120 1121 1122 1123 1124 1125 1126 1127 1128 1129\n",
            " 1130 1131 1132 1133 1134 1135 1136 1137 1138 1139 1140 1141 1142 1143\n",
            " 1144 1145 1146 1147 1148 1149 1150 1151 1152 1153 1154 1155 1156 1157\n",
            " 1158 1159 1160 1161 1162 1163 1164 1165 1166 1167 1168]\n",
            "TEST:  [701 702 703 704 705 706 707 708 709 710 711 712 713 714 715 716 717 718\n",
            " 719 720 721 722 723 724 725 726 727 728 730 731 732 733 734 735 736 737\n",
            " 738 739 740 741 742 743 744 745 746 747 748 749 750 751 752 753 754 755\n",
            " 756 757 758 759 760 761 762 763 764 765 766 767 768 769 770 771 772 773\n",
            " 774 775 776 777 778 779 780 781 782 783 784 785 786 787 788 789 790 791\n",
            " 792 793 794 795 796 797 798 799 800 801 802 803 804 805 806 807 808 809\n",
            " 810 811 812 813 814 815 816 817 818 819 820 821 822 823 824 825 826 827\n",
            " 828 829 830 831 832 833 834 835 836 837 838 839 840 841 842 843 844 845\n",
            " 846 847 848 849 850 851 852 853 854 855 856 857 858 859 860 861 862 863\n",
            " 864 865 866 867 868 869 870 871 872 873 874 875 876 877 878 879 880 881\n",
            " 882 883 884 885 886 887 888 889 890 891 892 893 894 895 896 897 898 899\n",
            " 900 901 902 903 904 905 906 907 908 909 910 911 912 913 914 915 916 917\n",
            " 918 919 920 921 922 923 924 925 926 927 928 929 930 931 932 933 954 958]\n",
            "TRAIN : [  0   1   2   3   4   5   6   7   8   9  10  11  12  13  14  15  16  17\n",
            "  18  19  20  21  22  23  24  25  26  27  28  29  30  31  32  33  34  35\n",
            "  36  37  38  39  40  41  42  43  44  45  46  47  48  49  50  51  52  53\n",
            "  54  55  56  57  58  59  60  61  62  63  64  65  66  67  68  69  70  71\n",
            "  72  73  74  75  76  77  78  79  80  81  82  83  84  85  86  87  88  89\n",
            "  90  91  92  93  94  95  96  97  98  99 100 101 102 103 104 105 106 107\n",
            " 108 109 110 111 112 113 114 115 116 117 118 119 120 121 122 123 124 125\n",
            " 126 127 128 129 130 131 132 133 134 135 136 137 138 139 140 141 142 143\n",
            " 144 145 146 147 148 149 150 151 152 153 154 155 156 157 158 159 160 161\n",
            " 162 163 164 165 166 167 168 169 170 171 172 173 174 175 176 177 178 179\n",
            " 180 181 182 183 184 185 186 187 188 189 190 191 192 193 194 195 196 197\n",
            " 198 199 200 201 202 203 204 205 206 207 208 209 210 211 212 213 214 215\n",
            " 216 217 218 219 220 221 222 223 224 225 226 227 228 229 230 231 232 233\n",
            " 234 235 236 237 238 239 240 241 242 243 244 245 246 247 248 249 250 251\n",
            " 252 253 254 255 256 257 258 259 260 261 262 263 264 265 266 267 268 269\n",
            " 270 271 272 273 274 275 276 277 278 279 280 281 282 283 284 285 286 287\n",
            " 288 289 290 291 292 293 294 295 296 297 298 299 300 301 302 303 304 305\n",
            " 306 307 308 309 310 311 312 313 314 315 316 317 318 319 320 321 322 323\n",
            " 324 325 326 327 328 329 330 331 332 333 334 335 336 337 338 339 340 341\n",
            " 342 343 344 345 346 347 348 349 350 351 352 353 354 355 356 357 358 359\n",
            " 360 361 362 363 364 365 366 367 368 369 370 371 372 373 374 375 376 377\n",
            " 378 379 380 381 382 383 384 385 386 387 388 389 390 391 392 393 394 395\n",
            " 396 397 398 399 400 401 402 403 404 405 406 407 408 409 410 411 412 413\n",
            " 414 415 416 417 418 419 420 421 422 423 424 425 426 427 428 429 430 431\n",
            " 432 433 434 435 436 437 438 439 440 441 442 443 444 445 446 447 448 449\n",
            " 450 451 452 453 454 455 456 457 458 459 460 461 462 463 464 465 466 467\n",
            " 468 469 470 471 472 473 474 475 476 477 478 479 480 481 482 483 484 485\n",
            " 486 487 488 489 490 491 492 493 494 495 496 497 498 499 500 501 502 503\n",
            " 504 505 506 507 508 509 510 511 512 513 514 515 516 517 518 519 520 521\n",
            " 522 523 524 525 526 527 528 529 530 531 532 533 534 535 536 537 538 539\n",
            " 540 541 542 543 544 545 546 547 548 549 550 551 552 553 554 555 556 557\n",
            " 558 559 560 561 562 563 564 565 566 567 568 569 570 571 572 573 574 575\n",
            " 576 577 578 579 580 581 582 583 584 585 586 587 588 589 590 591 592 593\n",
            " 594 595 596 597 598 599 600 601 602 603 604 605 606 607 608 609 610 611\n",
            " 612 613 614 615 616 617 618 619 620 621 622 623 624 625 626 627 628 629\n",
            " 630 631 632 633 634 635 636 637 638 639 640 641 642 643 644 645 646 647\n",
            " 648 649 650 651 652 653 654 655 656 657 658 659 660 661 662 663 664 665\n",
            " 666 667 668 669 670 671 672 673 674 675 676 677 678 679 680 681 682 683\n",
            " 684 685 686 687 688 689 690 691 692 693 694 695 696 697 698 699 700 701\n",
            " 702 703 704 705 706 707 708 709 710 711 712 713 714 715 716 717 718 719\n",
            " 720 721 722 723 724 725 726 727 728 729 730 731 732 733 734 735 736 737\n",
            " 738 739 740 741 742 743 744 745 746 747 748 749 750 751 752 753 754 755\n",
            " 756 757 758 759 760 761 762 763 764 765 766 767 768 769 770 771 772 773\n",
            " 774 775 776 777 778 779 780 781 782 783 784 785 786 787 788 789 790 791\n",
            " 792 793 794 795 796 797 798 799 800 801 802 803 804 805 806 807 808 809\n",
            " 810 811 812 813 814 815 816 817 818 819 820 821 822 823 824 825 826 827\n",
            " 828 829 830 831 832 833 834 835 836 837 838 839 840 841 842 843 844 845\n",
            " 846 847 848 849 850 851 852 853 854 855 856 857 858 859 860 861 862 863\n",
            " 864 865 866 867 868 869 870 871 872 873 874 875 876 877 878 879 880 881\n",
            " 882 883 884 885 886 887 888 889 890 891 892 893 894 895 896 897 898 899\n",
            " 900 901 902 903 904 905 906 907 908 909 910 911 912 913 914 915 916 917\n",
            " 918 919 920 921 922 923 924 925 926 927 928 929 930 931 932 933 954 958]\n",
            "TEST:  [ 934  935  936  937  938  939  940  941  942  943  944  945  946  947\n",
            "  948  949  950  951  952  953  955  956  957  959  960  961  962  963\n",
            "  964  965  966  967  968  969  970  971  972  973  974  975  976  977\n",
            "  978  979  980  981  982  983  984  985  986  987  988  989  990  991\n",
            "  992  993  994  995  996  997  998  999 1000 1001 1002 1003 1004 1005\n",
            " 1006 1007 1008 1009 1010 1011 1012 1013 1014 1015 1016 1017 1018 1019\n",
            " 1020 1021 1022 1023 1024 1025 1026 1027 1028 1029 1030 1031 1032 1033\n",
            " 1034 1035 1036 1037 1038 1039 1040 1041 1042 1043 1044 1045 1046 1047\n",
            " 1048 1049 1050 1051 1052 1053 1054 1055 1056 1057 1058 1059 1060 1061\n",
            " 1062 1063 1064 1065 1066 1067 1068 1069 1070 1071 1072 1073 1074 1075\n",
            " 1076 1077 1078 1079 1080 1081 1082 1083 1084 1085 1086 1087 1088 1089\n",
            " 1090 1091 1092 1093 1094 1095 1096 1097 1098 1099 1100 1101 1102 1103\n",
            " 1104 1105 1106 1107 1108 1109 1110 1111 1112 1113 1114 1115 1116 1117\n",
            " 1118 1119 1120 1121 1122 1123 1124 1125 1126 1127 1128 1129 1130 1131\n",
            " 1132 1133 1134 1135 1136 1137 1138 1139 1140 1141 1142 1143 1144 1145\n",
            " 1146 1147 1148 1149 1150 1151 1152 1153 1154 1155 1156 1157 1158 1159\n",
            " 1160 1161 1162 1163 1164 1165 1166 1167 1168]\n",
            "[0.7564102564102564, 0.9273504273504274, 0.9615384615384616, 0.9487179487179487, 0.9742489270386266]\n"
          ]
        }
      ]
    },
    {
      "cell_type": "code",
      "metadata": {
        "colab": {
          "base_uri": "https://localhost:8080/"
        },
        "id": "gwepERxY5aFc",
        "outputId": "5732a609-5f30-4336-a3b0-a42a3ecaeb7d"
      },
      "source": [
        "np.mean(accuracy)"
      ],
      "execution_count": null,
      "outputs": [
        {
          "output_type": "execute_result",
          "data": {
            "text/plain": [
              "0.913653204211144"
            ]
          },
          "metadata": {},
          "execution_count": 317
        }
      ]
    },
    {
      "cell_type": "code",
      "metadata": {
        "colab": {
          "base_uri": "https://localhost:8080/"
        },
        "id": "gYjAfnLQ0__k",
        "outputId": "1d260b7e-e488-4e06-ff82-1d4a158e41d3"
      },
      "source": [
        "print(classification_report(y1_test,pred))"
      ],
      "execution_count": null,
      "outputs": [
        {
          "output_type": "stream",
          "name": "stdout",
          "text": [
            "              precision    recall  f1-score   support\n",
            "\n",
            "           0       0.98      1.00      0.99       213\n",
            "           1       0.94      0.75      0.83        20\n",
            "\n",
            "    accuracy                           0.97       233\n",
            "   macro avg       0.96      0.87      0.91       233\n",
            "weighted avg       0.97      0.97      0.97       233\n",
            "\n"
          ]
        }
      ]
    },
    {
      "cell_type": "code",
      "metadata": {
        "colab": {
          "base_uri": "https://localhost:8080/"
        },
        "id": "elsl43XB_jIG",
        "outputId": "09a52e16-bd0f-491f-8948-7c7ba23b2594"
      },
      "source": [
        "print(confusion_matrix(y1_test, pred))"
      ],
      "execution_count": null,
      "outputs": [
        {
          "output_type": "stream",
          "name": "stdout",
          "text": [
            "[[212   1]\n",
            " [  5  15]]\n"
          ]
        }
      ]
    },
    {
      "cell_type": "code",
      "metadata": {
        "colab": {
          "base_uri": "https://localhost:8080/"
        },
        "id": "h8rKRHC183j9",
        "outputId": "44c0bec5-c4a9-42a7-a9e5-1b5e6d298555"
      },
      "source": [
        "np.max(accuracy)"
      ],
      "execution_count": null,
      "outputs": [
        {
          "output_type": "execute_result",
          "data": {
            "text/plain": [
              "0.9785407725321889"
            ]
          },
          "metadata": {},
          "execution_count": 280
        }
      ]
    },
    {
      "cell_type": "markdown",
      "metadata": {
        "id": "Orxt72nWArJP"
      },
      "source": [
        "## after standardization"
      ]
    },
    {
      "cell_type": "code",
      "metadata": {
        "id": "SPCh5HbyAv9-"
      },
      "source": [
        "from sklearn.preprocessing import StandardScaler"
      ],
      "execution_count": null,
      "outputs": []
    },
    {
      "cell_type": "code",
      "metadata": {
        "colab": {
          "base_uri": "https://localhost:8080/",
          "height": 203
        },
        "id": "GKV027D7CEyU",
        "outputId": "e28d700c-0f3b-4c22-eb84-3669be0eee15"
      },
      "source": [
        "X.head()"
      ],
      "execution_count": null,
      "outputs": [
        {
          "output_type": "execute_result",
          "data": {
            "text/html": [
              "<div>\n",
              "<style scoped>\n",
              "    .dataframe tbody tr th:only-of-type {\n",
              "        vertical-align: middle;\n",
              "    }\n",
              "\n",
              "    .dataframe tbody tr th {\n",
              "        vertical-align: top;\n",
              "    }\n",
              "\n",
              "    .dataframe thead th {\n",
              "        text-align: right;\n",
              "    }\n",
              "</style>\n",
              "<table border=\"1\" class=\"dataframe\">\n",
              "  <thead>\n",
              "    <tr style=\"text-align: right;\">\n",
              "      <th></th>\n",
              "      <th>device</th>\n",
              "      <th>metric1</th>\n",
              "      <th>metric2</th>\n",
              "      <th>metric3</th>\n",
              "      <th>metric4</th>\n",
              "      <th>metric5</th>\n",
              "      <th>metric6</th>\n",
              "      <th>metric7</th>\n",
              "      <th>metric9</th>\n",
              "      <th>activedays</th>\n",
              "      <th>month</th>\n",
              "      <th>week_day</th>\n",
              "    </tr>\n",
              "  </thead>\n",
              "  <tbody>\n",
              "    <tr>\n",
              "      <th>0</th>\n",
              "      <td>0</td>\n",
              "      <td>128832128</td>\n",
              "      <td>56</td>\n",
              "      <td>0</td>\n",
              "      <td>52</td>\n",
              "      <td>6</td>\n",
              "      <td>409404</td>\n",
              "      <td>0</td>\n",
              "      <td>7</td>\n",
              "      <td>5</td>\n",
              "      <td>1</td>\n",
              "      <td>1</td>\n",
              "    </tr>\n",
              "    <tr>\n",
              "      <th>1</th>\n",
              "      <td>1</td>\n",
              "      <td>115676688</td>\n",
              "      <td>0</td>\n",
              "      <td>0</td>\n",
              "      <td>0</td>\n",
              "      <td>5</td>\n",
              "      <td>689161</td>\n",
              "      <td>0</td>\n",
              "      <td>0</td>\n",
              "      <td>130</td>\n",
              "      <td>5</td>\n",
              "      <td>7</td>\n",
              "    </tr>\n",
              "    <tr>\n",
              "      <th>2</th>\n",
              "      <td>2</td>\n",
              "      <td>7441792</td>\n",
              "      <td>0</td>\n",
              "      <td>3</td>\n",
              "      <td>0</td>\n",
              "      <td>6</td>\n",
              "      <td>404786</td>\n",
              "      <td>0</td>\n",
              "      <td>0</td>\n",
              "      <td>5</td>\n",
              "      <td>1</td>\n",
              "      <td>1</td>\n",
              "    </tr>\n",
              "    <tr>\n",
              "      <th>3</th>\n",
              "      <td>3</td>\n",
              "      <td>147350000</td>\n",
              "      <td>0</td>\n",
              "      <td>0</td>\n",
              "      <td>0</td>\n",
              "      <td>12</td>\n",
              "      <td>259491</td>\n",
              "      <td>0</td>\n",
              "      <td>0</td>\n",
              "      <td>47</td>\n",
              "      <td>2</td>\n",
              "      <td>1</td>\n",
              "    </tr>\n",
              "    <tr>\n",
              "      <th>4</th>\n",
              "      <td>4</td>\n",
              "      <td>185424928</td>\n",
              "      <td>0</td>\n",
              "      <td>0</td>\n",
              "      <td>0</td>\n",
              "      <td>6</td>\n",
              "      <td>412151</td>\n",
              "      <td>0</td>\n",
              "      <td>0</td>\n",
              "      <td>5</td>\n",
              "      <td>1</td>\n",
              "      <td>1</td>\n",
              "    </tr>\n",
              "  </tbody>\n",
              "</table>\n",
              "</div>"
            ],
            "text/plain": [
              "   device    metric1  metric2  metric3  ...  metric9  activedays  month  week_day\n",
              "0       0  128832128       56        0  ...        7           5      1         1\n",
              "1       1  115676688        0        0  ...        0         130      5         7\n",
              "2       2    7441792        0        3  ...        0           5      1         1\n",
              "3       3  147350000        0        0  ...        0          47      2         1\n",
              "4       4  185424928        0        0  ...        0           5      1         1\n",
              "\n",
              "[5 rows x 12 columns]"
            ]
          },
          "metadata": {},
          "execution_count": 162
        }
      ]
    },
    {
      "cell_type": "code",
      "metadata": {
        "colab": {
          "base_uri": "https://localhost:8080/"
        },
        "id": "ASr1BJ_rCOPC",
        "outputId": "80cb295f-a744-42f1-9ac0-dbb1ecb08310"
      },
      "source": [
        "X.info()"
      ],
      "execution_count": null,
      "outputs": [
        {
          "output_type": "stream",
          "name": "stdout",
          "text": [
            "<class 'pandas.core.frame.DataFrame'>\n",
            "Int64Index: 1169 entries, 0 to 1168\n",
            "Data columns (total 12 columns):\n",
            " #   Column      Non-Null Count  Dtype\n",
            "---  ------      --------------  -----\n",
            " 0   device      1169 non-null   int64\n",
            " 1   metric1     1169 non-null   int64\n",
            " 2   metric2     1169 non-null   int64\n",
            " 3   metric3     1169 non-null   int64\n",
            " 4   metric4     1169 non-null   int64\n",
            " 5   metric5     1169 non-null   int64\n",
            " 6   metric6     1169 non-null   int64\n",
            " 7   metric7     1169 non-null   int64\n",
            " 8   metric9     1169 non-null   int64\n",
            " 9   activedays  1169 non-null   int64\n",
            " 10  month       1169 non-null   int64\n",
            " 11  week_day    1169 non-null   int64\n",
            "dtypes: int64(12)\n",
            "memory usage: 158.7 KB\n"
          ]
        }
      ]
    },
    {
      "cell_type": "code",
      "metadata": {
        "colab": {
          "base_uri": "https://localhost:8080/"
        },
        "id": "5ieUGjQDA-LG",
        "outputId": "faee4db0-e503-4f4e-865a-f196c476057c"
      },
      "source": [
        "# numerical features\n",
        "num_cols = ['metric1','metric2','metric3','metric4', 'metric5', 'metric6', 'metric7', 'metric9', 'activedays', 'month', 'week_day']\n",
        "\n",
        "# apply standardization on numerical features\n",
        "for i in num_cols:\n",
        "\n",
        "    # fit on training data column\n",
        "    scale = StandardScaler().fit(X1_train[[i]])\n",
        "\n",
        "    # transform the training data column\n",
        "    X1_train[i] = scale.transform(X1_train[[i]])\n",
        "\n",
        "    # transform the testing data column\n",
        "    X1_test[i] = scale.transform(X1_test[[i]])\n",
        "\n"
      ],
      "execution_count": null,
      "outputs": [
        {
          "output_type": "stream",
          "name": "stderr",
          "text": [
            "/usr/local/lib/python3.7/dist-packages/ipykernel_launcher.py:11: SettingWithCopyWarning: \n",
            "A value is trying to be set on a copy of a slice from a DataFrame.\n",
            "Try using .loc[row_indexer,col_indexer] = value instead\n",
            "\n",
            "See the caveats in the documentation: https://pandas.pydata.org/pandas-docs/stable/user_guide/indexing.html#returning-a-view-versus-a-copy\n",
            "  # This is added back by InteractiveShellApp.init_path()\n",
            "/usr/local/lib/python3.7/dist-packages/ipykernel_launcher.py:14: SettingWithCopyWarning: \n",
            "A value is trying to be set on a copy of a slice from a DataFrame.\n",
            "Try using .loc[row_indexer,col_indexer] = value instead\n",
            "\n",
            "See the caveats in the documentation: https://pandas.pydata.org/pandas-docs/stable/user_guide/indexing.html#returning-a-view-versus-a-copy\n",
            "  \n",
            "/usr/local/lib/python3.7/dist-packages/ipykernel_launcher.py:11: SettingWithCopyWarning: \n",
            "A value is trying to be set on a copy of a slice from a DataFrame.\n",
            "Try using .loc[row_indexer,col_indexer] = value instead\n",
            "\n",
            "See the caveats in the documentation: https://pandas.pydata.org/pandas-docs/stable/user_guide/indexing.html#returning-a-view-versus-a-copy\n",
            "  # This is added back by InteractiveShellApp.init_path()\n",
            "/usr/local/lib/python3.7/dist-packages/ipykernel_launcher.py:14: SettingWithCopyWarning: \n",
            "A value is trying to be set on a copy of a slice from a DataFrame.\n",
            "Try using .loc[row_indexer,col_indexer] = value instead\n",
            "\n",
            "See the caveats in the documentation: https://pandas.pydata.org/pandas-docs/stable/user_guide/indexing.html#returning-a-view-versus-a-copy\n",
            "  \n",
            "/usr/local/lib/python3.7/dist-packages/ipykernel_launcher.py:11: SettingWithCopyWarning: \n",
            "A value is trying to be set on a copy of a slice from a DataFrame.\n",
            "Try using .loc[row_indexer,col_indexer] = value instead\n",
            "\n",
            "See the caveats in the documentation: https://pandas.pydata.org/pandas-docs/stable/user_guide/indexing.html#returning-a-view-versus-a-copy\n",
            "  # This is added back by InteractiveShellApp.init_path()\n",
            "/usr/local/lib/python3.7/dist-packages/ipykernel_launcher.py:14: SettingWithCopyWarning: \n",
            "A value is trying to be set on a copy of a slice from a DataFrame.\n",
            "Try using .loc[row_indexer,col_indexer] = value instead\n",
            "\n",
            "See the caveats in the documentation: https://pandas.pydata.org/pandas-docs/stable/user_guide/indexing.html#returning-a-view-versus-a-copy\n",
            "  \n",
            "/usr/local/lib/python3.7/dist-packages/ipykernel_launcher.py:11: SettingWithCopyWarning: \n",
            "A value is trying to be set on a copy of a slice from a DataFrame.\n",
            "Try using .loc[row_indexer,col_indexer] = value instead\n",
            "\n",
            "See the caveats in the documentation: https://pandas.pydata.org/pandas-docs/stable/user_guide/indexing.html#returning-a-view-versus-a-copy\n",
            "  # This is added back by InteractiveShellApp.init_path()\n",
            "/usr/local/lib/python3.7/dist-packages/ipykernel_launcher.py:14: SettingWithCopyWarning: \n",
            "A value is trying to be set on a copy of a slice from a DataFrame.\n",
            "Try using .loc[row_indexer,col_indexer] = value instead\n",
            "\n",
            "See the caveats in the documentation: https://pandas.pydata.org/pandas-docs/stable/user_guide/indexing.html#returning-a-view-versus-a-copy\n",
            "  \n",
            "/usr/local/lib/python3.7/dist-packages/ipykernel_launcher.py:11: SettingWithCopyWarning: \n",
            "A value is trying to be set on a copy of a slice from a DataFrame.\n",
            "Try using .loc[row_indexer,col_indexer] = value instead\n",
            "\n",
            "See the caveats in the documentation: https://pandas.pydata.org/pandas-docs/stable/user_guide/indexing.html#returning-a-view-versus-a-copy\n",
            "  # This is added back by InteractiveShellApp.init_path()\n",
            "/usr/local/lib/python3.7/dist-packages/ipykernel_launcher.py:14: SettingWithCopyWarning: \n",
            "A value is trying to be set on a copy of a slice from a DataFrame.\n",
            "Try using .loc[row_indexer,col_indexer] = value instead\n",
            "\n",
            "See the caveats in the documentation: https://pandas.pydata.org/pandas-docs/stable/user_guide/indexing.html#returning-a-view-versus-a-copy\n",
            "  \n",
            "/usr/local/lib/python3.7/dist-packages/ipykernel_launcher.py:11: SettingWithCopyWarning: \n",
            "A value is trying to be set on a copy of a slice from a DataFrame.\n",
            "Try using .loc[row_indexer,col_indexer] = value instead\n",
            "\n",
            "See the caveats in the documentation: https://pandas.pydata.org/pandas-docs/stable/user_guide/indexing.html#returning-a-view-versus-a-copy\n",
            "  # This is added back by InteractiveShellApp.init_path()\n",
            "/usr/local/lib/python3.7/dist-packages/ipykernel_launcher.py:14: SettingWithCopyWarning: \n",
            "A value is trying to be set on a copy of a slice from a DataFrame.\n",
            "Try using .loc[row_indexer,col_indexer] = value instead\n",
            "\n",
            "See the caveats in the documentation: https://pandas.pydata.org/pandas-docs/stable/user_guide/indexing.html#returning-a-view-versus-a-copy\n",
            "  \n",
            "/usr/local/lib/python3.7/dist-packages/ipykernel_launcher.py:11: SettingWithCopyWarning: \n",
            "A value is trying to be set on a copy of a slice from a DataFrame.\n",
            "Try using .loc[row_indexer,col_indexer] = value instead\n",
            "\n",
            "See the caveats in the documentation: https://pandas.pydata.org/pandas-docs/stable/user_guide/indexing.html#returning-a-view-versus-a-copy\n",
            "  # This is added back by InteractiveShellApp.init_path()\n",
            "/usr/local/lib/python3.7/dist-packages/ipykernel_launcher.py:14: SettingWithCopyWarning: \n",
            "A value is trying to be set on a copy of a slice from a DataFrame.\n",
            "Try using .loc[row_indexer,col_indexer] = value instead\n",
            "\n",
            "See the caveats in the documentation: https://pandas.pydata.org/pandas-docs/stable/user_guide/indexing.html#returning-a-view-versus-a-copy\n",
            "  \n",
            "/usr/local/lib/python3.7/dist-packages/ipykernel_launcher.py:11: SettingWithCopyWarning: \n",
            "A value is trying to be set on a copy of a slice from a DataFrame.\n",
            "Try using .loc[row_indexer,col_indexer] = value instead\n",
            "\n",
            "See the caveats in the documentation: https://pandas.pydata.org/pandas-docs/stable/user_guide/indexing.html#returning-a-view-versus-a-copy\n",
            "  # This is added back by InteractiveShellApp.init_path()\n",
            "/usr/local/lib/python3.7/dist-packages/ipykernel_launcher.py:14: SettingWithCopyWarning: \n",
            "A value is trying to be set on a copy of a slice from a DataFrame.\n",
            "Try using .loc[row_indexer,col_indexer] = value instead\n",
            "\n",
            "See the caveats in the documentation: https://pandas.pydata.org/pandas-docs/stable/user_guide/indexing.html#returning-a-view-versus-a-copy\n",
            "  \n",
            "/usr/local/lib/python3.7/dist-packages/ipykernel_launcher.py:11: SettingWithCopyWarning: \n",
            "A value is trying to be set on a copy of a slice from a DataFrame.\n",
            "Try using .loc[row_indexer,col_indexer] = value instead\n",
            "\n",
            "See the caveats in the documentation: https://pandas.pydata.org/pandas-docs/stable/user_guide/indexing.html#returning-a-view-versus-a-copy\n",
            "  # This is added back by InteractiveShellApp.init_path()\n",
            "/usr/local/lib/python3.7/dist-packages/ipykernel_launcher.py:14: SettingWithCopyWarning: \n",
            "A value is trying to be set on a copy of a slice from a DataFrame.\n",
            "Try using .loc[row_indexer,col_indexer] = value instead\n",
            "\n",
            "See the caveats in the documentation: https://pandas.pydata.org/pandas-docs/stable/user_guide/indexing.html#returning-a-view-versus-a-copy\n",
            "  \n",
            "/usr/local/lib/python3.7/dist-packages/ipykernel_launcher.py:11: SettingWithCopyWarning: \n",
            "A value is trying to be set on a copy of a slice from a DataFrame.\n",
            "Try using .loc[row_indexer,col_indexer] = value instead\n",
            "\n",
            "See the caveats in the documentation: https://pandas.pydata.org/pandas-docs/stable/user_guide/indexing.html#returning-a-view-versus-a-copy\n",
            "  # This is added back by InteractiveShellApp.init_path()\n",
            "/usr/local/lib/python3.7/dist-packages/ipykernel_launcher.py:14: SettingWithCopyWarning: \n",
            "A value is trying to be set on a copy of a slice from a DataFrame.\n",
            "Try using .loc[row_indexer,col_indexer] = value instead\n",
            "\n",
            "See the caveats in the documentation: https://pandas.pydata.org/pandas-docs/stable/user_guide/indexing.html#returning-a-view-versus-a-copy\n",
            "  \n",
            "/usr/local/lib/python3.7/dist-packages/ipykernel_launcher.py:11: SettingWithCopyWarning: \n",
            "A value is trying to be set on a copy of a slice from a DataFrame.\n",
            "Try using .loc[row_indexer,col_indexer] = value instead\n",
            "\n",
            "See the caveats in the documentation: https://pandas.pydata.org/pandas-docs/stable/user_guide/indexing.html#returning-a-view-versus-a-copy\n",
            "  # This is added back by InteractiveShellApp.init_path()\n",
            "/usr/local/lib/python3.7/dist-packages/ipykernel_launcher.py:14: SettingWithCopyWarning: \n",
            "A value is trying to be set on a copy of a slice from a DataFrame.\n",
            "Try using .loc[row_indexer,col_indexer] = value instead\n",
            "\n",
            "See the caveats in the documentation: https://pandas.pydata.org/pandas-docs/stable/user_guide/indexing.html#returning-a-view-versus-a-copy\n",
            "  \n"
          ]
        }
      ]
    },
    {
      "cell_type": "code",
      "metadata": {
        "colab": {
          "base_uri": "https://localhost:8080/"
        },
        "id": "sKWrRYVlDIBs",
        "outputId": "1d51e5d3-c8cb-49fc-e081-7fd049805017"
      },
      "source": [
        "accuracy = []\n",
        "\n",
        "\n",
        "for train_index, test_index in skf.split(X, y):\n",
        "  print(\"TRAIN :\", train_index)\n",
        "  print( \"TEST: \", test_index)\n",
        "  X1_train, X1_test = X.iloc[train_index], X.iloc[test_index]\n",
        "  y1_train, y1_test = y.iloc[train_index], y.iloc[test_index]\n",
        "\n",
        "  model.fit(X1_train, y1_train)\n",
        "  pred = model.predict(X1_test)\n",
        "  score = accuracy_score(pred, y1_test)\n",
        "  accuracy.append(score)\n",
        "\n",
        "print(accuracy)\n"
      ],
      "execution_count": null,
      "outputs": [
        {
          "output_type": "stream",
          "name": "stdout",
          "text": [
            "TRAIN : [ 147  155  163  187  235  239  240  241  242  243  244  245  246  247\n",
            "  248  249  250  251  252  253  254  255  256  257  258  259  260  261\n",
            "  262  263  264  265  266  267  268  269  270  271  272  273  274  275\n",
            "  276  277  278  279  280  281  282  283  284  285  286  287  288  289\n",
            "  290  291  292  293  294  295  296  297  298  299  300  301  302  303\n",
            "  304  305  306  307  308  309  310  311  312  313  314  315  316  317\n",
            "  318  319  320  321  322  323  324  325  326  327  328  329  330  331\n",
            "  332  333  334  335  336  337  338  339  340  341  342  343  344  345\n",
            "  346  347  348  349  350  351  352  353  354  355  356  357  358  359\n",
            "  360  361  362  363  364  365  366  367  368  369  370  371  372  373\n",
            "  374  375  376  377  378  379  380  381  382  383  384  385  386  387\n",
            "  388  389  390  391  392  393  394  395  396  397  398  399  400  401\n",
            "  402  403  404  405  406  407  408  409  410  411  412  413  414  415\n",
            "  416  417  418  419  420  421  422  423  424  425  426  427  428  429\n",
            "  430  431  432  433  434  435  436  437  438  439  440  441  442  443\n",
            "  444  445  446  447  448  449  450  451  452  453  454  455  456  457\n",
            "  458  459  460  461  462  463  464  465  466  467  468  469  470  471\n",
            "  472  473  474  475  476  477  478  479  480  481  482  483  484  485\n",
            "  486  487  488  489  490  491  492  493  494  495  496  497  498  499\n",
            "  500  501  502  503  504  505  506  507  508  509  510  511  512  513\n",
            "  514  515  516  517  518  519  520  521  522  523  524  525  526  527\n",
            "  528  529  530  531  532  533  534  535  536  537  538  539  540  541\n",
            "  542  543  544  545  546  547  548  549  550  551  552  553  554  555\n",
            "  556  557  558  559  560  561  562  563  564  565  566  567  568  569\n",
            "  570  571  572  573  574  575  576  577  578  579  580  581  582  583\n",
            "  584  585  586  587  588  589  590  591  592  593  594  595  596  597\n",
            "  598  599  600  601  602  603  604  605  606  607  608  609  610  611\n",
            "  612  613  614  615  616  617  618  619  620  621  622  623  624  625\n",
            "  626  627  628  629  630  631  632  633  634  635  636  637  638  639\n",
            "  640  641  642  643  644  645  646  647  648  649  650  651  652  653\n",
            "  654  655  656  657  658  659  660  661  662  663  664  665  666  667\n",
            "  668  669  670  671  672  673  674  675  676  677  678  679  680  681\n",
            "  682  683  684  685  686  687  688  689  690  691  692  693  694  695\n",
            "  696  697  698  699  700  701  702  703  704  705  706  707  708  709\n",
            "  710  711  712  713  714  715  716  717  718  719  720  721  722  723\n",
            "  724  725  726  727  728  729  730  731  732  733  734  735  736  737\n",
            "  738  739  740  741  742  743  744  745  746  747  748  749  750  751\n",
            "  752  753  754  755  756  757  758  759  760  761  762  763  764  765\n",
            "  766  767  768  769  770  771  772  773  774  775  776  777  778  779\n",
            "  780  781  782  783  784  785  786  787  788  789  790  791  792  793\n",
            "  794  795  796  797  798  799  800  801  802  803  804  805  806  807\n",
            "  808  809  810  811  812  813  814  815  816  817  818  819  820  821\n",
            "  822  823  824  825  826  827  828  829  830  831  832  833  834  835\n",
            "  836  837  838  839  840  841  842  843  844  845  846  847  848  849\n",
            "  850  851  852  853  854  855  856  857  858  859  860  861  862  863\n",
            "  864  865  866  867  868  869  870  871  872  873  874  875  876  877\n",
            "  878  879  880  881  882  883  884  885  886  887  888  889  890  891\n",
            "  892  893  894  895  896  897  898  899  900  901  902  903  904  905\n",
            "  906  907  908  909  910  911  912  913  914  915  916  917  918  919\n",
            "  920  921  922  923  924  925  926  927  928  929  930  931  932  933\n",
            "  934  935  936  937  938  939  940  941  942  943  944  945  946  947\n",
            "  948  949  950  951  952  953  954  955  956  957  958  959  960  961\n",
            "  962  963  964  965  966  967  968  969  970  971  972  973  974  975\n",
            "  976  977  978  979  980  981  982  983  984  985  986  987  988  989\n",
            "  990  991  992  993  994  995  996  997  998  999 1000 1001 1002 1003\n",
            " 1004 1005 1006 1007 1008 1009 1010 1011 1012 1013 1014 1015 1016 1017\n",
            " 1018 1019 1020 1021 1022 1023 1024 1025 1026 1027 1028 1029 1030 1031\n",
            " 1032 1033 1034 1035 1036 1037 1038 1039 1040 1041 1042 1043 1044 1045\n",
            " 1046 1047 1048 1049 1050 1051 1052 1053 1054 1055 1056 1057 1058 1059\n",
            " 1060 1061 1062 1063 1064 1065 1066 1067 1068 1069 1070 1071 1072 1073\n",
            " 1074 1075 1076 1077 1078 1079 1080 1081 1082 1083 1084 1085 1086 1087\n",
            " 1088 1089 1090 1091 1092 1093 1094 1095 1096 1097 1098 1099 1100 1101\n",
            " 1102 1103 1104 1105 1106 1107 1108 1109 1110 1111 1112 1113 1114 1115\n",
            " 1116 1117 1118 1119 1120 1121 1122 1123 1124 1125 1126 1127 1128 1129\n",
            " 1130 1131 1132 1133 1134 1135 1136 1137 1138 1139 1140 1141 1142 1143\n",
            " 1144 1145 1146 1147 1148 1149 1150 1151 1152 1153 1154 1155 1156 1157\n",
            " 1158 1159 1160 1161 1162 1163 1164 1165 1166 1167 1168]\n",
            "TEST:  [  0   1   2   3   4   5   6   7   8   9  10  11  12  13  14  15  16  17\n",
            "  18  19  20  21  22  23  24  25  26  27  28  29  30  31  32  33  34  35\n",
            "  36  37  38  39  40  41  42  43  44  45  46  47  48  49  50  51  52  53\n",
            "  54  55  56  57  58  59  60  61  62  63  64  65  66  67  68  69  70  71\n",
            "  72  73  74  75  76  77  78  79  80  81  82  83  84  85  86  87  88  89\n",
            "  90  91  92  93  94  95  96  97  98  99 100 101 102 103 104 105 106 107\n",
            " 108 109 110 111 112 113 114 115 116 117 118 119 120 121 122 123 124 125\n",
            " 126 127 128 129 130 131 132 133 134 135 136 137 138 139 140 141 142 143\n",
            " 144 145 146 148 149 150 151 152 153 154 156 157 158 159 160 161 162 164\n",
            " 165 166 167 168 169 170 171 172 173 174 175 176 177 178 179 180 181 182\n",
            " 183 184 185 186 188 189 190 191 192 193 194 195 196 197 198 199 200 201\n",
            " 202 203 204 205 206 207 208 209 210 211 212 213 214 215 216 217 218 219\n",
            " 220 221 222 223 224 225 226 227 228 229 230 231 232 233 234 236 237 238]\n",
            "TRAIN : [   0    1    2    3    4    5    6    7    8    9   10   11   12   13\n",
            "   14   15   16   17   18   19   20   21   22   23   24   25   26   27\n",
            "   28   29   30   31   32   33   34   35   36   37   38   39   40   41\n",
            "   42   43   44   45   46   47   48   49   50   51   52   53   54   55\n",
            "   56   57   58   59   60   61   62   63   64   65   66   67   68   69\n",
            "   70   71   72   73   74   75   76   77   78   79   80   81   82   83\n",
            "   84   85   86   87   88   89   90   91   92   93   94   95   96   97\n",
            "   98   99  100  101  102  103  104  105  106  107  108  109  110  111\n",
            "  112  113  114  115  116  117  118  119  120  121  122  123  124  125\n",
            "  126  127  128  129  130  131  132  133  134  135  136  137  138  139\n",
            "  140  141  142  143  144  145  146  148  149  150  151  152  153  154\n",
            "  156  157  158  159  160  161  162  164  165  166  167  168  169  170\n",
            "  171  172  173  174  175  176  177  178  179  180  181  182  183  184\n",
            "  185  186  188  189  190  191  192  193  194  195  196  197  198  199\n",
            "  200  201  202  203  204  205  206  207  208  209  210  211  212  213\n",
            "  214  215  216  217  218  219  220  221  222  223  224  225  226  227\n",
            "  228  229  230  231  232  233  234  236  237  238  465  466  467  468\n",
            "  469  470  471  472  473  474  475  476  478  479  480  481  482  483\n",
            "  484  485  486  487  488  489  490  492  493  494  495  496  497  498\n",
            "  499  500  501  502  503  504  505  506  507  508  509  510  511  512\n",
            "  513  515  516  517  518  519  520  521  522  523  524  525  526  527\n",
            "  528  529  530  531  532  533  534  535  536  537  538  539  540  541\n",
            "  542  543  544  545  546  547  548  549  550  551  552  553  554  555\n",
            "  556  557  558  559  560  561  562  563  564  565  566  567  568  569\n",
            "  570  571  572  573  574  575  576  577  578  579  580  581  582  583\n",
            "  584  585  586  587  588  589  590  591  592  593  594  595  596  597\n",
            "  598  599  600  601  602  603  604  605  606  607  608  609  610  611\n",
            "  612  613  614  615  616  617  618  619  620  621  622  623  624  625\n",
            "  626  627  628  629  630  631  632  633  634  635  636  637  638  639\n",
            "  640  641  642  643  644  645  646  647  648  649  650  651  652  653\n",
            "  654  655  656  657  658  659  660  661  662  663  664  665  666  667\n",
            "  668  669  670  671  672  673  674  675  676  677  678  679  680  681\n",
            "  682  683  684  685  686  687  688  689  690  691  692  693  694  695\n",
            "  696  697  698  699  700  701  702  703  704  705  706  707  708  709\n",
            "  710  711  712  713  714  715  716  717  718  719  720  721  722  723\n",
            "  724  725  726  727  728  729  730  731  732  733  734  735  736  737\n",
            "  738  739  740  741  742  743  744  745  746  747  748  749  750  751\n",
            "  752  753  754  755  756  757  758  759  760  761  762  763  764  765\n",
            "  766  767  768  769  770  771  772  773  774  775  776  777  778  779\n",
            "  780  781  782  783  784  785  786  787  788  789  790  791  792  793\n",
            "  794  795  796  797  798  799  800  801  802  803  804  805  806  807\n",
            "  808  809  810  811  812  813  814  815  816  817  818  819  820  821\n",
            "  822  823  824  825  826  827  828  829  830  831  832  833  834  835\n",
            "  836  837  838  839  840  841  842  843  844  845  846  847  848  849\n",
            "  850  851  852  853  854  855  856  857  858  859  860  861  862  863\n",
            "  864  865  866  867  868  869  870  871  872  873  874  875  876  877\n",
            "  878  879  880  881  882  883  884  885  886  887  888  889  890  891\n",
            "  892  893  894  895  896  897  898  899  900  901  902  903  904  905\n",
            "  906  907  908  909  910  911  912  913  914  915  916  917  918  919\n",
            "  920  921  922  923  924  925  926  927  928  929  930  931  932  933\n",
            "  934  935  936  937  938  939  940  941  942  943  944  945  946  947\n",
            "  948  949  950  951  952  953  954  955  956  957  958  959  960  961\n",
            "  962  963  964  965  966  967  968  969  970  971  972  973  974  975\n",
            "  976  977  978  979  980  981  982  983  984  985  986  987  988  989\n",
            "  990  991  992  993  994  995  996  997  998  999 1000 1001 1002 1003\n",
            " 1004 1005 1006 1007 1008 1009 1010 1011 1012 1013 1014 1015 1016 1017\n",
            " 1018 1019 1020 1021 1022 1023 1024 1025 1026 1027 1028 1029 1030 1031\n",
            " 1032 1033 1034 1035 1036 1037 1038 1039 1040 1041 1042 1043 1044 1045\n",
            " 1046 1047 1048 1049 1050 1051 1052 1053 1054 1055 1056 1057 1058 1059\n",
            " 1060 1061 1062 1063 1064 1065 1066 1067 1068 1069 1070 1071 1072 1073\n",
            " 1074 1075 1076 1077 1078 1079 1080 1081 1082 1083 1084 1085 1086 1087\n",
            " 1088 1089 1090 1091 1092 1093 1094 1095 1096 1097 1098 1099 1100 1101\n",
            " 1102 1103 1104 1105 1106 1107 1108 1109 1110 1111 1112 1113 1114 1115\n",
            " 1116 1117 1118 1119 1120 1121 1122 1123 1124 1125 1126 1127 1128 1129\n",
            " 1130 1131 1132 1133 1134 1135 1136 1137 1138 1139 1140 1141 1142 1143\n",
            " 1144 1145 1146 1147 1148 1149 1150 1151 1152 1153 1154 1155 1156 1157\n",
            " 1158 1159 1160 1161 1162 1163 1164 1165 1166 1167 1168]\n",
            "TEST:  [147 155 163 187 235 239 240 241 242 243 244 245 246 247 248 249 250 251\n",
            " 252 253 254 255 256 257 258 259 260 261 262 263 264 265 266 267 268 269\n",
            " 270 271 272 273 274 275 276 277 278 279 280 281 282 283 284 285 286 287\n",
            " 288 289 290 291 292 293 294 295 296 297 298 299 300 301 302 303 304 305\n",
            " 306 307 308 309 310 311 312 313 314 315 316 317 318 319 320 321 322 323\n",
            " 324 325 326 327 328 329 330 331 332 333 334 335 336 337 338 339 340 341\n",
            " 342 343 344 345 346 347 348 349 350 351 352 353 354 355 356 357 358 359\n",
            " 360 361 362 363 364 365 366 367 368 369 370 371 372 373 374 375 376 377\n",
            " 378 379 380 381 382 383 384 385 386 387 388 389 390 391 392 393 394 395\n",
            " 396 397 398 399 400 401 402 403 404 405 406 407 408 409 410 411 412 413\n",
            " 414 415 416 417 418 419 420 421 422 423 424 425 426 427 428 429 430 431\n",
            " 432 433 434 435 436 437 438 439 440 441 442 443 444 445 446 447 448 449\n",
            " 450 451 452 453 454 455 456 457 458 459 460 461 462 463 464 477 491 514]\n",
            "TRAIN : [   0    1    2    3    4    5    6    7    8    9   10   11   12   13\n",
            "   14   15   16   17   18   19   20   21   22   23   24   25   26   27\n",
            "   28   29   30   31   32   33   34   35   36   37   38   39   40   41\n",
            "   42   43   44   45   46   47   48   49   50   51   52   53   54   55\n",
            "   56   57   58   59   60   61   62   63   64   65   66   67   68   69\n",
            "   70   71   72   73   74   75   76   77   78   79   80   81   82   83\n",
            "   84   85   86   87   88   89   90   91   92   93   94   95   96   97\n",
            "   98   99  100  101  102  103  104  105  106  107  108  109  110  111\n",
            "  112  113  114  115  116  117  118  119  120  121  122  123  124  125\n",
            "  126  127  128  129  130  131  132  133  134  135  136  137  138  139\n",
            "  140  141  142  143  144  145  146  147  148  149  150  151  152  153\n",
            "  154  155  156  157  158  159  160  161  162  163  164  165  166  167\n",
            "  168  169  170  171  172  173  174  175  176  177  178  179  180  181\n",
            "  182  183  184  185  186  187  188  189  190  191  192  193  194  195\n",
            "  196  197  198  199  200  201  202  203  204  205  206  207  208  209\n",
            "  210  211  212  213  214  215  216  217  218  219  220  221  222  223\n",
            "  224  225  226  227  228  229  230  231  232  233  234  235  236  237\n",
            "  238  239  240  241  242  243  244  245  246  247  248  249  250  251\n",
            "  252  253  254  255  256  257  258  259  260  261  262  263  264  265\n",
            "  266  267  268  269  270  271  272  273  274  275  276  277  278  279\n",
            "  280  281  282  283  284  285  286  287  288  289  290  291  292  293\n",
            "  294  295  296  297  298  299  300  301  302  303  304  305  306  307\n",
            "  308  309  310  311  312  313  314  315  316  317  318  319  320  321\n",
            "  322  323  324  325  326  327  328  329  330  331  332  333  334  335\n",
            "  336  337  338  339  340  341  342  343  344  345  346  347  348  349\n",
            "  350  351  352  353  354  355  356  357  358  359  360  361  362  363\n",
            "  364  365  366  367  368  369  370  371  372  373  374  375  376  377\n",
            "  378  379  380  381  382  383  384  385  386  387  388  389  390  391\n",
            "  392  393  394  395  396  397  398  399  400  401  402  403  404  405\n",
            "  406  407  408  409  410  411  412  413  414  415  416  417  418  419\n",
            "  420  421  422  423  424  425  426  427  428  429  430  431  432  433\n",
            "  434  435  436  437  438  439  440  441  442  443  444  445  446  447\n",
            "  448  449  450  451  452  453  454  455  456  457  458  459  460  461\n",
            "  462  463  464  477  491  514  701  702  703  704  705  706  707  708\n",
            "  709  710  711  712  713  714  715  716  717  718  719  720  721  722\n",
            "  723  724  725  726  727  728  730  731  732  733  734  735  736  737\n",
            "  738  739  740  741  742  743  744  745  746  747  748  749  750  751\n",
            "  752  753  754  755  756  757  758  759  760  761  762  763  764  765\n",
            "  766  767  768  769  770  771  772  773  774  775  776  777  778  779\n",
            "  780  781  782  783  784  785  786  787  788  789  790  791  792  793\n",
            "  794  795  796  797  798  799  800  801  802  803  804  805  806  807\n",
            "  808  809  810  811  812  813  814  815  816  817  818  819  820  821\n",
            "  822  823  824  825  826  827  828  829  830  831  832  833  834  835\n",
            "  836  837  838  839  840  841  842  843  844  845  846  847  848  849\n",
            "  850  851  852  853  854  855  856  857  858  859  860  861  862  863\n",
            "  864  865  866  867  868  869  870  871  872  873  874  875  876  877\n",
            "  878  879  880  881  882  883  884  885  886  887  888  889  890  891\n",
            "  892  893  894  895  896  897  898  899  900  901  902  903  904  905\n",
            "  906  907  908  909  910  911  912  913  914  915  916  917  918  919\n",
            "  920  921  922  923  924  925  926  927  928  929  930  931  932  933\n",
            "  934  935  936  937  938  939  940  941  942  943  944  945  946  947\n",
            "  948  949  950  951  952  953  954  955  956  957  958  959  960  961\n",
            "  962  963  964  965  966  967  968  969  970  971  972  973  974  975\n",
            "  976  977  978  979  980  981  982  983  984  985  986  987  988  989\n",
            "  990  991  992  993  994  995  996  997  998  999 1000 1001 1002 1003\n",
            " 1004 1005 1006 1007 1008 1009 1010 1011 1012 1013 1014 1015 1016 1017\n",
            " 1018 1019 1020 1021 1022 1023 1024 1025 1026 1027 1028 1029 1030 1031\n",
            " 1032 1033 1034 1035 1036 1037 1038 1039 1040 1041 1042 1043 1044 1045\n",
            " 1046 1047 1048 1049 1050 1051 1052 1053 1054 1055 1056 1057 1058 1059\n",
            " 1060 1061 1062 1063 1064 1065 1066 1067 1068 1069 1070 1071 1072 1073\n",
            " 1074 1075 1076 1077 1078 1079 1080 1081 1082 1083 1084 1085 1086 1087\n",
            " 1088 1089 1090 1091 1092 1093 1094 1095 1096 1097 1098 1099 1100 1101\n",
            " 1102 1103 1104 1105 1106 1107 1108 1109 1110 1111 1112 1113 1114 1115\n",
            " 1116 1117 1118 1119 1120 1121 1122 1123 1124 1125 1126 1127 1128 1129\n",
            " 1130 1131 1132 1133 1134 1135 1136 1137 1138 1139 1140 1141 1142 1143\n",
            " 1144 1145 1146 1147 1148 1149 1150 1151 1152 1153 1154 1155 1156 1157\n",
            " 1158 1159 1160 1161 1162 1163 1164 1165 1166 1167 1168]\n",
            "TEST:  [465 466 467 468 469 470 471 472 473 474 475 476 478 479 480 481 482 483\n",
            " 484 485 486 487 488 489 490 492 493 494 495 496 497 498 499 500 501 502\n",
            " 503 504 505 506 507 508 509 510 511 512 513 515 516 517 518 519 520 521\n",
            " 522 523 524 525 526 527 528 529 530 531 532 533 534 535 536 537 538 539\n",
            " 540 541 542 543 544 545 546 547 548 549 550 551 552 553 554 555 556 557\n",
            " 558 559 560 561 562 563 564 565 566 567 568 569 570 571 572 573 574 575\n",
            " 576 577 578 579 580 581 582 583 584 585 586 587 588 589 590 591 592 593\n",
            " 594 595 596 597 598 599 600 601 602 603 604 605 606 607 608 609 610 611\n",
            " 612 613 614 615 616 617 618 619 620 621 622 623 624 625 626 627 628 629\n",
            " 630 631 632 633 634 635 636 637 638 639 640 641 642 643 644 645 646 647\n",
            " 648 649 650 651 652 653 654 655 656 657 658 659 660 661 662 663 664 665\n",
            " 666 667 668 669 670 671 672 673 674 675 676 677 678 679 680 681 682 683\n",
            " 684 685 686 687 688 689 690 691 692 693 694 695 696 697 698 699 700 729]\n",
            "TRAIN : [   0    1    2    3    4    5    6    7    8    9   10   11   12   13\n",
            "   14   15   16   17   18   19   20   21   22   23   24   25   26   27\n",
            "   28   29   30   31   32   33   34   35   36   37   38   39   40   41\n",
            "   42   43   44   45   46   47   48   49   50   51   52   53   54   55\n",
            "   56   57   58   59   60   61   62   63   64   65   66   67   68   69\n",
            "   70   71   72   73   74   75   76   77   78   79   80   81   82   83\n",
            "   84   85   86   87   88   89   90   91   92   93   94   95   96   97\n",
            "   98   99  100  101  102  103  104  105  106  107  108  109  110  111\n",
            "  112  113  114  115  116  117  118  119  120  121  122  123  124  125\n",
            "  126  127  128  129  130  131  132  133  134  135  136  137  138  139\n",
            "  140  141  142  143  144  145  146  147  148  149  150  151  152  153\n",
            "  154  155  156  157  158  159  160  161  162  163  164  165  166  167\n",
            "  168  169  170  171  172  173  174  175  176  177  178  179  180  181\n",
            "  182  183  184  185  186  187  188  189  190  191  192  193  194  195\n",
            "  196  197  198  199  200  201  202  203  204  205  206  207  208  209\n",
            "  210  211  212  213  214  215  216  217  218  219  220  221  222  223\n",
            "  224  225  226  227  228  229  230  231  232  233  234  235  236  237\n",
            "  238  239  240  241  242  243  244  245  246  247  248  249  250  251\n",
            "  252  253  254  255  256  257  258  259  260  261  262  263  264  265\n",
            "  266  267  268  269  270  271  272  273  274  275  276  277  278  279\n",
            "  280  281  282  283  284  285  286  287  288  289  290  291  292  293\n",
            "  294  295  296  297  298  299  300  301  302  303  304  305  306  307\n",
            "  308  309  310  311  312  313  314  315  316  317  318  319  320  321\n",
            "  322  323  324  325  326  327  328  329  330  331  332  333  334  335\n",
            "  336  337  338  339  340  341  342  343  344  345  346  347  348  349\n",
            "  350  351  352  353  354  355  356  357  358  359  360  361  362  363\n",
            "  364  365  366  367  368  369  370  371  372  373  374  375  376  377\n",
            "  378  379  380  381  382  383  384  385  386  387  388  389  390  391\n",
            "  392  393  394  395  396  397  398  399  400  401  402  403  404  405\n",
            "  406  407  408  409  410  411  412  413  414  415  416  417  418  419\n",
            "  420  421  422  423  424  425  426  427  428  429  430  431  432  433\n",
            "  434  435  436  437  438  439  440  441  442  443  444  445  446  447\n",
            "  448  449  450  451  452  453  454  455  456  457  458  459  460  461\n",
            "  462  463  464  465  466  467  468  469  470  471  472  473  474  475\n",
            "  476  477  478  479  480  481  482  483  484  485  486  487  488  489\n",
            "  490  491  492  493  494  495  496  497  498  499  500  501  502  503\n",
            "  504  505  506  507  508  509  510  511  512  513  514  515  516  517\n",
            "  518  519  520  521  522  523  524  525  526  527  528  529  530  531\n",
            "  532  533  534  535  536  537  538  539  540  541  542  543  544  545\n",
            "  546  547  548  549  550  551  552  553  554  555  556  557  558  559\n",
            "  560  561  562  563  564  565  566  567  568  569  570  571  572  573\n",
            "  574  575  576  577  578  579  580  581  582  583  584  585  586  587\n",
            "  588  589  590  591  592  593  594  595  596  597  598  599  600  601\n",
            "  602  603  604  605  606  607  608  609  610  611  612  613  614  615\n",
            "  616  617  618  619  620  621  622  623  624  625  626  627  628  629\n",
            "  630  631  632  633  634  635  636  637  638  639  640  641  642  643\n",
            "  644  645  646  647  648  649  650  651  652  653  654  655  656  657\n",
            "  658  659  660  661  662  663  664  665  666  667  668  669  670  671\n",
            "  672  673  674  675  676  677  678  679  680  681  682  683  684  685\n",
            "  686  687  688  689  690  691  692  693  694  695  696  697  698  699\n",
            "  700  729  934  935  936  937  938  939  940  941  942  943  944  945\n",
            "  946  947  948  949  950  951  952  953  955  956  957  959  960  961\n",
            "  962  963  964  965  966  967  968  969  970  971  972  973  974  975\n",
            "  976  977  978  979  980  981  982  983  984  985  986  987  988  989\n",
            "  990  991  992  993  994  995  996  997  998  999 1000 1001 1002 1003\n",
            " 1004 1005 1006 1007 1008 1009 1010 1011 1012 1013 1014 1015 1016 1017\n",
            " 1018 1019 1020 1021 1022 1023 1024 1025 1026 1027 1028 1029 1030 1031\n",
            " 1032 1033 1034 1035 1036 1037 1038 1039 1040 1041 1042 1043 1044 1045\n",
            " 1046 1047 1048 1049 1050 1051 1052 1053 1054 1055 1056 1057 1058 1059\n",
            " 1060 1061 1062 1063 1064 1065 1066 1067 1068 1069 1070 1071 1072 1073\n",
            " 1074 1075 1076 1077 1078 1079 1080 1081 1082 1083 1084 1085 1086 1087\n",
            " 1088 1089 1090 1091 1092 1093 1094 1095 1096 1097 1098 1099 1100 1101\n",
            " 1102 1103 1104 1105 1106 1107 1108 1109 1110 1111 1112 1113 1114 1115\n",
            " 1116 1117 1118 1119 1120 1121 1122 1123 1124 1125 1126 1127 1128 1129\n",
            " 1130 1131 1132 1133 1134 1135 1136 1137 1138 1139 1140 1141 1142 1143\n",
            " 1144 1145 1146 1147 1148 1149 1150 1151 1152 1153 1154 1155 1156 1157\n",
            " 1158 1159 1160 1161 1162 1163 1164 1165 1166 1167 1168]\n",
            "TEST:  [701 702 703 704 705 706 707 708 709 710 711 712 713 714 715 716 717 718\n",
            " 719 720 721 722 723 724 725 726 727 728 730 731 732 733 734 735 736 737\n",
            " 738 739 740 741 742 743 744 745 746 747 748 749 750 751 752 753 754 755\n",
            " 756 757 758 759 760 761 762 763 764 765 766 767 768 769 770 771 772 773\n",
            " 774 775 776 777 778 779 780 781 782 783 784 785 786 787 788 789 790 791\n",
            " 792 793 794 795 796 797 798 799 800 801 802 803 804 805 806 807 808 809\n",
            " 810 811 812 813 814 815 816 817 818 819 820 821 822 823 824 825 826 827\n",
            " 828 829 830 831 832 833 834 835 836 837 838 839 840 841 842 843 844 845\n",
            " 846 847 848 849 850 851 852 853 854 855 856 857 858 859 860 861 862 863\n",
            " 864 865 866 867 868 869 870 871 872 873 874 875 876 877 878 879 880 881\n",
            " 882 883 884 885 886 887 888 889 890 891 892 893 894 895 896 897 898 899\n",
            " 900 901 902 903 904 905 906 907 908 909 910 911 912 913 914 915 916 917\n",
            " 918 919 920 921 922 923 924 925 926 927 928 929 930 931 932 933 954 958]\n",
            "TRAIN : [  0   1   2   3   4   5   6   7   8   9  10  11  12  13  14  15  16  17\n",
            "  18  19  20  21  22  23  24  25  26  27  28  29  30  31  32  33  34  35\n",
            "  36  37  38  39  40  41  42  43  44  45  46  47  48  49  50  51  52  53\n",
            "  54  55  56  57  58  59  60  61  62  63  64  65  66  67  68  69  70  71\n",
            "  72  73  74  75  76  77  78  79  80  81  82  83  84  85  86  87  88  89\n",
            "  90  91  92  93  94  95  96  97  98  99 100 101 102 103 104 105 106 107\n",
            " 108 109 110 111 112 113 114 115 116 117 118 119 120 121 122 123 124 125\n",
            " 126 127 128 129 130 131 132 133 134 135 136 137 138 139 140 141 142 143\n",
            " 144 145 146 147 148 149 150 151 152 153 154 155 156 157 158 159 160 161\n",
            " 162 163 164 165 166 167 168 169 170 171 172 173 174 175 176 177 178 179\n",
            " 180 181 182 183 184 185 186 187 188 189 190 191 192 193 194 195 196 197\n",
            " 198 199 200 201 202 203 204 205 206 207 208 209 210 211 212 213 214 215\n",
            " 216 217 218 219 220 221 222 223 224 225 226 227 228 229 230 231 232 233\n",
            " 234 235 236 237 238 239 240 241 242 243 244 245 246 247 248 249 250 251\n",
            " 252 253 254 255 256 257 258 259 260 261 262 263 264 265 266 267 268 269\n",
            " 270 271 272 273 274 275 276 277 278 279 280 281 282 283 284 285 286 287\n",
            " 288 289 290 291 292 293 294 295 296 297 298 299 300 301 302 303 304 305\n",
            " 306 307 308 309 310 311 312 313 314 315 316 317 318 319 320 321 322 323\n",
            " 324 325 326 327 328 329 330 331 332 333 334 335 336 337 338 339 340 341\n",
            " 342 343 344 345 346 347 348 349 350 351 352 353 354 355 356 357 358 359\n",
            " 360 361 362 363 364 365 366 367 368 369 370 371 372 373 374 375 376 377\n",
            " 378 379 380 381 382 383 384 385 386 387 388 389 390 391 392 393 394 395\n",
            " 396 397 398 399 400 401 402 403 404 405 406 407 408 409 410 411 412 413\n",
            " 414 415 416 417 418 419 420 421 422 423 424 425 426 427 428 429 430 431\n",
            " 432 433 434 435 436 437 438 439 440 441 442 443 444 445 446 447 448 449\n",
            " 450 451 452 453 454 455 456 457 458 459 460 461 462 463 464 465 466 467\n",
            " 468 469 470 471 472 473 474 475 476 477 478 479 480 481 482 483 484 485\n",
            " 486 487 488 489 490 491 492 493 494 495 496 497 498 499 500 501 502 503\n",
            " 504 505 506 507 508 509 510 511 512 513 514 515 516 517 518 519 520 521\n",
            " 522 523 524 525 526 527 528 529 530 531 532 533 534 535 536 537 538 539\n",
            " 540 541 542 543 544 545 546 547 548 549 550 551 552 553 554 555 556 557\n",
            " 558 559 560 561 562 563 564 565 566 567 568 569 570 571 572 573 574 575\n",
            " 576 577 578 579 580 581 582 583 584 585 586 587 588 589 590 591 592 593\n",
            " 594 595 596 597 598 599 600 601 602 603 604 605 606 607 608 609 610 611\n",
            " 612 613 614 615 616 617 618 619 620 621 622 623 624 625 626 627 628 629\n",
            " 630 631 632 633 634 635 636 637 638 639 640 641 642 643 644 645 646 647\n",
            " 648 649 650 651 652 653 654 655 656 657 658 659 660 661 662 663 664 665\n",
            " 666 667 668 669 670 671 672 673 674 675 676 677 678 679 680 681 682 683\n",
            " 684 685 686 687 688 689 690 691 692 693 694 695 696 697 698 699 700 701\n",
            " 702 703 704 705 706 707 708 709 710 711 712 713 714 715 716 717 718 719\n",
            " 720 721 722 723 724 725 726 727 728 729 730 731 732 733 734 735 736 737\n",
            " 738 739 740 741 742 743 744 745 746 747 748 749 750 751 752 753 754 755\n",
            " 756 757 758 759 760 761 762 763 764 765 766 767 768 769 770 771 772 773\n",
            " 774 775 776 777 778 779 780 781 782 783 784 785 786 787 788 789 790 791\n",
            " 792 793 794 795 796 797 798 799 800 801 802 803 804 805 806 807 808 809\n",
            " 810 811 812 813 814 815 816 817 818 819 820 821 822 823 824 825 826 827\n",
            " 828 829 830 831 832 833 834 835 836 837 838 839 840 841 842 843 844 845\n",
            " 846 847 848 849 850 851 852 853 854 855 856 857 858 859 860 861 862 863\n",
            " 864 865 866 867 868 869 870 871 872 873 874 875 876 877 878 879 880 881\n",
            " 882 883 884 885 886 887 888 889 890 891 892 893 894 895 896 897 898 899\n",
            " 900 901 902 903 904 905 906 907 908 909 910 911 912 913 914 915 916 917\n",
            " 918 919 920 921 922 923 924 925 926 927 928 929 930 931 932 933 954 958]\n",
            "TEST:  [ 934  935  936  937  938  939  940  941  942  943  944  945  946  947\n",
            "  948  949  950  951  952  953  955  956  957  959  960  961  962  963\n",
            "  964  965  966  967  968  969  970  971  972  973  974  975  976  977\n",
            "  978  979  980  981  982  983  984  985  986  987  988  989  990  991\n",
            "  992  993  994  995  996  997  998  999 1000 1001 1002 1003 1004 1005\n",
            " 1006 1007 1008 1009 1010 1011 1012 1013 1014 1015 1016 1017 1018 1019\n",
            " 1020 1021 1022 1023 1024 1025 1026 1027 1028 1029 1030 1031 1032 1033\n",
            " 1034 1035 1036 1037 1038 1039 1040 1041 1042 1043 1044 1045 1046 1047\n",
            " 1048 1049 1050 1051 1052 1053 1054 1055 1056 1057 1058 1059 1060 1061\n",
            " 1062 1063 1064 1065 1066 1067 1068 1069 1070 1071 1072 1073 1074 1075\n",
            " 1076 1077 1078 1079 1080 1081 1082 1083 1084 1085 1086 1087 1088 1089\n",
            " 1090 1091 1092 1093 1094 1095 1096 1097 1098 1099 1100 1101 1102 1103\n",
            " 1104 1105 1106 1107 1108 1109 1110 1111 1112 1113 1114 1115 1116 1117\n",
            " 1118 1119 1120 1121 1122 1123 1124 1125 1126 1127 1128 1129 1130 1131\n",
            " 1132 1133 1134 1135 1136 1137 1138 1139 1140 1141 1142 1143 1144 1145\n",
            " 1146 1147 1148 1149 1150 1151 1152 1153 1154 1155 1156 1157 1158 1159\n",
            " 1160 1161 1162 1163 1164 1165 1166 1167 1168]\n",
            "[0.5641025641025641, 0.9273504273504274, 0.9529914529914529, 0.9401709401709402, 0.9785407725321889]\n"
          ]
        }
      ]
    },
    {
      "cell_type": "code",
      "metadata": {
        "colab": {
          "base_uri": "https://localhost:8080/"
        },
        "id": "3R_s5b6jDXHU",
        "outputId": "21e3387e-53a3-426c-b36a-6191931f1785"
      },
      "source": [
        "np.mean(accuracy)"
      ],
      "execution_count": null,
      "outputs": [
        {
          "output_type": "execute_result",
          "data": {
            "text/plain": [
              "0.8726312314295148"
            ]
          },
          "metadata": {},
          "execution_count": 274
        }
      ]
    },
    {
      "cell_type": "code",
      "metadata": {
        "colab": {
          "base_uri": "https://localhost:8080/"
        },
        "id": "949P-h4Q2TsF",
        "outputId": "d54c7a11-cd2e-42ce-ca50-c72e97f559ac"
      },
      "source": [
        "print(classification_report(y1_test, pred))"
      ],
      "execution_count": null,
      "outputs": [
        {
          "output_type": "stream",
          "name": "stdout",
          "text": [
            "              precision    recall  f1-score   support\n",
            "\n",
            "           0       0.99      0.99      0.99       213\n",
            "           1       0.89      0.85      0.87        20\n",
            "\n",
            "    accuracy                           0.98       233\n",
            "   macro avg       0.94      0.92      0.93       233\n",
            "weighted avg       0.98      0.98      0.98       233\n",
            "\n"
          ]
        }
      ]
    },
    {
      "cell_type": "code",
      "metadata": {
        "colab": {
          "base_uri": "https://localhost:8080/"
        },
        "id": "H-jHowXlDbH-",
        "outputId": "aa2e15e0-bbd2-4562-8620-66b0b291600c"
      },
      "source": [
        "print(confusion_matrix(y1_test, pred))"
      ],
      "execution_count": null,
      "outputs": [
        {
          "output_type": "stream",
          "name": "stdout",
          "text": [
            "[[211   2]\n",
            " [  3  17]]\n"
          ]
        }
      ]
    },
    {
      "cell_type": "markdown",
      "metadata": {
        "id": "vkHKDtlGA_Of"
      },
      "source": [
        "# Resampling"
      ]
    },
    {
      "cell_type": "code",
      "metadata": {
        "id": "sQg9xnQ8JDmD",
        "colab": {
          "base_uri": "https://localhost:8080/"
        },
        "outputId": "a9f4fdfd-77e7-4942-f5c2-40c78bc9e8cc"
      },
      "source": [
        "accuracy = []\n",
        "\n",
        "\n",
        "for train_index, test_index in skf.split(X, y):\n",
        "  print(\"TRAIN :\", train_index)\n",
        "  print( \"TEST: \", test_index)\n",
        "  X1_train, X1_test = X.iloc[train_index], X.iloc[test_index]\n",
        "  y1_train, y1_test = y.iloc[train_index], y.iloc[test_index]\n",
        "\n",
        "  model.fit(X1_train, y1_train)\n",
        "  pred = model.predict(X1_test)\n",
        "  score = accuracy_score(pred, y1_test)\n",
        "  accuracy.append(score)\n",
        "\n",
        "print(accuracy)\n"
      ],
      "execution_count": null,
      "outputs": [
        {
          "output_type": "stream",
          "name": "stdout",
          "text": [
            "TRAIN : [ 147  155  163  187  235  239  240  241  242  243  244  245  246  247\n",
            "  248  249  250  251  252  253  254  255  256  257  258  259  260  261\n",
            "  262  263  264  265  266  267  268  269  270  271  272  273  274  275\n",
            "  276  277  278  279  280  281  282  283  284  285  286  287  288  289\n",
            "  290  291  292  293  294  295  296  297  298  299  300  301  302  303\n",
            "  304  305  306  307  308  309  310  311  312  313  314  315  316  317\n",
            "  318  319  320  321  322  323  324  325  326  327  328  329  330  331\n",
            "  332  333  334  335  336  337  338  339  340  341  342  343  344  345\n",
            "  346  347  348  349  350  351  352  353  354  355  356  357  358  359\n",
            "  360  361  362  363  364  365  366  367  368  369  370  371  372  373\n",
            "  374  375  376  377  378  379  380  381  382  383  384  385  386  387\n",
            "  388  389  390  391  392  393  394  395  396  397  398  399  400  401\n",
            "  402  403  404  405  406  407  408  409  410  411  412  413  414  415\n",
            "  416  417  418  419  420  421  422  423  424  425  426  427  428  429\n",
            "  430  431  432  433  434  435  436  437  438  439  440  441  442  443\n",
            "  444  445  446  447  448  449  450  451  452  453  454  455  456  457\n",
            "  458  459  460  461  462  463  464  465  466  467  468  469  470  471\n",
            "  472  473  474  475  476  477  478  479  480  481  482  483  484  485\n",
            "  486  487  488  489  490  491  492  493  494  495  496  497  498  499\n",
            "  500  501  502  503  504  505  506  507  508  509  510  511  512  513\n",
            "  514  515  516  517  518  519  520  521  522  523  524  525  526  527\n",
            "  528  529  530  531  532  533  534  535  536  537  538  539  540  541\n",
            "  542  543  544  545  546  547  548  549  550  551  552  553  554  555\n",
            "  556  557  558  559  560  561  562  563  564  565  566  567  568  569\n",
            "  570  571  572  573  574  575  576  577  578  579  580  581  582  583\n",
            "  584  585  586  587  588  589  590  591  592  593  594  595  596  597\n",
            "  598  599  600  601  602  603  604  605  606  607  608  609  610  611\n",
            "  612  613  614  615  616  617  618  619  620  621  622  623  624  625\n",
            "  626  627  628  629  630  631  632  633  634  635  636  637  638  639\n",
            "  640  641  642  643  644  645  646  647  648  649  650  651  652  653\n",
            "  654  655  656  657  658  659  660  661  662  663  664  665  666  667\n",
            "  668  669  670  671  672  673  674  675  676  677  678  679  680  681\n",
            "  682  683  684  685  686  687  688  689  690  691  692  693  694  695\n",
            "  696  697  698  699  700  701  702  703  704  705  706  707  708  709\n",
            "  710  711  712  713  714  715  716  717  718  719  720  721  722  723\n",
            "  724  725  726  727  728  729  730  731  732  733  734  735  736  737\n",
            "  738  739  740  741  742  743  744  745  746  747  748  749  750  751\n",
            "  752  753  754  755  756  757  758  759  760  761  762  763  764  765\n",
            "  766  767  768  769  770  771  772  773  774  775  776  777  778  779\n",
            "  780  781  782  783  784  785  786  787  788  789  790  791  792  793\n",
            "  794  795  796  797  798  799  800  801  802  803  804  805  806  807\n",
            "  808  809  810  811  812  813  814  815  816  817  818  819  820  821\n",
            "  822  823  824  825  826  827  828  829  830  831  832  833  834  835\n",
            "  836  837  838  839  840  841  842  843  844  845  846  847  848  849\n",
            "  850  851  852  853  854  855  856  857  858  859  860  861  862  863\n",
            "  864  865  866  867  868  869  870  871  872  873  874  875  876  877\n",
            "  878  879  880  881  882  883  884  885  886  887  888  889  890  891\n",
            "  892  893  894  895  896  897  898  899  900  901  902  903  904  905\n",
            "  906  907  908  909  910  911  912  913  914  915  916  917  918  919\n",
            "  920  921  922  923  924  925  926  927  928  929  930  931  932  933\n",
            "  934  935  936  937  938  939  940  941  942  943  944  945  946  947\n",
            "  948  949  950  951  952  953  954  955  956  957  958  959  960  961\n",
            "  962  963  964  965  966  967  968  969  970  971  972  973  974  975\n",
            "  976  977  978  979  980  981  982  983  984  985  986  987  988  989\n",
            "  990  991  992  993  994  995  996  997  998  999 1000 1001 1002 1003\n",
            " 1004 1005 1006 1007 1008 1009 1010 1011 1012 1013 1014 1015 1016 1017\n",
            " 1018 1019 1020 1021 1022 1023 1024 1025 1026 1027 1028 1029 1030 1031\n",
            " 1032 1033 1034 1035 1036 1037 1038 1039 1040 1041 1042 1043 1044 1045\n",
            " 1046 1047 1048 1049 1050 1051 1052 1053 1054 1055 1056 1057 1058 1059\n",
            " 1060 1061 1062 1063 1064 1065 1066 1067 1068 1069 1070 1071 1072 1073\n",
            " 1074 1075 1076 1077 1078 1079 1080 1081 1082 1083 1084 1085 1086 1087\n",
            " 1088 1089 1090 1091 1092 1093 1094 1095 1096 1097 1098 1099 1100 1101\n",
            " 1102 1103 1104 1105 1106 1107 1108 1109 1110 1111 1112 1113 1114 1115\n",
            " 1116 1117 1118 1119 1120 1121 1122 1123 1124 1125 1126 1127 1128 1129\n",
            " 1130 1131 1132 1133 1134 1135 1136 1137 1138 1139 1140 1141 1142 1143\n",
            " 1144 1145 1146 1147 1148 1149 1150 1151 1152 1153 1154 1155 1156 1157\n",
            " 1158 1159 1160 1161 1162 1163 1164 1165 1166 1167 1168]\n",
            "TEST:  [  0   1   2   3   4   5   6   7   8   9  10  11  12  13  14  15  16  17\n",
            "  18  19  20  21  22  23  24  25  26  27  28  29  30  31  32  33  34  35\n",
            "  36  37  38  39  40  41  42  43  44  45  46  47  48  49  50  51  52  53\n",
            "  54  55  56  57  58  59  60  61  62  63  64  65  66  67  68  69  70  71\n",
            "  72  73  74  75  76  77  78  79  80  81  82  83  84  85  86  87  88  89\n",
            "  90  91  92  93  94  95  96  97  98  99 100 101 102 103 104 105 106 107\n",
            " 108 109 110 111 112 113 114 115 116 117 118 119 120 121 122 123 124 125\n",
            " 126 127 128 129 130 131 132 133 134 135 136 137 138 139 140 141 142 143\n",
            " 144 145 146 148 149 150 151 152 153 154 156 157 158 159 160 161 162 164\n",
            " 165 166 167 168 169 170 171 172 173 174 175 176 177 178 179 180 181 182\n",
            " 183 184 185 186 188 189 190 191 192 193 194 195 196 197 198 199 200 201\n",
            " 202 203 204 205 206 207 208 209 210 211 212 213 214 215 216 217 218 219\n",
            " 220 221 222 223 224 225 226 227 228 229 230 231 232 233 234 236 237 238]\n",
            "TRAIN : [   0    1    2    3    4    5    6    7    8    9   10   11   12   13\n",
            "   14   15   16   17   18   19   20   21   22   23   24   25   26   27\n",
            "   28   29   30   31   32   33   34   35   36   37   38   39   40   41\n",
            "   42   43   44   45   46   47   48   49   50   51   52   53   54   55\n",
            "   56   57   58   59   60   61   62   63   64   65   66   67   68   69\n",
            "   70   71   72   73   74   75   76   77   78   79   80   81   82   83\n",
            "   84   85   86   87   88   89   90   91   92   93   94   95   96   97\n",
            "   98   99  100  101  102  103  104  105  106  107  108  109  110  111\n",
            "  112  113  114  115  116  117  118  119  120  121  122  123  124  125\n",
            "  126  127  128  129  130  131  132  133  134  135  136  137  138  139\n",
            "  140  141  142  143  144  145  146  148  149  150  151  152  153  154\n",
            "  156  157  158  159  160  161  162  164  165  166  167  168  169  170\n",
            "  171  172  173  174  175  176  177  178  179  180  181  182  183  184\n",
            "  185  186  188  189  190  191  192  193  194  195  196  197  198  199\n",
            "  200  201  202  203  204  205  206  207  208  209  210  211  212  213\n",
            "  214  215  216  217  218  219  220  221  222  223  224  225  226  227\n",
            "  228  229  230  231  232  233  234  236  237  238  465  466  467  468\n",
            "  469  470  471  472  473  474  475  476  478  479  480  481  482  483\n",
            "  484  485  486  487  488  489  490  492  493  494  495  496  497  498\n",
            "  499  500  501  502  503  504  505  506  507  508  509  510  511  512\n",
            "  513  515  516  517  518  519  520  521  522  523  524  525  526  527\n",
            "  528  529  530  531  532  533  534  535  536  537  538  539  540  541\n",
            "  542  543  544  545  546  547  548  549  550  551  552  553  554  555\n",
            "  556  557  558  559  560  561  562  563  564  565  566  567  568  569\n",
            "  570  571  572  573  574  575  576  577  578  579  580  581  582  583\n",
            "  584  585  586  587  588  589  590  591  592  593  594  595  596  597\n",
            "  598  599  600  601  602  603  604  605  606  607  608  609  610  611\n",
            "  612  613  614  615  616  617  618  619  620  621  622  623  624  625\n",
            "  626  627  628  629  630  631  632  633  634  635  636  637  638  639\n",
            "  640  641  642  643  644  645  646  647  648  649  650  651  652  653\n",
            "  654  655  656  657  658  659  660  661  662  663  664  665  666  667\n",
            "  668  669  670  671  672  673  674  675  676  677  678  679  680  681\n",
            "  682  683  684  685  686  687  688  689  690  691  692  693  694  695\n",
            "  696  697  698  699  700  701  702  703  704  705  706  707  708  709\n",
            "  710  711  712  713  714  715  716  717  718  719  720  721  722  723\n",
            "  724  725  726  727  728  729  730  731  732  733  734  735  736  737\n",
            "  738  739  740  741  742  743  744  745  746  747  748  749  750  751\n",
            "  752  753  754  755  756  757  758  759  760  761  762  763  764  765\n",
            "  766  767  768  769  770  771  772  773  774  775  776  777  778  779\n",
            "  780  781  782  783  784  785  786  787  788  789  790  791  792  793\n",
            "  794  795  796  797  798  799  800  801  802  803  804  805  806  807\n",
            "  808  809  810  811  812  813  814  815  816  817  818  819  820  821\n",
            "  822  823  824  825  826  827  828  829  830  831  832  833  834  835\n",
            "  836  837  838  839  840  841  842  843  844  845  846  847  848  849\n",
            "  850  851  852  853  854  855  856  857  858  859  860  861  862  863\n",
            "  864  865  866  867  868  869  870  871  872  873  874  875  876  877\n",
            "  878  879  880  881  882  883  884  885  886  887  888  889  890  891\n",
            "  892  893  894  895  896  897  898  899  900  901  902  903  904  905\n",
            "  906  907  908  909  910  911  912  913  914  915  916  917  918  919\n",
            "  920  921  922  923  924  925  926  927  928  929  930  931  932  933\n",
            "  934  935  936  937  938  939  940  941  942  943  944  945  946  947\n",
            "  948  949  950  951  952  953  954  955  956  957  958  959  960  961\n",
            "  962  963  964  965  966  967  968  969  970  971  972  973  974  975\n",
            "  976  977  978  979  980  981  982  983  984  985  986  987  988  989\n",
            "  990  991  992  993  994  995  996  997  998  999 1000 1001 1002 1003\n",
            " 1004 1005 1006 1007 1008 1009 1010 1011 1012 1013 1014 1015 1016 1017\n",
            " 1018 1019 1020 1021 1022 1023 1024 1025 1026 1027 1028 1029 1030 1031\n",
            " 1032 1033 1034 1035 1036 1037 1038 1039 1040 1041 1042 1043 1044 1045\n",
            " 1046 1047 1048 1049 1050 1051 1052 1053 1054 1055 1056 1057 1058 1059\n",
            " 1060 1061 1062 1063 1064 1065 1066 1067 1068 1069 1070 1071 1072 1073\n",
            " 1074 1075 1076 1077 1078 1079 1080 1081 1082 1083 1084 1085 1086 1087\n",
            " 1088 1089 1090 1091 1092 1093 1094 1095 1096 1097 1098 1099 1100 1101\n",
            " 1102 1103 1104 1105 1106 1107 1108 1109 1110 1111 1112 1113 1114 1115\n",
            " 1116 1117 1118 1119 1120 1121 1122 1123 1124 1125 1126 1127 1128 1129\n",
            " 1130 1131 1132 1133 1134 1135 1136 1137 1138 1139 1140 1141 1142 1143\n",
            " 1144 1145 1146 1147 1148 1149 1150 1151 1152 1153 1154 1155 1156 1157\n",
            " 1158 1159 1160 1161 1162 1163 1164 1165 1166 1167 1168]\n",
            "TEST:  [147 155 163 187 235 239 240 241 242 243 244 245 246 247 248 249 250 251\n",
            " 252 253 254 255 256 257 258 259 260 261 262 263 264 265 266 267 268 269\n",
            " 270 271 272 273 274 275 276 277 278 279 280 281 282 283 284 285 286 287\n",
            " 288 289 290 291 292 293 294 295 296 297 298 299 300 301 302 303 304 305\n",
            " 306 307 308 309 310 311 312 313 314 315 316 317 318 319 320 321 322 323\n",
            " 324 325 326 327 328 329 330 331 332 333 334 335 336 337 338 339 340 341\n",
            " 342 343 344 345 346 347 348 349 350 351 352 353 354 355 356 357 358 359\n",
            " 360 361 362 363 364 365 366 367 368 369 370 371 372 373 374 375 376 377\n",
            " 378 379 380 381 382 383 384 385 386 387 388 389 390 391 392 393 394 395\n",
            " 396 397 398 399 400 401 402 403 404 405 406 407 408 409 410 411 412 413\n",
            " 414 415 416 417 418 419 420 421 422 423 424 425 426 427 428 429 430 431\n",
            " 432 433 434 435 436 437 438 439 440 441 442 443 444 445 446 447 448 449\n",
            " 450 451 452 453 454 455 456 457 458 459 460 461 462 463 464 477 491 514]\n",
            "TRAIN : [   0    1    2    3    4    5    6    7    8    9   10   11   12   13\n",
            "   14   15   16   17   18   19   20   21   22   23   24   25   26   27\n",
            "   28   29   30   31   32   33   34   35   36   37   38   39   40   41\n",
            "   42   43   44   45   46   47   48   49   50   51   52   53   54   55\n",
            "   56   57   58   59   60   61   62   63   64   65   66   67   68   69\n",
            "   70   71   72   73   74   75   76   77   78   79   80   81   82   83\n",
            "   84   85   86   87   88   89   90   91   92   93   94   95   96   97\n",
            "   98   99  100  101  102  103  104  105  106  107  108  109  110  111\n",
            "  112  113  114  115  116  117  118  119  120  121  122  123  124  125\n",
            "  126  127  128  129  130  131  132  133  134  135  136  137  138  139\n",
            "  140  141  142  143  144  145  146  147  148  149  150  151  152  153\n",
            "  154  155  156  157  158  159  160  161  162  163  164  165  166  167\n",
            "  168  169  170  171  172  173  174  175  176  177  178  179  180  181\n",
            "  182  183  184  185  186  187  188  189  190  191  192  193  194  195\n",
            "  196  197  198  199  200  201  202  203  204  205  206  207  208  209\n",
            "  210  211  212  213  214  215  216  217  218  219  220  221  222  223\n",
            "  224  225  226  227  228  229  230  231  232  233  234  235  236  237\n",
            "  238  239  240  241  242  243  244  245  246  247  248  249  250  251\n",
            "  252  253  254  255  256  257  258  259  260  261  262  263  264  265\n",
            "  266  267  268  269  270  271  272  273  274  275  276  277  278  279\n",
            "  280  281  282  283  284  285  286  287  288  289  290  291  292  293\n",
            "  294  295  296  297  298  299  300  301  302  303  304  305  306  307\n",
            "  308  309  310  311  312  313  314  315  316  317  318  319  320  321\n",
            "  322  323  324  325  326  327  328  329  330  331  332  333  334  335\n",
            "  336  337  338  339  340  341  342  343  344  345  346  347  348  349\n",
            "  350  351  352  353  354  355  356  357  358  359  360  361  362  363\n",
            "  364  365  366  367  368  369  370  371  372  373  374  375  376  377\n",
            "  378  379  380  381  382  383  384  385  386  387  388  389  390  391\n",
            "  392  393  394  395  396  397  398  399  400  401  402  403  404  405\n",
            "  406  407  408  409  410  411  412  413  414  415  416  417  418  419\n",
            "  420  421  422  423  424  425  426  427  428  429  430  431  432  433\n",
            "  434  435  436  437  438  439  440  441  442  443  444  445  446  447\n",
            "  448  449  450  451  452  453  454  455  456  457  458  459  460  461\n",
            "  462  463  464  477  491  514  701  702  703  704  705  706  707  708\n",
            "  709  710  711  712  713  714  715  716  717  718  719  720  721  722\n",
            "  723  724  725  726  727  728  730  731  732  733  734  735  736  737\n",
            "  738  739  740  741  742  743  744  745  746  747  748  749  750  751\n",
            "  752  753  754  755  756  757  758  759  760  761  762  763  764  765\n",
            "  766  767  768  769  770  771  772  773  774  775  776  777  778  779\n",
            "  780  781  782  783  784  785  786  787  788  789  790  791  792  793\n",
            "  794  795  796  797  798  799  800  801  802  803  804  805  806  807\n",
            "  808  809  810  811  812  813  814  815  816  817  818  819  820  821\n",
            "  822  823  824  825  826  827  828  829  830  831  832  833  834  835\n",
            "  836  837  838  839  840  841  842  843  844  845  846  847  848  849\n",
            "  850  851  852  853  854  855  856  857  858  859  860  861  862  863\n",
            "  864  865  866  867  868  869  870  871  872  873  874  875  876  877\n",
            "  878  879  880  881  882  883  884  885  886  887  888  889  890  891\n",
            "  892  893  894  895  896  897  898  899  900  901  902  903  904  905\n",
            "  906  907  908  909  910  911  912  913  914  915  916  917  918  919\n",
            "  920  921  922  923  924  925  926  927  928  929  930  931  932  933\n",
            "  934  935  936  937  938  939  940  941  942  943  944  945  946  947\n",
            "  948  949  950  951  952  953  954  955  956  957  958  959  960  961\n",
            "  962  963  964  965  966  967  968  969  970  971  972  973  974  975\n",
            "  976  977  978  979  980  981  982  983  984  985  986  987  988  989\n",
            "  990  991  992  993  994  995  996  997  998  999 1000 1001 1002 1003\n",
            " 1004 1005 1006 1007 1008 1009 1010 1011 1012 1013 1014 1015 1016 1017\n",
            " 1018 1019 1020 1021 1022 1023 1024 1025 1026 1027 1028 1029 1030 1031\n",
            " 1032 1033 1034 1035 1036 1037 1038 1039 1040 1041 1042 1043 1044 1045\n",
            " 1046 1047 1048 1049 1050 1051 1052 1053 1054 1055 1056 1057 1058 1059\n",
            " 1060 1061 1062 1063 1064 1065 1066 1067 1068 1069 1070 1071 1072 1073\n",
            " 1074 1075 1076 1077 1078 1079 1080 1081 1082 1083 1084 1085 1086 1087\n",
            " 1088 1089 1090 1091 1092 1093 1094 1095 1096 1097 1098 1099 1100 1101\n",
            " 1102 1103 1104 1105 1106 1107 1108 1109 1110 1111 1112 1113 1114 1115\n",
            " 1116 1117 1118 1119 1120 1121 1122 1123 1124 1125 1126 1127 1128 1129\n",
            " 1130 1131 1132 1133 1134 1135 1136 1137 1138 1139 1140 1141 1142 1143\n",
            " 1144 1145 1146 1147 1148 1149 1150 1151 1152 1153 1154 1155 1156 1157\n",
            " 1158 1159 1160 1161 1162 1163 1164 1165 1166 1167 1168]\n",
            "TEST:  [465 466 467 468 469 470 471 472 473 474 475 476 478 479 480 481 482 483\n",
            " 484 485 486 487 488 489 490 492 493 494 495 496 497 498 499 500 501 502\n",
            " 503 504 505 506 507 508 509 510 511 512 513 515 516 517 518 519 520 521\n",
            " 522 523 524 525 526 527 528 529 530 531 532 533 534 535 536 537 538 539\n",
            " 540 541 542 543 544 545 546 547 548 549 550 551 552 553 554 555 556 557\n",
            " 558 559 560 561 562 563 564 565 566 567 568 569 570 571 572 573 574 575\n",
            " 576 577 578 579 580 581 582 583 584 585 586 587 588 589 590 591 592 593\n",
            " 594 595 596 597 598 599 600 601 602 603 604 605 606 607 608 609 610 611\n",
            " 612 613 614 615 616 617 618 619 620 621 622 623 624 625 626 627 628 629\n",
            " 630 631 632 633 634 635 636 637 638 639 640 641 642 643 644 645 646 647\n",
            " 648 649 650 651 652 653 654 655 656 657 658 659 660 661 662 663 664 665\n",
            " 666 667 668 669 670 671 672 673 674 675 676 677 678 679 680 681 682 683\n",
            " 684 685 686 687 688 689 690 691 692 693 694 695 696 697 698 699 700 729]\n",
            "TRAIN : [   0    1    2    3    4    5    6    7    8    9   10   11   12   13\n",
            "   14   15   16   17   18   19   20   21   22   23   24   25   26   27\n",
            "   28   29   30   31   32   33   34   35   36   37   38   39   40   41\n",
            "   42   43   44   45   46   47   48   49   50   51   52   53   54   55\n",
            "   56   57   58   59   60   61   62   63   64   65   66   67   68   69\n",
            "   70   71   72   73   74   75   76   77   78   79   80   81   82   83\n",
            "   84   85   86   87   88   89   90   91   92   93   94   95   96   97\n",
            "   98   99  100  101  102  103  104  105  106  107  108  109  110  111\n",
            "  112  113  114  115  116  117  118  119  120  121  122  123  124  125\n",
            "  126  127  128  129  130  131  132  133  134  135  136  137  138  139\n",
            "  140  141  142  143  144  145  146  147  148  149  150  151  152  153\n",
            "  154  155  156  157  158  159  160  161  162  163  164  165  166  167\n",
            "  168  169  170  171  172  173  174  175  176  177  178  179  180  181\n",
            "  182  183  184  185  186  187  188  189  190  191  192  193  194  195\n",
            "  196  197  198  199  200  201  202  203  204  205  206  207  208  209\n",
            "  210  211  212  213  214  215  216  217  218  219  220  221  222  223\n",
            "  224  225  226  227  228  229  230  231  232  233  234  235  236  237\n",
            "  238  239  240  241  242  243  244  245  246  247  248  249  250  251\n",
            "  252  253  254  255  256  257  258  259  260  261  262  263  264  265\n",
            "  266  267  268  269  270  271  272  273  274  275  276  277  278  279\n",
            "  280  281  282  283  284  285  286  287  288  289  290  291  292  293\n",
            "  294  295  296  297  298  299  300  301  302  303  304  305  306  307\n",
            "  308  309  310  311  312  313  314  315  316  317  318  319  320  321\n",
            "  322  323  324  325  326  327  328  329  330  331  332  333  334  335\n",
            "  336  337  338  339  340  341  342  343  344  345  346  347  348  349\n",
            "  350  351  352  353  354  355  356  357  358  359  360  361  362  363\n",
            "  364  365  366  367  368  369  370  371  372  373  374  375  376  377\n",
            "  378  379  380  381  382  383  384  385  386  387  388  389  390  391\n",
            "  392  393  394  395  396  397  398  399  400  401  402  403  404  405\n",
            "  406  407  408  409  410  411  412  413  414  415  416  417  418  419\n",
            "  420  421  422  423  424  425  426  427  428  429  430  431  432  433\n",
            "  434  435  436  437  438  439  440  441  442  443  444  445  446  447\n",
            "  448  449  450  451  452  453  454  455  456  457  458  459  460  461\n",
            "  462  463  464  465  466  467  468  469  470  471  472  473  474  475\n",
            "  476  477  478  479  480  481  482  483  484  485  486  487  488  489\n",
            "  490  491  492  493  494  495  496  497  498  499  500  501  502  503\n",
            "  504  505  506  507  508  509  510  511  512  513  514  515  516  517\n",
            "  518  519  520  521  522  523  524  525  526  527  528  529  530  531\n",
            "  532  533  534  535  536  537  538  539  540  541  542  543  544  545\n",
            "  546  547  548  549  550  551  552  553  554  555  556  557  558  559\n",
            "  560  561  562  563  564  565  566  567  568  569  570  571  572  573\n",
            "  574  575  576  577  578  579  580  581  582  583  584  585  586  587\n",
            "  588  589  590  591  592  593  594  595  596  597  598  599  600  601\n",
            "  602  603  604  605  606  607  608  609  610  611  612  613  614  615\n",
            "  616  617  618  619  620  621  622  623  624  625  626  627  628  629\n",
            "  630  631  632  633  634  635  636  637  638  639  640  641  642  643\n",
            "  644  645  646  647  648  649  650  651  652  653  654  655  656  657\n",
            "  658  659  660  661  662  663  664  665  666  667  668  669  670  671\n",
            "  672  673  674  675  676  677  678  679  680  681  682  683  684  685\n",
            "  686  687  688  689  690  691  692  693  694  695  696  697  698  699\n",
            "  700  729  934  935  936  937  938  939  940  941  942  943  944  945\n",
            "  946  947  948  949  950  951  952  953  955  956  957  959  960  961\n",
            "  962  963  964  965  966  967  968  969  970  971  972  973  974  975\n",
            "  976  977  978  979  980  981  982  983  984  985  986  987  988  989\n",
            "  990  991  992  993  994  995  996  997  998  999 1000 1001 1002 1003\n",
            " 1004 1005 1006 1007 1008 1009 1010 1011 1012 1013 1014 1015 1016 1017\n",
            " 1018 1019 1020 1021 1022 1023 1024 1025 1026 1027 1028 1029 1030 1031\n",
            " 1032 1033 1034 1035 1036 1037 1038 1039 1040 1041 1042 1043 1044 1045\n",
            " 1046 1047 1048 1049 1050 1051 1052 1053 1054 1055 1056 1057 1058 1059\n",
            " 1060 1061 1062 1063 1064 1065 1066 1067 1068 1069 1070 1071 1072 1073\n",
            " 1074 1075 1076 1077 1078 1079 1080 1081 1082 1083 1084 1085 1086 1087\n",
            " 1088 1089 1090 1091 1092 1093 1094 1095 1096 1097 1098 1099 1100 1101\n",
            " 1102 1103 1104 1105 1106 1107 1108 1109 1110 1111 1112 1113 1114 1115\n",
            " 1116 1117 1118 1119 1120 1121 1122 1123 1124 1125 1126 1127 1128 1129\n",
            " 1130 1131 1132 1133 1134 1135 1136 1137 1138 1139 1140 1141 1142 1143\n",
            " 1144 1145 1146 1147 1148 1149 1150 1151 1152 1153 1154 1155 1156 1157\n",
            " 1158 1159 1160 1161 1162 1163 1164 1165 1166 1167 1168]\n",
            "TEST:  [701 702 703 704 705 706 707 708 709 710 711 712 713 714 715 716 717 718\n",
            " 719 720 721 722 723 724 725 726 727 728 730 731 732 733 734 735 736 737\n",
            " 738 739 740 741 742 743 744 745 746 747 748 749 750 751 752 753 754 755\n",
            " 756 757 758 759 760 761 762 763 764 765 766 767 768 769 770 771 772 773\n",
            " 774 775 776 777 778 779 780 781 782 783 784 785 786 787 788 789 790 791\n",
            " 792 793 794 795 796 797 798 799 800 801 802 803 804 805 806 807 808 809\n",
            " 810 811 812 813 814 815 816 817 818 819 820 821 822 823 824 825 826 827\n",
            " 828 829 830 831 832 833 834 835 836 837 838 839 840 841 842 843 844 845\n",
            " 846 847 848 849 850 851 852 853 854 855 856 857 858 859 860 861 862 863\n",
            " 864 865 866 867 868 869 870 871 872 873 874 875 876 877 878 879 880 881\n",
            " 882 883 884 885 886 887 888 889 890 891 892 893 894 895 896 897 898 899\n",
            " 900 901 902 903 904 905 906 907 908 909 910 911 912 913 914 915 916 917\n",
            " 918 919 920 921 922 923 924 925 926 927 928 929 930 931 932 933 954 958]\n",
            "TRAIN : [  0   1   2   3   4   5   6   7   8   9  10  11  12  13  14  15  16  17\n",
            "  18  19  20  21  22  23  24  25  26  27  28  29  30  31  32  33  34  35\n",
            "  36  37  38  39  40  41  42  43  44  45  46  47  48  49  50  51  52  53\n",
            "  54  55  56  57  58  59  60  61  62  63  64  65  66  67  68  69  70  71\n",
            "  72  73  74  75  76  77  78  79  80  81  82  83  84  85  86  87  88  89\n",
            "  90  91  92  93  94  95  96  97  98  99 100 101 102 103 104 105 106 107\n",
            " 108 109 110 111 112 113 114 115 116 117 118 119 120 121 122 123 124 125\n",
            " 126 127 128 129 130 131 132 133 134 135 136 137 138 139 140 141 142 143\n",
            " 144 145 146 147 148 149 150 151 152 153 154 155 156 157 158 159 160 161\n",
            " 162 163 164 165 166 167 168 169 170 171 172 173 174 175 176 177 178 179\n",
            " 180 181 182 183 184 185 186 187 188 189 190 191 192 193 194 195 196 197\n",
            " 198 199 200 201 202 203 204 205 206 207 208 209 210 211 212 213 214 215\n",
            " 216 217 218 219 220 221 222 223 224 225 226 227 228 229 230 231 232 233\n",
            " 234 235 236 237 238 239 240 241 242 243 244 245 246 247 248 249 250 251\n",
            " 252 253 254 255 256 257 258 259 260 261 262 263 264 265 266 267 268 269\n",
            " 270 271 272 273 274 275 276 277 278 279 280 281 282 283 284 285 286 287\n",
            " 288 289 290 291 292 293 294 295 296 297 298 299 300 301 302 303 304 305\n",
            " 306 307 308 309 310 311 312 313 314 315 316 317 318 319 320 321 322 323\n",
            " 324 325 326 327 328 329 330 331 332 333 334 335 336 337 338 339 340 341\n",
            " 342 343 344 345 346 347 348 349 350 351 352 353 354 355 356 357 358 359\n",
            " 360 361 362 363 364 365 366 367 368 369 370 371 372 373 374 375 376 377\n",
            " 378 379 380 381 382 383 384 385 386 387 388 389 390 391 392 393 394 395\n",
            " 396 397 398 399 400 401 402 403 404 405 406 407 408 409 410 411 412 413\n",
            " 414 415 416 417 418 419 420 421 422 423 424 425 426 427 428 429 430 431\n",
            " 432 433 434 435 436 437 438 439 440 441 442 443 444 445 446 447 448 449\n",
            " 450 451 452 453 454 455 456 457 458 459 460 461 462 463 464 465 466 467\n",
            " 468 469 470 471 472 473 474 475 476 477 478 479 480 481 482 483 484 485\n",
            " 486 487 488 489 490 491 492 493 494 495 496 497 498 499 500 501 502 503\n",
            " 504 505 506 507 508 509 510 511 512 513 514 515 516 517 518 519 520 521\n",
            " 522 523 524 525 526 527 528 529 530 531 532 533 534 535 536 537 538 539\n",
            " 540 541 542 543 544 545 546 547 548 549 550 551 552 553 554 555 556 557\n",
            " 558 559 560 561 562 563 564 565 566 567 568 569 570 571 572 573 574 575\n",
            " 576 577 578 579 580 581 582 583 584 585 586 587 588 589 590 591 592 593\n",
            " 594 595 596 597 598 599 600 601 602 603 604 605 606 607 608 609 610 611\n",
            " 612 613 614 615 616 617 618 619 620 621 622 623 624 625 626 627 628 629\n",
            " 630 631 632 633 634 635 636 637 638 639 640 641 642 643 644 645 646 647\n",
            " 648 649 650 651 652 653 654 655 656 657 658 659 660 661 662 663 664 665\n",
            " 666 667 668 669 670 671 672 673 674 675 676 677 678 679 680 681 682 683\n",
            " 684 685 686 687 688 689 690 691 692 693 694 695 696 697 698 699 700 701\n",
            " 702 703 704 705 706 707 708 709 710 711 712 713 714 715 716 717 718 719\n",
            " 720 721 722 723 724 725 726 727 728 729 730 731 732 733 734 735 736 737\n",
            " 738 739 740 741 742 743 744 745 746 747 748 749 750 751 752 753 754 755\n",
            " 756 757 758 759 760 761 762 763 764 765 766 767 768 769 770 771 772 773\n",
            " 774 775 776 777 778 779 780 781 782 783 784 785 786 787 788 789 790 791\n",
            " 792 793 794 795 796 797 798 799 800 801 802 803 804 805 806 807 808 809\n",
            " 810 811 812 813 814 815 816 817 818 819 820 821 822 823 824 825 826 827\n",
            " 828 829 830 831 832 833 834 835 836 837 838 839 840 841 842 843 844 845\n",
            " 846 847 848 849 850 851 852 853 854 855 856 857 858 859 860 861 862 863\n",
            " 864 865 866 867 868 869 870 871 872 873 874 875 876 877 878 879 880 881\n",
            " 882 883 884 885 886 887 888 889 890 891 892 893 894 895 896 897 898 899\n",
            " 900 901 902 903 904 905 906 907 908 909 910 911 912 913 914 915 916 917\n",
            " 918 919 920 921 922 923 924 925 926 927 928 929 930 931 932 933 954 958]\n",
            "TEST:  [ 934  935  936  937  938  939  940  941  942  943  944  945  946  947\n",
            "  948  949  950  951  952  953  955  956  957  959  960  961  962  963\n",
            "  964  965  966  967  968  969  970  971  972  973  974  975  976  977\n",
            "  978  979  980  981  982  983  984  985  986  987  988  989  990  991\n",
            "  992  993  994  995  996  997  998  999 1000 1001 1002 1003 1004 1005\n",
            " 1006 1007 1008 1009 1010 1011 1012 1013 1014 1015 1016 1017 1018 1019\n",
            " 1020 1021 1022 1023 1024 1025 1026 1027 1028 1029 1030 1031 1032 1033\n",
            " 1034 1035 1036 1037 1038 1039 1040 1041 1042 1043 1044 1045 1046 1047\n",
            " 1048 1049 1050 1051 1052 1053 1054 1055 1056 1057 1058 1059 1060 1061\n",
            " 1062 1063 1064 1065 1066 1067 1068 1069 1070 1071 1072 1073 1074 1075\n",
            " 1076 1077 1078 1079 1080 1081 1082 1083 1084 1085 1086 1087 1088 1089\n",
            " 1090 1091 1092 1093 1094 1095 1096 1097 1098 1099 1100 1101 1102 1103\n",
            " 1104 1105 1106 1107 1108 1109 1110 1111 1112 1113 1114 1115 1116 1117\n",
            " 1118 1119 1120 1121 1122 1123 1124 1125 1126 1127 1128 1129 1130 1131\n",
            " 1132 1133 1134 1135 1136 1137 1138 1139 1140 1141 1142 1143 1144 1145\n",
            " 1146 1147 1148 1149 1150 1151 1152 1153 1154 1155 1156 1157 1158 1159\n",
            " 1160 1161 1162 1163 1164 1165 1166 1167 1168]\n",
            "[0.6196581196581197, 0.9273504273504274, 0.9529914529914529, 0.9401709401709402, 0.9613733905579399]\n"
          ]
        }
      ]
    },
    {
      "cell_type": "code",
      "metadata": {
        "colab": {
          "base_uri": "https://localhost:8080/"
        },
        "id": "IYwvEUkKxqQ0",
        "outputId": "db00d75b-9c24-4aca-b317-fcb7226e9f70"
      },
      "source": [
        "np.mean(accuracy)"
      ],
      "execution_count": null,
      "outputs": [
        {
          "output_type": "execute_result",
          "data": {
            "text/plain": [
              "0.8803088661457761"
            ]
          },
          "metadata": {},
          "execution_count": 256
        }
      ]
    },
    {
      "cell_type": "code",
      "metadata": {
        "colab": {
          "base_uri": "https://localhost:8080/"
        },
        "id": "fSA0B63BIiep",
        "outputId": "d5836a46-23b4-4c30-8cc9-1623ed8a6620"
      },
      "source": [
        "##Using SMOTE-ENN to balance the data\n",
        "#Define model\n",
        "model=RandomForestClassifier()\n",
        "#Define SMOTE-ENN\n",
        "resample=SMOTEENN(enn=EditedNearestNeighbours(sampling_strategy='all'))\n",
        "#Define pipeline\n",
        "pipeline=Pipeline(steps=[('r', resample), ('m', model)])\n",
        "#Define evaluation procedure (here we use Repeated Stratified K-Fold CV)\n",
        "cv=RepeatedStratifiedKFold(n_splits=10, n_repeats=3, random_state=1)\n",
        "#Evaluate model\n",
        "scoring=['accuracy','precision_macro','recall_macro','f1_macro']\n",
        "scores = cross_validate(pipeline, X, y, scoring=scoring, cv=cv, n_jobs=-1)\n",
        "\n",
        "# summarize performance\n",
        "print('Mean Accuracy: %.4f' % np.mean(scores['test_accuracy']))\n",
        "print('Mean Precision: %.4f' % np.mean(scores['test_precision_macro']))\n",
        "print('Mean Recall: %.4f' % np.mean(scores['test_recall_macro']))\n",
        "print('Mean f1: %.4f' % np.mean(scores['test_f1_macro']))"
      ],
      "execution_count": null,
      "outputs": [
        {
          "output_type": "stream",
          "name": "stdout",
          "text": [
            "Mean Accuracy: 0.9373\n",
            "Mean Precision: 0.8042\n",
            "Mean Recall: 0.8340\n",
            "Mean f1: 0.8152\n"
          ]
        }
      ]
    }
  ]
}